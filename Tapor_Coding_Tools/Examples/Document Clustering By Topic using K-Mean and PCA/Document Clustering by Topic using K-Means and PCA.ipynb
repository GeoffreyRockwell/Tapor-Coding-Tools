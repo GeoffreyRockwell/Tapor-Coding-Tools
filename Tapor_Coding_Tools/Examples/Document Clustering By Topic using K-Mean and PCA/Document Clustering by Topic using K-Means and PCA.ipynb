{
 "cells": [
  {
   "cell_type": "markdown",
   "metadata": {},
   "source": [
    "# Document Clustering by Topic using K-Means and PCA\n",
    "\n",
    "This notebook's aim is to cluster documents based on features gathered from tf-idf vectorization. This is done by first cleaning the text, vectorizing tf-idf the content, and then using k-mean to discover the topics of the corpus. We then use Principal Component Analysis (PCA) to create the distance matrix for visualization. \n",
    "\n",
    "## Library and Resources used\n",
    "\n",
    "-  Python 3\n",
    "-  Natural Language Toolkit \n",
    "-  Panda\n",
    "-  Numpy\n",
    "-  Scikit-learn (Machine Learning in Python)\n",
    "-  SciPy (Open-source Software for Mathematics, Science, and Engineering)\n",
    "-  Matplotlib (Plotting)\n",
    "\n",
    "## Note:\n",
    "\n",
    "For installation of the nessesary resources and libraries refer to their respective home page for installation steps for your operation system.\n",
    "\n",
    "In this tutorial we will be using novels gathered from Gutenberg. It is important to note the novels being used are exclusively from Arthur Conan Doyle, Jane Austen, and Charles Dickens. \n",
    "\n",
    "The novels have already had some cleaning done to them. This involved removing the additional notes made by Gutenberg (inlcuding trademarks, notes about the book, branding) from the start and end of each novel.\n",
    "\n",
    "This Notebook is based and expands upon on a pre-existing IPython Notebook https://github.com/brandomr/document_cluster\n",
    "\n",
    "This Notebook is also similar to \"Document Clustering by Topic using K-Means and MDS\". They share the exact same code until we attempt to visualize the results of the clustering."
   ]
  },
  {
   "cell_type": "markdown",
   "metadata": {},
   "source": [
    "### Importing the Requried Libaries"
   ]
  },
  {
   "cell_type": "code",
<<<<<<< HEAD
   "execution_count": 1,
   "metadata": {
    "collapsed": true
   },
=======
   "execution_count": 2,
   "metadata": {},
>>>>>>> upstream/master
   "outputs": [],
   "source": [
    "# Importing base libraries\n",
    "import re\n",
    "import os\n",
    "import codecs\n",
    "import glob\n",
    "from __future__ import print_function\n",
    "\n",
    "# Import nltk\n",
    "import nltk\n",
    "from nltk.stem.snowball import SnowballStemmer\n",
    "from nltk.tag import pos_tag\n",
    "\n",
    "# Import matplotlib\n",
    "import matplotlib.pyplot as plt\n",
    "import matplotlib as mpl\n",
    "\n",
    "# Import Sklearn\n",
    "from sklearn import feature_extraction\n",
    "from sklearn.feature_extraction.text import TfidfVectorizer\n",
    "from sklearn.cluster import KMeans\n",
    "from sklearn.metrics.pairwise import cosine_similarity\n",
    "from sklearn.decomposition import PCA\n",
    "from sklearn.externals import joblib\n",
    "from scipy.cluster.hierarchy import ward, dendrogram\n",
    "\n",
    "# Import Remaining libaries\n",
    "import numpy as np\n",
    "import pandas as pd\n",
    "\n",
    "# Ensure we can see plots inside Jupyter notebook\n",
    "%matplotlib inline"
   ]
  },
  {
   "cell_type": "markdown",
   "metadata": {},
   "source": [
    "### Gathering Text from the Novels\n",
    "\n",
    "The first step is to collect the names of each novel and their content. This is done by going through all the texts in the \"Novels\" folder. It is important to note the order in which we save both the novel's content and name is synchronized."
   ]
  },
  {
   "cell_type": "code",
<<<<<<< HEAD
   "execution_count": 2,
=======
   "execution_count": 3,
>>>>>>> upstream/master
   "metadata": {
    "collapsed": true
   },
   "outputs": [],
   "source": [
    "# Set path to the file with novels\n",
    "path = \"./Novels\"\n",
    "\n",
    "# Save all the titles of the texts\n",
    "textName = []\n",
    "\n",
    "# Save all the content of the texts\n",
    "textContent = []\n",
    "\n",
    "# Go to the directory with all the text files\n",
    "for filename in os.listdir(path):\n",
    "    \n",
    "    # Add the file name and remove the file type (in this case \".txt\")\n",
    "    textName.append(filename[:-4])\n",
    "    \n",
    "    # Open each file and add all the content \n",
    "    with open(path + '/' + filename, encoding=\"utf-8\", mode=\"r\") as file:\n",
    "         fileContent = file.read()\n",
    "\n",
    "    # Add the content of the file\n",
    "    textContent.append(fileContent)"
   ]
  },
  {
   "cell_type": "markdown",
   "metadata": {},
   "source": [
    "### Checkpoint\n",
    "\n",
    "This is just to double check that we an have equal amount of titles to content."
   ]
  },
  {
   "cell_type": "code",
<<<<<<< HEAD
   "execution_count": 3,
=======
   "execution_count": 4,
>>>>>>> upstream/master
   "metadata": {},
   "outputs": [
    {
     "name": "stdout",
     "output_type": "stream",
     "text": [
      "The amount of text titles matches the amount of text content\n"
     ]
    }
   ],
   "source": [
    "# Check the amount of text being analysis equals the amount of text titles we recorded\n",
    "if len(textName) == len(textContent):\n",
    "    print(\"The amount of text titles matches the amount of text content\")\n",
    "else:\n",
    "    print(\"Amount of content and titles do not match\")"
   ]
  },
  {
   "cell_type": "markdown",
   "metadata": {},
   "source": [
    "### Cleaning the Text\n",
    "\n",
    "Now we begin cleaning the texts, in addition to the pre-cleaning as mentioned before. We first must define some cleaning tools.\n",
    "\n",
    "The first being stopwords. The second is stemming words. This means \"happening\", and \"happened\" are converted to the same root word, \"happen\"."
   ]
  },
  {
   "cell_type": "code",
<<<<<<< HEAD
   "execution_count": 4,
=======
   "execution_count": 5,
>>>>>>> upstream/master
   "metadata": {
    "collapsed": true
   },
   "outputs": [],
   "source": [
    "# load nltk's English stopwords as variable called 'stopwords'\n",
    "stopwords = nltk.corpus.stopwords.words('english')\n",
    "\n",
    "# Use snowballer to break words into their roots\n",
    "stemmer = SnowballStemmer(\"english\", ignore_stopwords=False)"
   ]
  },
  {
   "cell_type": "markdown",
   "metadata": {},
   "source": [
    "### Defining Cleaning Function\n",
    "\n",
    "Given that there is going to be a lot of cleaning done in this tutorial, I wrote them into their own function. "
   ]
  },
  {
   "cell_type": "code",
<<<<<<< HEAD
   "execution_count": 5,
=======
   "execution_count": 6,
>>>>>>> upstream/master
   "metadata": {
    "collapsed": true
   },
   "outputs": [],
   "source": [
    "# Tokenize text \n",
    "def tokenize_Text(text):\n",
    "    tokens = [word for sent in nltk.sent_tokenize(text) for word in nltk.word_tokenize(sent)]\n",
    "    return tokens\n",
    "\n",
    "# Remove stop words\n",
    "def remove_stopwords(tokens):\n",
    "    return [word for word in tokens if word not in stopwords]\n",
    "\n",
    "# Takes tokenized text and removes all proper nouns with nltk tags\n",
    "def strip_properNouns(token):\n",
    "    # Break down each word into their category for tags\n",
    "    tags = pos_tag(token)\n",
    "    \n",
    "    # Remove all the words with the proper noun tags or possessives or proper noun purals\n",
    "    # You can alter this to remove more tags (search for nltk tag for more options)\n",
    "    removedProperNoun = [word for word,pos in tags if pos != 'NNP' and pos != 'POS' and pos != 'NNPS']\n",
    "    \n",
    "    return removedProperNoun\n",
    "\n",
    "# Tokenize and stem is used to break each token down into their base components. This is done to make it simpler\n",
    "# on the algorthm later\n",
    "def token_stem(tokens):\n",
    "    \n",
    "    stems = [stemmer.stem(t) for t in tokens]\n",
    "    return stems\n",
    "\n",
    "# This filter all non-words out and change contractions\n",
    "def filter_word(tokens):\n",
    "    \n",
    "    filtered_tokens = []\n",
    "    \n",
    "    # filter out any tokens not containing letters (e.g., numeric tokens, raw punctuation)\n",
    "    for token in tokens:\n",
    "        if re.search('[a-zA-Z]', token):\n",
    "            \n",
    "            # Check for common contractions and remove them\n",
    "            # You can add additional cleaning methods here as well\n",
    "            if token[0] == \"\\'\" or token == \"wo\" or token == \"n't\":\n",
    "                filtered_tokens.append(remove_Contractions(token))\n",
    "            else:\n",
    "                filtered_tokens.append(token)\n",
    "            \n",
    "    return filtered_tokens\n",
    "\n",
    "# Remove some common contractions\n",
    "def remove_Contractions(token):\n",
    "    \n",
    "    # Replace contractions with their english word counter part\n",
    "    return token.replace(\"wo\", \"will\").replace(\"n't\", \"not\") \\\n",
    "    .replace(\"'s\", \"is\").replace(\"'m\", \"am\") \\\n",
    "    .replace(\"'ll\", \"will\").replace(\"'d\", \"would\") \\\n",
    "    .replace(\"'re\", \"are\").replace(\"'ve\", \"have\")"
   ]
  },
  {
   "cell_type": "markdown",
   "metadata": {},
   "source": [
    "### Calling all the Cleaning Functions\n",
    "\n",
    "Now that there exists a wide variety of cleaning functions to use it is easier to just call one function. It is here that you can choose what additional cleaning functions you would like to add or remove."
   ]
  },
  {
   "cell_type": "code",
<<<<<<< HEAD
   "execution_count": 6,
=======
   "execution_count": 7,
>>>>>>> upstream/master
   "metadata": {
    "collapsed": true
   },
   "outputs": [],
   "source": [
    "# Define a function that calls all the functions I want\n",
    "def full_clean(text):\n",
    "    # This can change depending on your needs\n",
    "    return token_stem(remove_stopwords(filter_word(strip_properNouns(tokenize_Text(text)))))\n",
    "\n",
    "# Define this function to not just include the stemming phase\n",
    "# The reason for this is explained later\n",
    "def full_clean_without_stem(text):\n",
    "     return remove_stopwords(filter_word(strip_properNouns(tokenize_Text(text))))"
   ]
  },
  {
   "cell_type": "markdown",
   "metadata": {},
   "source": [
    "### Check point\n",
    "\n",
    "This is to check to see if your cleaning works as intended. It is useful to check to see if your cleaning works ahead of time, since depending on your corpora this may take a while to process. It is better to know now than later if your cleaning method works.\n",
    "\n",
    "Note: If you do not like some aspects of the cleaning presented, feel free to remove them in the \"full_clean\" and \"full_clean_without_stem\" functions above and test the results with some samples below."
   ]
  },
  {
   "cell_type": "code",
<<<<<<< HEAD
   "execution_count": 7,
=======
   "execution_count": 8,
>>>>>>> upstream/master
   "metadata": {},
   "outputs": [
    {
     "name": "stdout",
     "output_type": "stream",
     "text": [
      "['proper', 'noun', 'get', 'remov']\n",
      "['do', 'i', 'remov', 'number', 'list']\n",
      "['plural', 'like', 'happen', 'multipl']\n",
      "['what', 'happen']\n",
      "['is', 'one', 'happen', 'happen', 'happen']\n"
     ]
    }
   ],
   "source": [
    "# Testing Full clean\n",
    "test_1 = full_clean(\"Did proper nouns get removed Jimmy?\")\n",
    "test_2 = full_clean(\"Do I remove the number 5 from my list?\")\n",
    "test_3 = full_clean(\"Plurals? like what happens with multiples\")\n",
    "test_4 = full_clean(\"What happens to won't, don't, didn't?\")\n",
    "test_5 = full_clean(\"Is Jimmy one of those happening, happened, or happen\")\n",
    "\n",
    "# Printing test\n",
    "print(test_1)\n",
    "print(test_2)\n",
    "print(test_3)\n",
    "print(test_4)\n",
    "print(test_5)"
   ]
  },
  {
   "cell_type": "markdown",
   "metadata": {},
   "source": [
    "It is important to note that words such as \"remove\" became \"remov\". This is because of the nltk stemming package. Later on in the notebook we will create a parallel list that contains the original. Therefore when we convert it back it will return to its spelling in the text. In this example \"remove\". If you are curious on what words get removed where, feel free to experiment with each function."
   ]
  },
  {
   "cell_type": "markdown",
   "metadata": {},
   "source": [
    "### Applying the Cleaning to the Text\n",
    "\n",
    "Now that we have the cleaning function, we are going to clean all the text. First we are going to have two parallel lists. One that has the original word and another with the stemmed version. This is to reduce the variation of words in the text for analysis. We keep the original word so we can convert them back later. "
   ]
  },
  {
   "cell_type": "code",
<<<<<<< HEAD
   "execution_count": 8,
=======
   "execution_count": 9,
>>>>>>> upstream/master
   "metadata": {
    "collapsed": true
   },
   "outputs": [],
   "source": [
    "# Create two seperate list to hold one with just tokenized words and the others stemmed version of those words\n",
    "text_stemmed = []\n",
    "text_tokenized = []\n",
    "\n",
    "# Iterate through all the text\n",
    "for work in textContent:\n",
    "\n",
    "    # Store the text that has been stemmed into text stemmed\n",
    "    alltext_stemmed = full_clean(work)\n",
    "    text_stemmed.extend(alltext_stemmed)\n",
    "    \n",
    "    # Store the all the text that has not been stemmed into text tokenized\n",
    "    alltext_tokenized = full_clean_without_stem(work)\n",
    "    text_tokenized.extend(alltext_tokenized)"
   ]
  },
  {
   "cell_type": "markdown",
   "metadata": {},
   "source": [
    "### Quick Check\n",
    "Lets check the first 10 words in both lists and see if they make sense."
   ]
  },
  {
   "cell_type": "code",
<<<<<<< HEAD
   "execution_count": 9,
=======
   "execution_count": 10,
>>>>>>> upstream/master
   "metadata": {},
   "outputs": [
    {
     "name": "stdout",
     "output_type": "stream",
     "text": [
      "['i', 'have', 'endeavour', 'littl', 'book', 'rais', 'shall', 'put', 'reader', 'humour']\n",
      "['I', 'HAVE', 'endeavoured', 'little', 'book', 'raise', 'shall', 'put', 'readers', 'humour']\n"
     ]
    }
   ],
   "source": [
    "print(text_stemmed[:10])\n",
    "print(text_tokenized[:10])"
   ]
  },
  {
   "cell_type": "markdown",
   "metadata": {},
   "source": [
    "Feel free to do additional cleaning on the resulting list afterwards. In this example 'the\" reappears. This is because the cleaning process does not remove \"the\" if it appears at the start of the sentence. \n",
    "\n",
    "Remember that any additional cleaning done here should be mirrored in both lists. This is ensure that both lists are the same length and the words line up in their index. If they do not it will cause errors later on"
   ]
  },
  {
   "cell_type": "markdown",
   "metadata": {},
   "source": [
    "### Converting to Panda Dataframe\n",
    "\n",
    "Now that we have the lists it is time to put them into a panda dataframe. Panda is tool that helps with data analysis and manipulation. To find out more see their website: https://pandas.pydata.org/ "
   ]
  },
  {
   "cell_type": "code",
<<<<<<< HEAD
   "execution_count": 10,
=======
   "execution_count": 11,
>>>>>>> upstream/master
   "metadata": {
    "collapsed": true
   },
   "outputs": [],
   "source": [
    "# Create a panda dataframe that has stemmed words as index and tokenized words as columns\n",
    "# This is so that words like \"happened, happening\" are all mapped to the same index \"happen\"\n",
    "vocab_frame = pd.DataFrame({'words': text_tokenized}, index = text_stemmed)"
   ]
  },
  {
   "cell_type": "code",
<<<<<<< HEAD
   "execution_count": 11,
=======
   "execution_count": 12,
>>>>>>> upstream/master
   "metadata": {},
   "outputs": [
    {
     "data": {
      "text/html": [
       "<div>\n",
       "<style>\n",
       "    .dataframe thead tr:only-child th {\n",
       "        text-align: right;\n",
       "    }\n",
       "\n",
       "    .dataframe thead th {\n",
       "        text-align: left;\n",
       "    }\n",
       "\n",
       "    .dataframe tbody tr th {\n",
       "        vertical-align: top;\n",
       "    }\n",
       "</style>\n",
       "<table border=\"1\" class=\"dataframe\">\n",
       "  <thead>\n",
       "    <tr style=\"text-align: right;\">\n",
       "      <th></th>\n",
       "      <th>words</th>\n",
       "    </tr>\n",
       "  </thead>\n",
       "  <tbody>\n",
       "    <tr>\n",
       "      <th>i</th>\n",
       "      <td>I</td>\n",
       "    </tr>\n",
       "    <tr>\n",
       "      <th>have</th>\n",
       "      <td>HAVE</td>\n",
       "    </tr>\n",
       "    <tr>\n",
       "      <th>endeavour</th>\n",
       "      <td>endeavoured</td>\n",
       "    </tr>\n",
       "    <tr>\n",
       "      <th>littl</th>\n",
       "      <td>little</td>\n",
       "    </tr>\n",
       "    <tr>\n",
       "      <th>book</th>\n",
       "      <td>book</td>\n",
       "    </tr>\n",
       "    <tr>\n",
       "      <th>rais</th>\n",
       "      <td>raise</td>\n",
       "    </tr>\n",
       "    <tr>\n",
       "      <th>shall</th>\n",
       "      <td>shall</td>\n",
       "    </tr>\n",
       "    <tr>\n",
       "      <th>put</th>\n",
       "      <td>put</td>\n",
       "    </tr>\n",
       "    <tr>\n",
       "      <th>reader</th>\n",
       "      <td>readers</td>\n",
       "    </tr>\n",
       "    <tr>\n",
       "      <th>humour</th>\n",
       "      <td>humour</td>\n",
       "    </tr>\n",
       "  </tbody>\n",
       "</table>\n",
       "</div>"
      ],
      "text/plain": [
       "                 words\n",
       "i                    I\n",
       "have              HAVE\n",
       "endeavour  endeavoured\n",
       "littl           little\n",
       "book              book\n",
       "rais             raise\n",
       "shall            shall\n",
       "put                put\n",
       "reader         readers\n",
       "humour          humour"
      ]
     },
<<<<<<< HEAD
     "execution_count": 11,
=======
     "execution_count": 12,
>>>>>>> upstream/master
     "metadata": {},
     "output_type": "execute_result"
    }
   ],
   "source": [
    "# As you can see the stem words (on the left) matches their original word (right)\n",
    "vocab_frame[:10]"
   ]
  },
  {
   "cell_type": "markdown",
   "metadata": {},
   "source": [
    "### TF-IDF Vectorizer\n",
    "\n",
    "TF-IDF stands for term frequency–inverse document frequency. It is a statistic that tries to determine how important a word is to a document in a collection or corpus.\n",
    "\n",
    "To find out a bit more detail on TF-IDF, see their wikipedia page (https://en.wikipedia.org/wiki/Tf%E2%80%93idf)\n",
    "\n",
    "The Vectorizer converts the raw data into TF-IDF features. To find out more visit sklearn page (http://scikit-learn.org/stable/modules/generated/sklearn.feature_extraction.text.TfidfVectorizer.html)"
   ]
  },
  {
   "cell_type": "code",
   "execution_count": 14,
   "metadata": {},
   "outputs": [
    {
     "name": "stdout",
     "output_type": "stream",
     "text": [
      "(24, 33215)\n"
     ]
    }
   ],
   "source": [
    "# max_df: max cut off for how frequent a term appears in the collection \n",
    "# If it is too frequent it probably holds little meaning\n",
    "\n",
    "# min_df: min start point to be considered a feature\n",
    "# If it appears too infrequently it is probably doesn't have enough importance.\n",
    "\n",
    "# max_features: maximum amount of features that can exist\n",
    "\n",
    "# Tokenizer: gave the previously defined cleaner\n",
    "\n",
    "# ngram_range: Declare that I want to look at unigrams, bigrams and trigrams\n",
    "\n",
    "tfidf_vectorizer = TfidfVectorizer(max_df=0.8, max_features=200000,\n",
    "                                 min_df=0.2, \n",
    "                                 use_idf=True, tokenizer=full_clean, ngram_range=(1,3))\n",
    "\n",
    "# Fit the vectorizer to the textContent\n",
    "tfidf_matrix = tfidf_vectorizer.fit_transform(textContent)\n",
    "\n",
    "# See the shape of the vector\n",
    "print(tfidf_matrix.shape)"
   ]
  },
  {
   "cell_type": "markdown",
   "metadata": {},
   "source": [
    "### Acquring Feature Names\n",
    "\n",
    "Now it is time to acquire the terms in the tfidf matrix."
   ]
  },
  {
   "cell_type": "code",
   "execution_count": 15,
   "metadata": {
    "collapsed": true
   },
   "outputs": [],
   "source": [
    "# Save all the terms from vectorizer into a variable to be used later\n",
    "terms = tfidf_vectorizer.get_feature_names()"
   ]
  },
  {
   "cell_type": "markdown",
   "metadata": {},
   "source": [
    "### Using Cosine Similarity \n",
    "\n",
    "Now that we have all the features and tf-idf of each document it is time to compute the similarity. This is done using cosine similarity, which calculates the similarity of a normalized dot product of X and Y. The reason we have 1 subtract the similarity is because we are plotting on a euclidean (2-dimensional) plane."
   ]
  },
  {
   "cell_type": "code",
   "execution_count": 16,
   "metadata": {
    "collapsed": true
   },
   "outputs": [],
   "source": [
    "# Calculate cosine similarity on the tf-idf matrix\n",
    "dist = 1 - cosine_similarity(tfidf_matrix)"
   ]
  },
  {
   "cell_type": "markdown",
   "metadata": {},
   "source": [
    "### Clustering with K-means \n",
    "\n",
    "Now that we have the similarities we are going to cluster the documents using K-means.\n",
    "K-means first asks for a number of clusters. You can have more or less, in this example there is 5. Now K-means attempts to cluster the document in 5 clusters. This process may take a while.\n",
    "\n",
    "To find out more (https://en.wikipedia.org/wiki/K-means_clustering)"
   ]
  },
  {
   "cell_type": "code",
   "execution_count": 17,
   "metadata": {},
   "outputs": [
    {
     "data": {
      "text/plain": [
       "KMeans(algorithm='auto', copy_x=True, init='k-means++', max_iter=300,\n",
       "    n_clusters=5, n_init=10, n_jobs=1, precompute_distances='auto',\n",
       "    random_state=None, tol=0.0001, verbose=0)"
      ]
     },
     "execution_count": 17,
     "metadata": {},
     "output_type": "execute_result"
    }
   ],
   "source": [
    "# Declare amount of clusters\n",
    "num_clusters = 5\n",
    "\n",
    "# Initalize KMeans with the amount of clusters declared\n",
    "km = KMeans(n_clusters=num_clusters)\n",
    "\n",
    "# Run Kmean on the matrix\n",
    "km.fit(tfidf_matrix)"
   ]
  },
  {
   "cell_type": "code",
   "execution_count": 18,
<<<<<<< HEAD
   "metadata": {
    "collapsed": true
   },
=======
   "metadata": {},
>>>>>>> upstream/master
   "outputs": [],
   "source": [
    "# Get the cluster that each document belongs to into a list\n",
    "clusters = km.labels_.tolist()"
   ]
  },
  {
   "cell_type": "markdown",
   "metadata": {},
   "source": [
    "### Setting The Results For Plotting \n",
    "\n",
    "Now that we have all our results we begin to structure it into a format we can display."
   ]
  },
  {
   "cell_type": "code",
   "execution_count": 19,
   "metadata": {
    "collapsed": true
   },
   "outputs": [],
   "source": [
    "# Set the book dictionary to hold the book's title, content, and cluster it belongs to\n",
    "books = { 'title': textName, 'content': textContent, 'cluster': clusters }\n",
    "\n",
    "# Set the panda dataframe\n",
    "# Data is the content of the dictionary\n",
    "# Index is the clusters\n",
    "# Columns as the keys of the dictionary\n",
    "resultFrame = pd.DataFrame(books, index = [clusters] , columns = ['title', 'cluster', 'content'])"
   ]
  },
  {
   "cell_type": "code",
   "execution_count": 20,
   "metadata": {},
   "outputs": [
    {
     "data": {
      "text/html": [
       "<div>\n",
       "<style>\n",
       "    .dataframe thead tr:only-child th {\n",
       "        text-align: right;\n",
       "    }\n",
       "\n",
       "    .dataframe thead th {\n",
       "        text-align: left;\n",
       "    }\n",
       "\n",
       "    .dataframe tbody tr th {\n",
       "        vertical-align: top;\n",
       "    }\n",
       "</style>\n",
       "<table border=\"1\" class=\"dataframe\">\n",
       "  <thead>\n",
       "    <tr style=\"text-align: right;\">\n",
       "      <th></th>\n",
       "      <th>title</th>\n",
       "      <th>cluster</th>\n",
       "      <th>content</th>\n",
       "    </tr>\n",
       "  </thead>\n",
       "  <tbody>\n",
       "    <tr>\n",
<<<<<<< HEAD
       "      <th>0</th>\n",
       "      <td>The Valley of Fear</td>\n",
       "      <td>0</td>\n",
       "      <td>\\nPart 1--The Tragedy of Birlstone\\n\\n\\n\\n\\nCh...</td>\n",
       "    </tr>\n",
       "    <tr>\n",
       "      <th>1</th>\n",
       "      <td>Emma</td>\n",
       "      <td>1</td>\n",
       "      <td>﻿\\n\\nVOLUME I\\n\\n\\n\\nCHAPTER I\\n\\n\\nEmma Woodh...</td>\n",
       "    </tr>\n",
       "    <tr>\n",
       "      <th>4</th>\n",
       "      <td>Sense and Sensibility</td>\n",
       "      <td>4</td>\n",
       "      <td>﻿CHAPTER 1\\n\\n\\nThe family of Dashwood had lon...</td>\n",
       "    </tr>\n",
       "    <tr>\n",
       "      <th>4</th>\n",
       "      <td>The Pickwick Papers</td>\n",
       "      <td>4</td>\n",
       "      <td>﻿\\nCONTENTS\\n\\n\\nTHE POSTHUMOUS PAPERS OF THE ...</td>\n",
       "    </tr>\n",
       "    <tr>\n",
       "      <th>4</th>\n",
       "      <td>Our Mutual Friend</td>\n",
       "      <td>4</td>\n",
       "      <td>﻿\\nCONTENTS\\n\\n\\n     Book the First\\n\\n     T...</td>\n",
       "    </tr>\n",
       "    <tr>\n",
       "      <th>1</th>\n",
       "      <td>Persuasion</td>\n",
       "      <td>1</td>\n",
       "      <td>﻿Chapter 1\\n\\n\\nSir Walter Elliot, of Kellynch...</td>\n",
       "    </tr>\n",
       "    <tr>\n",
       "      <th>4</th>\n",
       "      <td>Mansfield Park</td>\n",
       "      <td>4</td>\n",
       "      <td>﻿CHAPTER I\\n\\nAbout thirty years ago Miss Mari...</td>\n",
       "    </tr>\n",
       "    <tr>\n",
       "      <th>4</th>\n",
       "      <td>A Tale of Two Cities</td>\n",
       "      <td>4</td>\n",
       "      <td>﻿\\n\\nCONTENTS\\n\\n\\n     Book the First--Recall...</td>\n",
       "    </tr>\n",
       "    <tr>\n",
       "      <th>3</th>\n",
       "      <td>Tales of Terror and Mystery</td>\n",
       "      <td>3</td>\n",
       "      <td>Contents\\n\\nTales of Terror\\n\\n  The Horror of...</td>\n",
       "    </tr>\n",
       "    <tr>\n",
       "      <th>2</th>\n",
       "      <td>Great Expectations</td>\n",
       "      <td>2</td>\n",
       "      <td>﻿\\nChapter I\\n\\nMy father’s family name being ...</td>\n",
       "    </tr>\n",
       "    <tr>\n",
       "      <th>4</th>\n",
       "      <td>The Life And Adventure Of Nicholas Nickleby</td>\n",
       "      <td>4</td>\n",
       "      <td>﻿\\n\\nAUTHOR’S PREFACE\\n\\n\\nThis story was begu...</td>\n",
=======
       "      <th>3</th>\n",
       "      <td>A Christmas Carol</td>\n",
       "      <td>3</td>\n",
       "      <td>﻿\\n\\nPREFACE\\n\\nI HAVE endeavoured in this Gho...</td>\n",
       "    </tr>\n",
       "    <tr>\n",
       "      <th>0</th>\n",
       "      <td>A Study In Scarlet</td>\n",
       "      <td>0</td>\n",
       "      <td>A STUDY IN SCARLET.\\n\\n\\n\\n\\n\\nPART I.\\n\\n(_Be...</td>\n",
       "    </tr>\n",
       "    <tr>\n",
       "      <th>4</th>\n",
       "      <td>A Tale of Two Cities</td>\n",
       "      <td>4</td>\n",
       "      <td>﻿\\n\\nCONTENTS\\n\\n\\n     Book the First--Recall...</td>\n",
       "    </tr>\n",
       "    <tr>\n",
       "      <th>3</th>\n",
       "      <td>Bleak House</td>\n",
       "      <td>3</td>\n",
       "      <td>﻿\\nCONTENTS\\n\\n            Preface\\n         I...</td>\n",
       "    </tr>\n",
       "    <tr>\n",
       "      <th>3</th>\n",
       "      <td>David Copperfield</td>\n",
       "      <td>3</td>\n",
       "      <td>﻿\\nCONTENTS\\n\\n\\n     I.      I Am Born\\n     ...</td>\n",
       "    </tr>\n",
       "    <tr>\n",
       "      <th>1</th>\n",
       "      <td>Emma</td>\n",
       "      <td>1</td>\n",
       "      <td>﻿\\n\\nVOLUME I\\n\\n\\n\\nCHAPTER I\\n\\n\\nEmma Woodh...</td>\n",
       "    </tr>\n",
       "    <tr>\n",
       "      <th>3</th>\n",
       "      <td>Great Expectations</td>\n",
       "      <td>3</td>\n",
       "      <td>﻿\\nChapter I\\n\\nMy father’s family name being ...</td>\n",
       "    </tr>\n",
       "    <tr>\n",
       "      <th>4</th>\n",
       "      <td>Lady Susan</td>\n",
       "      <td>4</td>\n",
       "      <td>﻿\\n\\nI\\n\\n\\nLADY SUSAN VERNON TO MR. VERNON\\n\\...</td>\n",
       "    </tr>\n",
       "    <tr>\n",
       "      <th>4</th>\n",
       "      <td>Mansfield Park</td>\n",
       "      <td>4</td>\n",
       "      <td>﻿CHAPTER I\\n\\nAbout thirty years ago Miss Mari...</td>\n",
>>>>>>> upstream/master
       "    </tr>\n",
       "    <tr>\n",
       "      <th>1</th>\n",
       "      <td>Northanger Abbey</td>\n",
       "      <td>1</td>\n",
       "      <td>﻿CHAPTER 1\\n\\n\\nNo one who had ever seen Cathe...</td>\n",
       "    </tr>\n",
       "    <tr>\n",
       "      <th>3</th>\n",
<<<<<<< HEAD
       "      <td>The Lost World</td>\n",
       "      <td>3</td>\n",
       "      <td>\\n\\n\\n\\n                             Foreword\\...</td>\n",
       "    </tr>\n",
       "    <tr>\n",
       "      <th>0</th>\n",
       "      <td>The Return of Sherlock Holmes</td>\n",
       "      <td>0</td>\n",
       "      <td>\\n\\n\\nCONTENTS:\\n\\n     The Adventure Of The E...</td>\n",
       "    </tr>\n",
       "    <tr>\n",
       "      <th>4</th>\n",
       "      <td>David Copperfield</td>\n",
       "      <td>4</td>\n",
       "      <td>﻿\\nCONTENTS\\n\\n\\n     I.      I Am Born\\n     ...</td>\n",
       "    </tr>\n",
       "    <tr>\n",
       "      <th>0</th>\n",
       "      <td>A Study In Scarlet</td>\n",
       "      <td>0</td>\n",
       "      <td>A STUDY IN SCARLET.\\n\\n\\n\\n\\n\\nPART I.\\n\\n(_Be...</td>\n",
       "    </tr>\n",
       "    <tr>\n",
       "      <th>4</th>\n",
       "      <td>Bleak House</td>\n",
       "      <td>4</td>\n",
       "      <td>﻿\\nCONTENTS\\n\\n            Preface\\n         I...</td>\n",
       "    </tr>\n",
       "    <tr>\n",
       "      <th>4</th>\n",
       "      <td>Oliver Twist</td>\n",
       "      <td>4</td>\n",
       "      <td>﻿\\n\\n\\nCONTENTS\\n\\n       I  TREATS OF THE PLA...</td>\n",
       "    </tr>\n",
       "    <tr>\n",
       "      <th>0</th>\n",
       "      <td>The Hound of the Baskervilles</td>\n",
       "      <td>0</td>\n",
       "      <td>\\n\\n  CONTENTS\\n\\n  Chapter 1--Mr. Sherlock Ho...</td>\n",
       "    </tr>\n",
       "    <tr>\n",
       "      <th>0</th>\n",
       "      <td>The Adventures of Sherlock Holmes</td>\n",
       "      <td>0</td>\n",
       "      <td>\\n\\n   I. A Scandal in Bohemia\\n  II. The Red-...</td>\n",
       "    </tr>\n",
       "    <tr>\n",
       "      <th>1</th>\n",
       "      <td>Lady Susan</td>\n",
       "      <td>1</td>\n",
       "      <td>﻿\\n\\nI\\n\\n\\nLADY SUSAN VERNON TO MR. VERNON\\n\\...</td>\n",
       "    </tr>\n",
       "    <tr>\n",
       "      <th>2</th>\n",
       "      <td>A Christmas Carol</td>\n",
       "      <td>2</td>\n",
       "      <td>﻿\\n\\nPREFACE\\n\\nI HAVE endeavoured in this Gho...</td>\n",
=======
       "      <td>Oliver Twist</td>\n",
       "      <td>3</td>\n",
       "      <td>﻿\\n\\n\\nCONTENTS\\n\\n       I  TREATS OF THE PLA...</td>\n",
       "    </tr>\n",
       "    <tr>\n",
       "      <th>3</th>\n",
       "      <td>Our Mutual Friend</td>\n",
       "      <td>3</td>\n",
       "      <td>﻿\\nCONTENTS\\n\\n\\n     Book the First\\n\\n     T...</td>\n",
       "    </tr>\n",
       "    <tr>\n",
       "      <th>1</th>\n",
       "      <td>Persuasion</td>\n",
       "      <td>1</td>\n",
       "      <td>﻿Chapter 1\\n\\n\\nSir Walter Elliot, of Kellynch...</td>\n",
       "    </tr>\n",
       "    <tr>\n",
       "      <th>1</th>\n",
       "      <td>Pride and Prejudice</td>\n",
       "      <td>1</td>\n",
       "      <td>﻿Chapter 1\\n\\n\\nIt is a truth universally ackn...</td>\n",
       "    </tr>\n",
       "    <tr>\n",
       "      <th>4</th>\n",
       "      <td>Sense and Sensibility</td>\n",
       "      <td>4</td>\n",
       "      <td>﻿CHAPTER 1\\n\\n\\nThe family of Dashwood had lon...</td>\n",
       "    </tr>\n",
       "    <tr>\n",
       "      <th>2</th>\n",
       "      <td>Tales of Terror and Mystery</td>\n",
       "      <td>2</td>\n",
       "      <td>Contents\\n\\nTales of Terror\\n\\n  The Horror of...</td>\n",
       "    </tr>\n",
       "    <tr>\n",
       "      <th>0</th>\n",
       "      <td>The Adventures of Sherlock Holmes</td>\n",
       "      <td>0</td>\n",
       "      <td>\\n\\n   I. A Scandal in Bohemia\\n  II. The Red-...</td>\n",
       "    </tr>\n",
       "    <tr>\n",
       "      <th>0</th>\n",
       "      <td>The Hound of the Baskervilles</td>\n",
       "      <td>0</td>\n",
       "      <td>\\n\\n  CONTENTS\\n\\n  Chapter 1--Mr. Sherlock Ho...</td>\n",
       "    </tr>\n",
       "    <tr>\n",
       "      <th>3</th>\n",
       "      <td>The Life And Adventure Of Nicholas Nickleby</td>\n",
       "      <td>3</td>\n",
       "      <td>﻿\\n\\nAUTHOR’S PREFACE\\n\\n\\nThis story was begu...</td>\n",
       "    </tr>\n",
       "    <tr>\n",
       "      <th>2</th>\n",
       "      <td>The Lost World</td>\n",
       "      <td>2</td>\n",
       "      <td>\\n\\n\\n\\n                             Foreword\\...</td>\n",
       "    </tr>\n",
       "    <tr>\n",
       "      <th>3</th>\n",
       "      <td>The Pickwick Papers</td>\n",
       "      <td>3</td>\n",
       "      <td>﻿\\nCONTENTS\\n\\n\\nTHE POSTHUMOUS PAPERS OF THE ...</td>\n",
       "    </tr>\n",
       "    <tr>\n",
       "      <th>0</th>\n",
       "      <td>The Return of Sherlock Holmes</td>\n",
       "      <td>0</td>\n",
       "      <td>\\n\\n\\nCONTENTS:\\n\\n     The Adventure Of The E...</td>\n",
>>>>>>> upstream/master
       "    </tr>\n",
       "    <tr>\n",
       "      <th>0</th>\n",
       "      <td>The Sign of the Four</td>\n",
       "      <td>0</td>\n",
       "      <td>\\n\\nContents\\n\\n\\n\\n\\n\\nChapter I\\n\\nThe Scien...</td>\n",
       "    </tr>\n",
       "    <tr>\n",
<<<<<<< HEAD
       "      <th>1</th>\n",
       "      <td>Pride and Prejudice</td>\n",
       "      <td>1</td>\n",
       "      <td>﻿Chapter 1\\n\\n\\nIt is a truth universally ackn...</td>\n",
=======
       "      <th>0</th>\n",
       "      <td>The Valley of Fear</td>\n",
       "      <td>0</td>\n",
       "      <td>\\nPart 1--The Tragedy of Birlstone\\n\\n\\n\\n\\nCh...</td>\n",
>>>>>>> upstream/master
       "    </tr>\n",
       "  </tbody>\n",
       "</table>\n",
       "</div>"
      ],
      "text/plain": [
       "                                         title  cluster  \\\n",
<<<<<<< HEAD
       "0                           The Valley of Fear        0   \n",
       "1                                         Emma        1   \n",
       "4                        Sense and Sensibility        4   \n",
       "4                          The Pickwick Papers        4   \n",
       "4                            Our Mutual Friend        4   \n",
       "1                                   Persuasion        1   \n",
       "4                               Mansfield Park        4   \n",
       "4                         A Tale of Two Cities        4   \n",
       "3                  Tales of Terror and Mystery        3   \n",
       "2                           Great Expectations        2   \n",
       "4  The Life And Adventure Of Nicholas Nickleby        4   \n",
       "1                             Northanger Abbey        1   \n",
       "3                               The Lost World        3   \n",
       "0                The Return of Sherlock Holmes        0   \n",
       "4                            David Copperfield        4   \n",
       "0                           A Study In Scarlet        0   \n",
       "4                                  Bleak House        4   \n",
       "4                                 Oliver Twist        4   \n",
       "0                The Hound of the Baskervilles        0   \n",
       "0            The Adventures of Sherlock Holmes        0   \n",
       "1                                   Lady Susan        1   \n",
       "2                            A Christmas Carol        2   \n",
       "0                         The Sign of the Four        0   \n",
       "1                          Pride and Prejudice        1   \n",
       "\n",
       "                                             content  \n",
       "0  \\nPart 1--The Tragedy of Birlstone\\n\\n\\n\\n\\nCh...  \n",
       "1  ﻿\\n\\nVOLUME I\\n\\n\\n\\nCHAPTER I\\n\\n\\nEmma Woodh...  \n",
       "4  ﻿CHAPTER 1\\n\\n\\nThe family of Dashwood had lon...  \n",
       "4  ﻿\\nCONTENTS\\n\\n\\nTHE POSTHUMOUS PAPERS OF THE ...  \n",
       "4  ﻿\\nCONTENTS\\n\\n\\n     Book the First\\n\\n     T...  \n",
       "1  ﻿Chapter 1\\n\\n\\nSir Walter Elliot, of Kellynch...  \n",
       "4  ﻿CHAPTER I\\n\\nAbout thirty years ago Miss Mari...  \n",
       "4  ﻿\\n\\nCONTENTS\\n\\n\\n     Book the First--Recall...  \n",
       "3  Contents\\n\\nTales of Terror\\n\\n  The Horror of...  \n",
       "2  ﻿\\nChapter I\\n\\nMy father’s family name being ...  \n",
       "4  ﻿\\n\\nAUTHOR’S PREFACE\\n\\n\\nThis story was begu...  \n",
       "1  ﻿CHAPTER 1\\n\\n\\nNo one who had ever seen Cathe...  \n",
       "3  \\n\\n\\n\\n                             Foreword\\...  \n",
       "0  \\n\\n\\nCONTENTS:\\n\\n     The Adventure Of The E...  \n",
       "4  ﻿\\nCONTENTS\\n\\n\\n     I.      I Am Born\\n     ...  \n",
       "0  A STUDY IN SCARLET.\\n\\n\\n\\n\\n\\nPART I.\\n\\n(_Be...  \n",
       "4  ﻿\\nCONTENTS\\n\\n            Preface\\n         I...  \n",
       "4  ﻿\\n\\n\\nCONTENTS\\n\\n       I  TREATS OF THE PLA...  \n",
       "0  \\n\\n  CONTENTS\\n\\n  Chapter 1--Mr. Sherlock Ho...  \n",
       "0  \\n\\n   I. A Scandal in Bohemia\\n  II. The Red-...  \n",
       "1  ﻿\\n\\nI\\n\\n\\nLADY SUSAN VERNON TO MR. VERNON\\n\\...  \n",
       "2  ﻿\\n\\nPREFACE\\n\\nI HAVE endeavoured in this Gho...  \n",
       "0  \\n\\nContents\\n\\n\\n\\n\\n\\nChapter I\\n\\nThe Scien...  \n",
       "1  ﻿Chapter 1\\n\\n\\nIt is a truth universally ackn...  "
=======
       "3                            A Christmas Carol        3   \n",
       "0                           A Study In Scarlet        0   \n",
       "4                         A Tale of Two Cities        4   \n",
       "3                                  Bleak House        3   \n",
       "3                            David Copperfield        3   \n",
       "1                                         Emma        1   \n",
       "3                           Great Expectations        3   \n",
       "4                                   Lady Susan        4   \n",
       "4                               Mansfield Park        4   \n",
       "1                             Northanger Abbey        1   \n",
       "3                                 Oliver Twist        3   \n",
       "3                            Our Mutual Friend        3   \n",
       "1                                   Persuasion        1   \n",
       "1                          Pride and Prejudice        1   \n",
       "4                        Sense and Sensibility        4   \n",
       "2                  Tales of Terror and Mystery        2   \n",
       "0            The Adventures of Sherlock Holmes        0   \n",
       "0                The Hound of the Baskervilles        0   \n",
       "3  The Life And Adventure Of Nicholas Nickleby        3   \n",
       "2                               The Lost World        2   \n",
       "3                          The Pickwick Papers        3   \n",
       "0                The Return of Sherlock Holmes        0   \n",
       "0                         The Sign of the Four        0   \n",
       "0                           The Valley of Fear        0   \n",
       "\n",
       "                                             content  \n",
       "3  ﻿\\n\\nPREFACE\\n\\nI HAVE endeavoured in this Gho...  \n",
       "0  A STUDY IN SCARLET.\\n\\n\\n\\n\\n\\nPART I.\\n\\n(_Be...  \n",
       "4  ﻿\\n\\nCONTENTS\\n\\n\\n     Book the First--Recall...  \n",
       "3  ﻿\\nCONTENTS\\n\\n            Preface\\n         I...  \n",
       "3  ﻿\\nCONTENTS\\n\\n\\n     I.      I Am Born\\n     ...  \n",
       "1  ﻿\\n\\nVOLUME I\\n\\n\\n\\nCHAPTER I\\n\\n\\nEmma Woodh...  \n",
       "3  ﻿\\nChapter I\\n\\nMy father’s family name being ...  \n",
       "4  ﻿\\n\\nI\\n\\n\\nLADY SUSAN VERNON TO MR. VERNON\\n\\...  \n",
       "4  ﻿CHAPTER I\\n\\nAbout thirty years ago Miss Mari...  \n",
       "1  ﻿CHAPTER 1\\n\\n\\nNo one who had ever seen Cathe...  \n",
       "3  ﻿\\n\\n\\nCONTENTS\\n\\n       I  TREATS OF THE PLA...  \n",
       "3  ﻿\\nCONTENTS\\n\\n\\n     Book the First\\n\\n     T...  \n",
       "1  ﻿Chapter 1\\n\\n\\nSir Walter Elliot, of Kellynch...  \n",
       "1  ﻿Chapter 1\\n\\n\\nIt is a truth universally ackn...  \n",
       "4  ﻿CHAPTER 1\\n\\n\\nThe family of Dashwood had lon...  \n",
       "2  Contents\\n\\nTales of Terror\\n\\n  The Horror of...  \n",
       "0  \\n\\n   I. A Scandal in Bohemia\\n  II. The Red-...  \n",
       "0  \\n\\n  CONTENTS\\n\\n  Chapter 1--Mr. Sherlock Ho...  \n",
       "3  ﻿\\n\\nAUTHOR’S PREFACE\\n\\n\\nThis story was begu...  \n",
       "2  \\n\\n\\n\\n                             Foreword\\...  \n",
       "3  ﻿\\nCONTENTS\\n\\n\\nTHE POSTHUMOUS PAPERS OF THE ...  \n",
       "0  \\n\\n\\nCONTENTS:\\n\\n     The Adventure Of The E...  \n",
       "0  \\n\\nContents\\n\\n\\n\\n\\n\\nChapter I\\n\\nThe Scien...  \n",
       "0  \\nPart 1--The Tragedy of Birlstone\\n\\n\\n\\n\\nCh...  "
>>>>>>> upstream/master
      ]
     },
     "execution_count": 20,
     "metadata": {},
     "output_type": "execute_result"
    }
   ],
   "source": [
    "# What the dataframe looks like\n",
    "resultFrame"
   ]
  },
  {
   "cell_type": "code",
   "execution_count": 21,
   "metadata": {},
   "outputs": [
    {
     "data": {
      "text/plain": [
<<<<<<< HEAD
       "4    9\n",
       "0    6\n",
       "1    5\n",
       "3    2\n",
=======
       "3    8\n",
       "0    6\n",
       "4    4\n",
       "1    4\n",
>>>>>>> upstream/master
       "2    2\n",
       "Name: cluster, dtype: int64"
      ]
     },
     "execution_count": 21,
     "metadata": {},
     "output_type": "execute_result"
    }
   ],
   "source": [
    "# Have a look at how many documents are in each cluster\n",
    "resultFrame['cluster'].value_counts()"
   ]
  },
  {
   "cell_type": "markdown",
   "metadata": {},
   "source": [
    "### Looking At the Results\n",
    "\n",
    "Before we plot, lets have a more detailed look at what documents are in each category and what features that each cluster contains."
   ]
  },
  {
   "cell_type": "code",
   "execution_count": 22,
   "metadata": {},
   "outputs": [
    {
     "data": {
      "text/plain": [
       "array([[12043, 31004, 23698, 25155, 25156, 18005, 14521, 18331],\n",
<<<<<<< HEAD
       "       [ 3420,  6920,  6979,   788, 27339, 13263,  3247, 13262],\n",
       "       [13289,  9896,  3788,  2538, 18793, 17196, 28975, 20981],\n",
       "       [21796,  3545,  6541, 12519, 12915,  3445, 17866,  3214],\n",
       "       [23758,  8269, 15872,  1482, 23929, 19764,  6959,  6825]])"
=======
       "       [ 3420,  6920,  6979,   788, 13263,  3247, 23561, 16670],\n",
       "       [21796,  3545,  6541, 12519, 12915,  3445, 17866,  3214],\n",
       "       [23758, 13289, 23929, 19764,  1482,  9896,  6959,  3677],\n",
       "       [ 8269, 15872, 27339,  6825, 17751, 15903, 25562,  4056]], dtype=int64)"
>>>>>>> upstream/master
      ]
     },
     "execution_count": 22,
     "metadata": {},
     "output_type": "execute_result"
    }
   ],
   "source": [
    "order_centroids = km.cluster_centers_.argsort()[:, ::-1]\n",
    "order_centroids[:, :8]"
   ]
  },
  {
   "cell_type": "code",
   "execution_count": 23,
   "metadata": {},
   "outputs": [
    {
     "data": {
      "text/plain": [
       "1627104"
      ]
     },
     "execution_count": 23,
     "metadata": {},
     "output_type": "execute_result"
    }
   ],
   "source": [
    "len(vocab_frame)\n",
    "#vocab_frame['russel']"
   ]
  },
  {
   "cell_type": "code",
   "execution_count": 24,
   "metadata": {},
   "outputs": [
    {
     "name": "stdout",
     "output_type": "stream",
     "text": [
      "Top terms per cluster: \n",
      "\n",
      "Cluster 0 words:"
     ]
    },
    {
     "name": "stderr",
     "output_type": "stream",
     "text": [
<<<<<<< HEAD
      "/home/kynan/anaconda3/lib/python3.6/site-packages/ipykernel_launcher.py:19: DeprecationWarning: \n",
=======
      "C:\\Users\\zoonl\\Anaconda3\\lib\\site-packages\\ipykernel_launcher.py:19: DeprecationWarning: \n",
>>>>>>> upstream/master
      ".ix is deprecated. Please use\n",
      ".loc for label based indexing or\n",
      ".iloc for positional indexing\n",
      "\n",
      "See the documentation here:\n",
      "http://pandas.pydata.org/pandas-docs/stable/indexing.html#ix-indexer-is-deprecated\n"
     ]
    },
    {
     "name": "stdout",
     "output_type": "stream",
     "text": [
      " Holmes,\n",
<<<<<<< HEAD
      " gentility.,\n",
      " said,\n",
      " come,\n",
      " ten,\n",
      " job,\n",
      "\n",
      "\n",
      "Cluster 0 titles:"
=======
      " death,\n",
      " said,\n",
      " face,\n",
      " face,\n",
      " ring,\n",
      "\n",
      "\n",
      "Cluster 0 titles: A Study In Scarlet, The Adventures of Sherlock Holmes, The Hound of the Baskervilles, The Return of Sherlock Holmes, The Sign of the Four, The Valley of Fear,\n"
>>>>>>> upstream/master
     ]
    },
    {
     "name": "stderr",
     "output_type": "stream",
     "text": [
<<<<<<< HEAD
      "/home/kynan/anaconda3/lib/python3.6/site-packages/ipykernel_launcher.py:36: DeprecationWarning: \n",
=======
      "C:\\Users\\zoonl\\Anaconda3\\lib\\site-packages\\ipykernel_launcher.py:36: DeprecationWarning: \n",
>>>>>>> upstream/master
      ".ix is deprecated. Please use\n",
      ".loc for label based indexing or\n",
      ".iloc for positional indexing\n",
      "\n",
      "See the documentation here:\n",
      "http://pandas.pydata.org/pandas-docs/stable/indexing.html#ix-indexer-is-deprecated\n"
     ]
    },
    {
     "name": "stdout",
     "output_type": "stream",
     "text": [
<<<<<<< HEAD
      " The Valley of Fear, The Return of Sherlock Holmes, A Study In Scarlet, The Hound of the Baskervilles, The Adventures of Sherlock Holmes, The Sign of the Four,\n",
=======
>>>>>>> upstream/master
      "\n",
      "Cluster 1 words: Catherine,\n",
      " Elizabeth,\n",
      " Emma,\n",
      " Anne,\n",
<<<<<<< HEAD
      " hous,\n",
      " Jane,\n",
      "\n",
      "\n",
      "Cluster 1 titles: Emma, Persuasion, Northanger Abbey, Lady Susan, Pride and Prejudice,\n",
      "\n",
      "Cluster 2 words: Joe,\n",
      " ghost,\n",
      " Christmas,\n",
      " bob,\n",
      " nephews,\n",
      " merry,\n",
      "\n",
      "\n",
      "Cluster 2 titles: Great Expectations, A Christmas Carol,\n",
      "\n",
      "Cluster 3 words: professor,\n",
      " challenge,\n",
      " could,\n",
=======
      " Jane,\n",
      " captain,\n",
      "\n",
      "\n",
      "Cluster 1 titles: Emma, Northanger Abbey, Persuasion, Pride and Prejudice,\n",
      "\n",
      "Cluster 2 words: professor,\n",
      " challenge,\n",
      " never,\n",
>>>>>>> upstream/master
      " huge,\n",
      " Indian,\n",
      " cave,\n",
      "\n",
      "\n",
<<<<<<< HEAD
      "Cluster 3 titles: Tales of Terror and Mystery, The Lost World,\n",
      "\n",
      "Cluster 4 words: said,\n",
      " Fanny,\n",
      " Lucy,\n",
      " aunt,\n",
      " Sam,\n",
      " olive,\n",
      "\n",
      "\n",
      "Cluster 4 titles: Sense and Sensibility, The Pickwick Papers, Our Mutual Friend, Mansfield Park, A Tale of Two Cities, The Life And Adventure Of Nicholas Nickleby, David Copperfield, Bleak House, Oliver Twist,\n",
=======
      "Cluster 2 titles: Tales of Terror and Mystery, The Lost World,\n",
      "\n",
      "Cluster 3 words: said,\n",
      " Joe,\n",
      " Sam,\n",
      " olive,\n",
      " aunts,\n",
      " ghostly,\n",
      "\n",
      "\n",
      "Cluster 3 titles: A Christmas Carol, Bleak House, David Copperfield, Great Expectations, Oliver Twist, Our Mutual Friend, The Life And Adventure Of Nicholas Nickleby, The Pickwick Papers,\n",
      "\n",
      "Cluster 4 words: Fanny,\n",
      " Lucie,\n",
      " seal,\n",
      " spanish,\n",
      " monsieur,\n",
      " madame,\n",
      "\n",
      "\n",
      "Cluster 4 titles: A Tale of Two Cities, Lady Susan, Mansfield Park, Sense and Sensibility,\n",
>>>>>>> upstream/master
      "\n"
     ]
    }
   ],
   "source": [
    "print(\"Top terms per cluster: \\n\")\n",
    "\n",
    "# Cluster the centers by how close they are to the centroid\n",
    "order_centroids = km.cluster_centers_.argsort()[:, ::-1]\n",
    "\n",
    "# Store the clustered terams\n",
    "clusterTerm = []\n",
    "\n",
    "# For the amount of clusters\n",
    "for i in range(num_clusters):\n",
    "    print(\"Cluster %d words:\" % i, end='')\n",
    "\n",
    "    term = ''\n",
    "    # Get the top 6 words index in each cluster \n",
    "    for ind in order_centroids[i, :6]:\n",
    "        \n",
    "        # Search the vocab_frame (the dictionary with the original non-stem words)\n",
    "        # Save that into title\n",
    "        title = vocab_frame.ix[terms[ind].split(' ')].values.tolist()[0][0]\n",
    "        \n",
    "        # Try printing the title\n",
    "        try:\n",
    "            print(\" \" + title + \",\")\n",
    "            term = term + title + \", \"\n",
    "        # If it is unable to print the word found at the index \n",
    "        except:\n",
    "            print(\" \" + vocab_frame.index[ind] + \",\")\n",
    "            term = term + vocab_frame.index[ind] + \", \"\n",
    "\n",
    "    # Begin pronting the titles of each cluster\n",
    "    print(\"\\n\")\n",
    "    print(\"Cluster %d titles:\" % i, end='')\n",
    "\n",
    "    # Print all the titles \n",
    "    try:\n",
    "        for title in resultFrame.ix[i]['title'].values.tolist():\n",
    "            print(' %s,' % title, end='')\n",
    "    except:\n",
    "        print (' %s' % resultFrame.ix[i]['title'], end = '')\n",
    "        \n",
    "    # Append the terms (this is to be used later when we display words of each cluster)\n",
    "    clusterTerm.append(term)\n",
    "    print(\"\\n\")"
   ]
  },
  {
   "cell_type": "markdown",
   "metadata": {
    "collapsed": true
   },
   "source": [
    "# Principal Component Analysis (PCA)\n",
    "\n",
    "There are different choices out there to convert the distance matric into a 2-D array. Therefore, this notebook will look at Principal Component Analysis to conduct this conversion. \n",
    "\n",
    "Principal Component Analysis tries to identify a smaller number of uncorrelated variables, called \"principal components\" from a dataset. The goal is to explain the maximum amount of variance with the fewest number of principal components.\n",
    "\n",
    "To find out more on PCA, visit this link: https://en.wikipedia.org/wiki/Principal_component_analysis"
   ]
  },
  {
   "cell_type": "code",
   "execution_count": 25,
   "metadata": {
    "collapsed": true
   },
   "outputs": [],
   "source": [
    "# Two components as we're plotting points in a two-dimensional plane\n",
    "# \"full\" because we are using the full singular value decomposition\n",
    "# We will also specify `random_state` so the plot is reproducible.\n",
    "pca = PCA(n_components=2, svd_solver='full', random_state=1)\n",
    "\n",
    "# Fit the model to the distance matrix\n",
    "pos = pca.fit_transform(dist)\n",
    "\n",
    "# Save the results\n",
    "PCAxs, PCAys = pos[:, 0], pos[:, 1]"
   ]
  },
  {
   "cell_type": "markdown",
   "metadata": {
    "collapsed": true
   },
   "source": [
    "# Setting up Graph Information\n",
    "\n",
    "Now that we have completed the data gathering and process portion we will move onto declaring some variables to graph. The first step is to set up colours to separate the categories and their names."
   ]
  },
  {
   "cell_type": "code",
<<<<<<< HEAD
   "execution_count": 28,
=======
   "execution_count": 26,
>>>>>>> upstream/master
   "metadata": {
    "collapsed": true
   },
   "outputs": [],
   "source": [
    "# Set up colors per clusters using a dict\n",
    "cluster_colors = {0: '#1b9e77', 1: '#d95f02', 2: '#7570b3', 3: '#e7298a', 4:'#ff0000'}\n",
    "\n",
    "cluster_names = {}\n",
    "\n",
    "# Set up cluster names using a dict\n",
    "cluster_names = {0: clusterTerm[0], \n",
    "                 1: clusterTerm[1], \n",
    "                 2: clusterTerm[2], \n",
    "                 3: clusterTerm[3], \n",
    "                 4: clusterTerm[4]}"
   ]
  },
  {
   "cell_type": "markdown",
   "metadata": {},
   "source": [
    "# Producing Graph\n",
    "\n",
    "Since we have converted the distance using two different metrics (MSD and PCA) we are going to create a new function that is going to plot both."
   ]
  },
  {
   "cell_type": "code",
<<<<<<< HEAD
   "execution_count": 29,
=======
   "execution_count": 27,
>>>>>>> upstream/master
   "metadata": {
    "collapsed": true,
    "scrolled": false
   },
   "outputs": [],
   "source": [
    "def create_graph(xs, ys):\n",
    "\n",
    "    # Create data frame that has the result of the MDS plus the cluster numbers and titles\n",
    "    df = pd.DataFrame(dict(x=xs, y=ys, label=clusters, title=textName)) \n",
    "\n",
    "    # Group by cluster\n",
    "    groups = df.groupby('label')\n",
    "\n",
    "    # Set up plot\n",
    "    fig, ax = plt.subplots(figsize=(17, 9)) # set size\n",
    "\n",
    "    # Iterate through groups to layer the plot\n",
    "    # Note that I use the cluster_name and cluster_color dicts with the 'name' lookup to return the appropriate color/label\n",
    "    for name, group in groups:\n",
    "        ax.plot(group.x, group.y, marker='o', linestyle='', ms=12, label=cluster_names[name], color=cluster_colors[name], mec='none')\n",
    "        ax.set_aspect('auto')\n",
    "        ax.tick_params(\\\n",
    "            axis= 'x',         # changes apply to the x-axis\n",
    "            which='both',      # both major and minor ticks are affected\n",
    "            bottom='off',      # ticks along the bottom edge are off\n",
    "            top='off',         # ticks along the top edge are off\n",
    "            labelbottom='off')\n",
    "        ax.tick_params(\\\n",
    "            axis= 'y',         # changes apply to the y-axis\n",
    "            which='both',      # both major and minor ticks are affected\n",
    "            left='off',        # ticks along the bottom edge are off\n",
    "            top='off',         # ticks along the top edge are off\n",
    "            labelleft='off')\n",
    "\n",
    "     # Show legend with only 1 point\n",
    "    ax.legend(numpoints=1)\n",
    "\n",
    "    # Add label to x,y position for the book titles \n",
    "    for i in range(len(df)):\n",
    "        ax.text(df.ix[i]['x'], df.ix[i]['y'], df.ix[i]['title'], size=8)  \n",
    "\n",
    "    # Display graph\n",
    "    plt.show()\n",
    "\n",
    "    #If you want to save the plot created uncomment the line below and replace \"_insertName_\" with a filename \n",
    "    #plt.savefig('_insertName_.png', dpi=200)"
   ]
  },
  {
   "cell_type": "markdown",
   "metadata": {},
   "source": [
    "# Graphing PCA"
   ]
  },
  {
   "cell_type": "code",
<<<<<<< HEAD
   "execution_count": 30,
=======
   "execution_count": 28,
>>>>>>> upstream/master
   "metadata": {},
   "outputs": [
    {
     "name": "stderr",
     "output_type": "stream",
     "text": [
<<<<<<< HEAD
      "/home/kynan/anaconda3/lib/python3.6/site-packages/ipykernel_launcher.py:33: DeprecationWarning: \n",
=======
      "C:\\Users\\zoonl\\Anaconda3\\lib\\site-packages\\ipykernel_launcher.py:33: DeprecationWarning: \n",
>>>>>>> upstream/master
      ".ix is deprecated. Please use\n",
      ".loc for label based indexing or\n",
      ".iloc for positional indexing\n",
      "\n",
      "See the documentation here:\n",
      "http://pandas.pydata.org/pandas-docs/stable/indexing.html#ix-indexer-is-deprecated\n"
     ]
    },
    {
     "data": {
<<<<<<< HEAD
      "image/png": "iVBORw0KGgoAAAANSUhEUgAABCUAAAH+CAYAAACrybTZAAAABHNCSVQICAgIfAhkiAAAAAlwSFlz\nAAALEgAACxIB0t1+/AAAADl0RVh0U29mdHdhcmUAbWF0cGxvdGxpYiB2ZXJzaW9uIDIuMS4yLCBo\ndHRwOi8vbWF0cGxvdGxpYi5vcmcvNQv5yAAAIABJREFUeJzs3Xl8zVf6wPFPNhFClMRWrYixhNyb\nm0SCyCoEtW+tWiOoWkvbdEE1tqlfGdTaGbs2VXsYlAhZRBFCElEUkSAUQUKCyE3u749MvpPIrk0j\n0+f9evXVufee7znPdxl1n3vOc/R0Oh1CCCGEEEIIIYQQfzb9ig5ACCGEEEIIIYQQf02SlBBCCCGE\nEEIIIUSFkKSEEEIIIYQQQgghKoQkJYQQQgghhBBCCFEhJCkhhBBCCCGEEEKICiFJCSGEEEIIIYQQ\nQlQISUoIIYQQQgghhBCiQkhSQgghhBBCCCGEEBVCkhJCCCGEEEIIIYSoEIZlaWxubq6ztLQsp1CE\nEEIIIYQQQojyERUVlazT6SwqOg6RX5mSEpaWlpw+fbq8YhFCCCGEEEIIIcqFnp5eYkXHIAqS5RtC\nCCGEEEIIIYSoEJKUEEIIIYQQQgghRIWQpIQQQgghhBBCCCEqRJlqSgghhBBCCFFeMjMzuXnzJs+e\nPavoUIQQlVjVqlVp1KgRRkZGFR2KKAVJSgghhBBCiFfCzZs3qVGjBpaWlujp6VV0OEKISkin03H/\n/n1u3rxJkyZNKjocUQqyfEMIIYQQQrwSnj17Rp06dSQhIYR4aXp6etSpU0dmXFUiMlNCCCGEEEK8\nMsqSkPjtySMOJp4nJeMJtYyr0aVxa+pXq1mO0QkhKgNJbFYukpQQQgghhBCVSvLTNGac2M2BxPNo\nddnK+1+e/DfdGtswp10vzE1MKzBCIYQQpSXLN4QQQgghRKWR/DSNPvtWsTfhXL6EBIBWl82/E2Lp\ns28VyU/TXqp/U9P8yYwNGzYwceLEYo/x9/dn4cKFLzXeqyIwMJBffvlFeT1z5kyCg4MB8PDw4PTp\n0wC89dZbpKSkkJKSwsqVKysk1l27drFgwYIC72u1WmrVqlUBEZXdkSNHOHHiRLn0PXLkSC5dulTk\n55XpOom/BklKCCGEEEKISuOLE3tIeHy/2DYJj+/zxYk9f1JE/xteTErMnj2bTp06FWi3f/9+atWq\nVaFJib59++Ln51chY/9RyjMpsX79elq0aFEufQtRHiQpIYQQQgghKoXfnjzip8S4UrX9KTGOO08e\n/aHjJyYm4uXlhVqtxsvLi+vXrxdo4+HhwdSpU3Fzc8Pa2ppTp07Rr18/mjVrxowZM5R233//PU5O\nTmg0GsaOHUtWVhZZWVn4+PhgY2ODSqVi8eLFxcZz7949OnfujL29PWPHjqVx48YkJycX2T/kzASZ\nPn06tra2tGvXjjt37vDzzz+zZ88e/Pz80Gg0XL16FR8fH7Zv315gTEtLS5KTk/nss8+4evUqGo0G\nPz8/hg0bxu7du5V2Q4YMYc+e0ieG/Pz8aNWqFWq1mk8//RSA3bt307ZtW+zs7PD29ubu3bsArFmz\nhilTpgBw9epV2rZti6OjI/7+/qUaa9++fdjb22Nra4u3tzcAycnJ9OrVC7VajbOzM3FxOc/ZjBkz\n8PHxwdvbG0tLSwIDA/noo4+wsbGhe/fuaLVaAE6dOoW7uzsODg5069aNO3fuFDn+1atXWbNmDQsW\nLECj0fDzzz9z584d+vXrR5s2bXByclISFjNmzGDUqFG4u7tjZWXFihUrSjw/FxcXoqOjgZznQKVS\nYWNjw7Rp0/K1mzp1Kvb29nTu3Jn794tP9AlRniQpIYQQQgghKoWDL9SQKI5Wl82BxPNlHuPp06do\nNBrln5kzZyqfTZw4keHDhxMbG8uQIUOYPHlyoX1UqVKF8PBw3n//fXr37s2KFSuIi4tjw4YN3L9/\nnwsXLrBlyxaOHTtGdHQ0BgYGBAQEEB0dTVJSEnFxcZw7d46RI0cWG+usWbPo2LEjZ86coW/fvkqS\npKj+AdLT02nXrh0xMTG4ubmxevVqnJ2d6dWrFwsWLCA6OpqmTZuWeJ3mz59P06ZNiY6OZsGCBYwe\nPZr169cDkJqays8//8xbb71Vqmt+584d9u/fz/nz54mNjeXzzz8HwM3NjRMnTnD27Fn69evHP/7x\njwLHTpo0iQ8++IBTp05hYWFR4li//fYb48aNY9euXcTExPDjjz8C8MUXX9C2bVtiY2Px9/fHx8dH\nOebatWvs37+fHTt2MHjwYLp27UpcXBz6+vocOHCAjIwMPvjgA3bs2EFUVBRDhw7liy++KDKGpk2b\nMnr0aPz8/IiOjsbZ2ZnJkyfzySefcPr0abZu3cro0aOV9r/++iuHDh3ixIkTzJw5U0kwleTmzZvM\nmDGDkJAQzp49y7Fjx9i7dy+Qc4/atWvHmTNnaN++PXPmzClVn0KUByl0KYQQQgghKoWUjCdlap/6\n/GmZxzAxMVF+ZYacmhK59RSOHz/Ozp07ARg2bBiffPJJoX306tULAJVKRevWrWnQoAEAVlZW3Lhx\ng4iICKKionB0dARyEiF169alZ8+exMfHM2nSJLp37678il+UiIgIdu3aBUDXrl157bXXADh8+HCh\n/UNOwqRHjx4AODg4cOjQoTJeocK5u7szYcIE7t69y86dO+nfvz+GhqX7qlG7dm309fUZM2YM3bt3\nV+K7fv06b7/9Nr/99hsZGRk0b968wLHHjx/n3//+N5BzT7788stixzp+/Dienp40btxYGRtyruW+\nffsA8Pb2xsfHh/T0dCCnjoahoSEqlQqAzp07Azn3NyEhgQsXLnD+/HlluUtWVhaNGjUq1bnnCg4O\nzlcH4uHDhzx9mvP89ujRgypVqlC3bl1q167NvXv3qF+/fol9njx5ko4dO2Jubg7A4MGDCQ8Pp2vX\nrhgaGjJw4EAAhg4dyuDBg8sUrxB/JElKCCGEEEKISqGWcbUytTerYlJOkeQoattBY2NjAPT19ZX/\nnftaq9Wi0+kYMWIEX331VYFjY2JiOHjwICtWrGDr1q2sW7euyPF1Ol2R7xfVv5GRkRK3gYGBsvzg\njzBs2DACAgL48ccfi427sJhOnz7NoUOH+PHHH1m1ahVBQUFMmDCBadOm8dZbbxEcHMz8+fMLHKun\np1em7R91Ol2h7V+8lnlf572fVapUUd7Pez/VajVHjx4tdRyFjR8ZGZmv/xfHh7Lds6KeDyj47MoW\nmqIiyfKNP8OtW7ByJakzZuDRvDkezs6YmZnh4eHByJEjlcrGpeXi4pLv9fz580lKSiI9PZ0OHToo\nWc+SjB49mnHjxpV6XB8fHxISEgq8P2fOHLp161boMf7+/oSGhpZ6jMKEhoYSHx//u/rIa/78+bi5\nueHq6srGjRuV90ePHo2LiwtJSUnKex4eHsr0u4SEBIYOHQrkTBUsTN42xSltuxeFhoZSo0YNUlJS\ngJx7cuXKFQ4cOKBk91+U2yavF5+hktoLIYQQr4IujVtjqFe6v74a6unTtXHrP3R8Z2dnZbp/QEBA\nsf89LY6Xlxfbt29XaiQ8ePCAxMREkpOTyc7Opn///syZM4czZ84AsHz5cpYvX16gHxcXF7Zu3QpA\nUFAQDx8+LLb/4tSoUYPHjx+X+hwKa+/j48OSJUsAaN268Gvv4eFRoN7C48ePefToET169GDx4sWc\nPXsWyFli8Prrr6PT6fL9nS2vdu3aKdcgd4kK5MxWsLGxKdC+Q4cOHDlyRLkeDx48AHKWiuQeHxwc\nTKNGjahevXrxF+E/WrVqRVJSEpGRkQA8f/6c8+dzlg598803fPvttwWOefH6derUKV+9iLyzdYpS\n2LXMq127doSEhHD//n20Wi0//vgj7u7uAGRmZiqzfn744QflWS4qXiHKkyQlytPdu/D229C4MUyY\ngNm8eYRevkzoqVOoqlQhdOtWZerY7/HZZ5/x+uuvExMTg6urK9u2bSvxmKysLG7fvk18fDzZ2aVb\nm1mU48ePY2JiQmpq6u/qpyhlSUqUdC4//fQT165dIzw8nJCQELZv365Umr506RIRERG8/vrr+Y4J\nCwvj2bNn+d5btmxZGc7gj/XGG2+wZs2afO917dqV7t27V1BEQgghxJ+jfrWadGtc8ItmYbo1tqFe\ntZp/6PhLly5l/fr1qNVqvvvuO7755puX6qdVq1bMnTsXb29v1Go1nTt35vbt2yQlJeHh4YFGo8HH\nx0eZ6XDx4kXq1KlToJ8vv/ySoKAg7O3t+emnn2jQoAE1atQosv/iDBo0iAULFmBnZ8fVq1dLPIc6\nderQoUMHbGxslJ0w6tWrh7W1db5aGDdu3FCWs2RlZREfH4+ZmVm+vlJTU+nevTu2trZ07NiRRYsW\nATk/bvXt2xd3d3fq1atXaBxLly5l8eLFODk5kZb2321g7927V+hMgXr16rFq1Sp69+6Nra0tQ4YM\nAXJ2G/n5559Rq9XMnDlTqY9RGsbGxmzfvp0PP/wQW1tb7OzsOHnyJJBT36Owe9e7d2+2bt2KnZ0d\nP//8MytWrODYsWOo1WpatWrF6tWrix2zqGuZS09Pj0aNGjF79mzlmWrXrp3y90UzMzPOnDmDvb09\nERERShHWouIVojzpFTet50Vt2rTR5a6pEyW4exc6dIAifnF2ASL+9jf8+/Th5sOHJCQkYGlpyZo1\na7h37x6jRo3i8ePHWFtbF9huycXFhYiICOW1j4+PUhn4xo0bDBs2jA8++KDYPkJCQjh9+jQZGRl0\n7NgRZ2dn/P39uXnzZr5Yrl27xrvvvkv9+vVJS0tjzZo1WFpaKv1cu3aNhQsX0r59e/T19Rk8eDAP\nHjygf//+mJiYUKVKFaZMmUJAQAAffvgh1tbWLF26lAYNGuDh4VEgxhdjWLlyJc2bN8fMzIxOnTpR\no0YNXFxc6NSpEz4+PspMjJ9++om0tDTmzZvH6dOnlWz6N998g729vRLvyJEjmTZtGs2aNQNy1lwe\nO3aM58+fs2zZMlxdXZUCQJCTgR40aBAGBgZ07tyZGTNm8P333yv34OLFi7z//vtAzvZUvXv3xtfX\nl9q1a3Pt2jV2795No0aNmDx5MtHR0dSsWZOAgAAePnyo9PXBBx8QHR1NdnY2AQEB1K9fn379+pGe\nno6FhYWS/YecBM3Bgwf5+eefOXLkCKNGjWLGjBlERESg1WoZPXq0UtDI2NiYnTt3MmXKFGbMmMGN\nGzdYs2YNGzZswNPTk4iICK5cucL48ePJyMhQzs/Hx4dq1aoRFxeHh4cHs2fPxtPTk+DgYAwMDOjf\nvz+rVq1S1qYKIYQQf5QLFy5gbW1dbJvkp2n02beq2G1BLWvUIbD7OMxNTP/oECtEjx492LlzZ4Gp\n/RkZGRgYGGBoaMjx48cZN25cqX5hLy9PnjxBpVJx5syZQr8sR0dH88MPP/D111+XeyyBgYHcunWL\n8ePHl/tYxenevTu7d+8udX2N0iruWlpbWxMUFMQbb7xR5n7LK96KUNifJ3p6elE6na5NBYUkiiAz\nJcrLpElFJiQUV67A/v20bt2a4OBgrl+/TkpKCvPnz+fzzz8nJCSEGjVqcPz48VINOXfuXIYNG8bc\nuXNL7GPXrl0MGDCAgQMHKgWSgAKxLFiwgH/84x9s37690Ax7bj+9evVi//79QM42TaNHj2b//v1K\ngZ4BAwYo20odOHCAt956q8gY88bw5MkTfHx8+Mc//lFoxeVctWrVYt++fTRq1Ig9e/YQHh7O7t27\nmT17dr52t2/fpmHDhsrrRo0acfv2bebOnYtKpcqXkMg1dOjQfNMB8/r888/59ttvCQ0NVZZ0PHz4\nkK1bt/Lhhx+yY8cOTp06RXp6OuHh4QwaNKjAlLivvvqKsLAwvvzyS/75z39y/fp1zM3NCQkJYcuW\nLQXGNDAwoGfPnsqUu7zOnj1LfHw8x44d4/Dhw8pfCMLCwli9ejUbNmzAyMhIaT99+nTWrl1LWFgY\n58+f5+bNm0DO1Mbw8HDOnDlDUlISXl5ehISE8OjRIzIzMyUhIYQQosKYm5gS2H0cPS3VBZZyGOrp\n09NS/T+VkADYu3dvobUGrl+/jqOjI7a2tkyePLnEX9fLU3BwMC1btmTSpElF/nqv0Wj+lIQEQJ8+\nfSo8IQE524+Wxxf8oq5lx44dadOmzUslJKD84hWiOPLElYdbt6CQL4yFunABm/9UZG7YsCGpqalc\nuHCBzz77DD09PdLS0nBycipzCCX1ceTIEX799VeAfGvRctfe5cYSHx+PnZ0dhoaGqNXqAuPs37+f\nAwcOoK+vz+XLl3n27Bnx8fFK1eTcWQpeXl783//9H2PHjqVGjRpUr169yBhfjCGvvEV48s7ycXBw\nACA+Pp6YmBg8PT0LvS4NGjTg1q1bykyJmzdvKhWxi1K1alVcXFwICgoq8FlycjItW7YEcoodQc6U\nTH19fV5//XWuXLnC1atXlevQpk0bwsLC8vXx9ddfc/jwYTIzM7G2tuZvf/sbKpWKIUOG4ODgwIcf\nflhg3NGjR/P222/nS7BAzpZRzs7OQP5rNWvWLA4fPpwvIQE5S1aGDRsGQEpKilJPw87ODsipKn3t\n2jUGDx7MV199RVJSEn379i32egkhhBDlzdzElFWeg/ntySMOJp4n9flTzKqY0LVx6z98ycarrFmz\nZkr9hYrWqVMnZUtSUXGOHDlS0SEIUWYyU6I8BAZCaSsZ63To/fxznpc6WrRowaJFiwgNDeX06dP0\n7t27zCEU10dkZCR9+/blwIEDHDhwgC5dunDu3Dmg4Jf+Jk2aEBMTQ1ZWltIm1507d2jUqBFBQUEc\nOHAAPz8/Dh06pBwDKP+hNDQ0xNLSkgULFtCnT59iY3wxBiMjI2U/ZjMzM27fvo1Op1MKCMF/EwJN\nmjTB0dGR0NBQQkNDC2xzNWDAABYuXAiAVqtlyZIl9OvXr8TrOWHChAJLYAAsLCyU5E5uPYsX47ey\nsiIqKgqA06dP59v7+/79+4SGhnL06FHmzJmDTqcjIyODqVOnEhAQwIEDBwotYFSrVi1atGihFFTK\n1aJFC06cOJFvfMjZzmzcuHEkJycXaL9582ZCQ0PzbR2We//i4uKwtLTEysqKW7dusXXr1lJdLyGE\nEOLPUL9aTUZYt2eybUdGWLf/SyUkhBDif4XMlCgP/6niW2ovVC6eNm0a7733Hqmpqejr67N69Wqa\nNGmifB4XF6fsg9yzZ89Cuyyuj127dinHQ07dhMKWAgB8/PHHDB48mHr16hUoMBQYGIirq2u+fv7v\n//6PhQsX0r9/fzZt2pRvC6MBAwbw9ttvK8tACouxMB4eHkybNo2TJ0/i4+ND37592bNnj7IXd14W\nFhZ0794dNzc3DAwM6Nixo7J7BuSsk8stCKrT6Rg1alShlZlf1KBBg0Lb/f3vf2fMmDHo6ekpNSVe\n5OTkxMaNG3F1daVGjRr88MMPyu4Zr732GqampnTs2FGZiZKYmMioUaPQarVYWVkVuVRi8uTJ+ao0\nQ85UvsaNG9OhQwelpgTAm2++ydKlSxk6dKiyjAZg3rx5+Pr6kpGRgZGRETt27ABylnusXLkSd3d3\nZZ/t3O24ipqSKYQQQgghhBBlJYUuy8PKlTBhQunbr1gBr8CaNyGKs3LlSiwsLEq95awQQghRVqUp\ndJmX9uEt0s7sJiv9AQbVa2Nq3xvD1xqWfKAQ4n+eFLqsPGSmRHno0wc++KB0SzgMDUHW6ItX3MqV\nK9m1a5dSzFQIIYSoSNpHd7n73STSzgRC1n//vnX3hymYOvSl7tClGNaUosxCCFEZSE2J8tCwIZR2\n3X2/flBCoUUhKtr48eM5dOhQgUKZQgghxJ9N++guN+a5knZqe76EBABZWtIit3FjnivaR3dfqv/f\nfvuNQYMG0bRpU1q1asVbb72l1I8qTEpKSr66U6GhoUrB75f17bffsmnTpt/VR2EsLS1RqVRoNBo0\nGg2TJ08GcraXz13eOXr0aH755Zcy9+3h4UFZZlRHR0fn+7HD399fqftVljFbtGihnM+AAQPKdHx5\nOnv2LHp6ehw8ePBPH9vUtGJ2nsn7HAlRFjJTorwsWwZnzhS/Lejf/pbTTgghhBBClMrd7yeTeaf4\nbdcz71zh7veTaTj+xzL1rdPp6Nu3LyNGjODHH3OOjY6O5s6dOzRv3rzQY3KTEn/U9pNarZb333//\nD+mrMCEhIZibmxf5+Zo1a8pt7Lyio6M5ffo0b7311u/qJyAggDZtXr3Z+Js3b8bFxYXNmzfTpUuX\nig5HiFeazJQoL3XrwrFj8PbbOUs08jI0zHn/2LGcdkIIIYQQokTah7dIi9pVqrZpUbvQptwuU/8h\nISEYGRnlSwpoNBpcXV1JS0vDy8sLe3t7VCoVu3fvBuCzzz7j6tWraDQa/Pz8csZOS2PAgAG0bNmS\nIUOGKLthRUVF4e7ujoODA126dFGKf+cW9XZ3d+ebb77JN2vAw8ODTz/9FCcnJ5o3b87Ro0cByMrK\nws/PD0dHR9RqNf/85z/LdK5FyZ3xsGfPHmUGQosWLZSC6bNnz8bR0REbGxvee++9fFu0f//99zg7\nO2NjY6PsEJaeno6vry+Ojo7Y2dmxe/dunj9/zsyZM9myZQsajYYtW7YA8Msvv+Dh4YGVlRVLly59\n6XPw8fFh3LhxeHp6YmVlRVhYGL6+vlhbW+Pj46O0MzU15dNPP8XBwYFOnToRGRmpjL9nzx4AEhIS\ncHV1xd7eHnt7e37Os2teUXQ6Hdu3b2fDhg0EBQXx7NkzpS9ra2vGjBlD69at8fb25unTp8p1/yPv\n8/Tp07G1taVdu3bKTm6JiYl4eXmhVqvx8vJStnB9cYZD7kyL27dv4+bmhkajwcbGRompNIp6Tv7s\n51lUDpKUKE9168KWLZCYmFPMcu7cnH9fv57zviQkhBBCCCFKLe3M7oJLNoqSpSUtKrBM/cfFxeHg\n4FDoZ1WrVmXXrl2cOXOGkJAQPvroI3Q6HfPnz6dp06ZER0ezYMECIGfq/pIlS/jll1+Ij4/n2LFj\nZGZmMmnSJLZv305UVBS+vr5Mnz5d6T8lJYWwsDA++uijAmNrtVoiIyNZsmQJs2bNAmDt2rWYmZlx\n6tQpTp06xerVq7l27VqJ5+jp6akkGxYvXlxku169ehEdHU10dDS2trZ8/PHHAEycOJFTp04RFxfH\n06dP2bt3r3JMeno6P//8MytXrsTX1xfI2emrY8eOnDp1ipCQEPz8/MjMzGT27Nm88847REdH8847\n7wBw8eJFDh48SGRkJLNmzSIzM7PE8xkyZIhyPrlJIYCHDx9y5MgRFi9eTM+ePZk6dSrnz5/n3Llz\nREdHK/F6eHgQFRVFjRo1mDFjBocOHWLXrl3MnDkTgLp163Lo0CHOnDnDli1blCUvxTl27BhNmjSh\nadOmeHh45FumcvnyZSZMmMD58+epVauWsvMZ/HH3OT09nXbt2hETE4Obm5uyw93EiRMZPnw4sbGx\nDBkypMRz+eGHH+jSpQvR0dHExMSg0WhKPPdcxT0nf+TzLP43yPKNP0PDhrK7hhBCCCHE75SVXrZt\n17PSH/5hY+t0OqZNm0Z4eDj6+vokJSUpv0C/yMnJSdlSW6PRkJCQQK1atYiLi6Nz5845sWVl0SBP\nXbHcL+aF6fefWmUODg4kJCQAEBQURGxsrPILd2pqKpcvX863jXxhSlq+8aKvv/4aExMTJvxnZ7mQ\nkBC+/vprnjx5woMHD2jdurWyRf27774LgJubG48ePSIlJYWgoCD27NmjzPx49uyZ8gv9i7p3746x\nsTHGxsbUrVuXO3fuKNexKEUt3+jZsyd6enqoVCrq1auHSqUCoHXr1iQkJKDRaKhSpQpdu3YFQKVS\nYWxsjJGRESqVSrnOmZmZTJw4kejoaAwMDIqtL5Jr8+bNDBo0CIBBgwbx3XffKfewSZMmypf7vPcT\n/rj7XKVKFaWuiYODA4cOHQLg+PHjynbxw4YN45NPPin2PBwdHfH19SUzM5M+ffqUKSlR3HPyRz7P\n4n+DJCWEEEIIIUSlYFC9dhnbv1am9q1bty6yUF9AQAD37t0jKioKIyMjLC0tlWn5LzI2Nv5vDAYG\naLVadDodrVu35vjx44UeU7169SLjyu0vty/ISZIsW7asXOsVHD58mG3bthEeHg7kJBTGjx/P6dOn\neeONN/D39893DfT09PIdr6enh06nY8eOHbRo0SLfZydPniwwXmHX7WXl9qWvr5+vX319faVfIyMj\nJea87fK2Wbx4MfXq1SMmJobs7GyqVq1a7LhZWVns2LGDPXv2MG/ePHQ6Hffv3+fx48eFnmPu8o28\nn/3e+5z3vIq7jrltDA0Nyc7OVsZ7/vw5kJNcCg8PZ9++fQwbNgw/Pz+GDx9e4vglPScV9TyLV5cs\n3xBCCCGEEJWCqX1vMCjlb2oGhpg69ClT/x07diQjI0OZ7g5w6tQpwsLCSE1NpW7duhgZGRESEkJi\nYiIANWrUUL5wFqdFixbcu3dPSUpkZmZy/vz5MsWXV5cuXVi1apWyxOHXX38lPT0dgJYtW750v7kS\nExMZP348W7duxcTEBED5Ymlubk5aWlqBBE5ubYiIiAjMzMwwMzOjS5cuLFu2TKkpcPbsWaD01w3A\ny8uLpKSk331OLyM1NZUGDRqgr6/Pd999R1ZWlvJZYdc5ODgYW1tbbty4QUJCAomJifTv35/AwLIt\nJcr1R95nZ2dnpYBrQEAALi4uQM6uLFFRUQDs3r1bGSsxMZG6desyZswYRo0axZkzZwAYPny4UjOk\nMCU9J+V9nqLykZkSQgghhBCiUjB8rSGmDn1Ji9xWYltTh74Y1irbtut6enrs2rWLKVOmMH/+fKpW\nrYqlpSVLlixRpp+3adMGjUajfFGqU6cOHTp0wMbGhm7dutG9e/dC+65SpQrbt29n8uTJpKamotVq\nmTJlCq1bty5TjLlGjx5NQkIC9vb26HQ6LCwsCAwMJDk5OV/xyRd5enpiYGAAgFqtLnLr0Q0bNnD/\n/n369u0LQMOGDdm/fz9jxoxBpVJhaWmJo6NjvmNee+01nJ2defToEevWrQPgiy++YMqUKajVanQ6\nHZaWluzduxdPT0/mz5+PRqN5wOLOAAAgAElEQVTh888/LzLe7Oxsrly5Qu3ahc+SGTJkiJI0MTc3\nJzg4uMi+Xsb48ePp378/27Ztw9PTU5nRUtR13rx5s3LNcvXv359Vq1bh6upa5vFf9j4XZunSpfj6\n+rJgwQIsLCxYv349AGPGjKF37944OTnh5eWlnGNoaCgLFizAyMgIU1NT5VmJjY3Nt/Qol1arxdjY\nmFq1ahX7nJT3eYrKR68sN7lNmza6suw/LIQQQgghRGlduHABa2vrYttoH93lxjzXYrcFNar3N96Y\nfhTDmn+9ouJ79+4lPj6+VAUZK4O4uDjWrVvHokWLKjqUfCr6OlfU+I8ePWLUqFFs25Y/MZidnY2j\noyObNm166URbYX7PeRb254menl6UTqd79faQ/YuTpIQQQgghhHgllCYpATmJibvfT87ZHjTvbhwG\nhpg69KXu0KV/yYSEEBXh1q1bdOrUCU9PT1asWFHR4SgkKVF5yPINIYQQQghRqRjWrEvD8T+ifXiL\ntDO7yUp/iEH11zB16FPmJRtCiN+nYcOG/PLLLxUdhqjEJCkhhBBCCCEqJcPXGlLLa1xFhyGEEOJ3\nkN03hBBCCCGEEEIIUSFkpoQQQgghhKiUUlOfcf7cbzx9kolJNSNaq+pjZla1osMSQghRBpKUEEII\nIYQQlUra4wwCd8QRd+43srP/W7R9z67z2Kjr06efDaY1jCswQiGEEKUlyzeEEEIIIUSlkfY4gxVL\njxEbcztfQgIgO1tHbPRtViw9RtrjjJcew9TU9PeGWSr+/v4sXLjwd/ezZMkSnjx5Uqq2CxcupGXL\nltjY2GBra8umTZsAsLS0JDk5ucTjT58+Xez2jAkJCfzwww+lC/wPlpCQgI2NTZmOKe15lwcfHx+2\nb99eIWML8SqRpIQQQgghhKg0AnfGcT+5+C/g95OfELgz7k+KqOKVNinx7bffcujQISIjI4mLiyM8\nPBydTlficbm0Wi1t2rRh6dKlRbapyKSEqDharbbY10IUR5ISQgghhBCiUkhNfUZc7G+lahsX+xuP\nUp+99Fg6nQ4/Pz9sbGxQqVRs2bJF+WzBggU4OjqiVqv58ssvS+xr//79tGzZEhcXFyZPnkyPHj2U\nz3755Rc8PDywsrLK92V/0aJF2NjYYGNjw5IlSwBIT0+ne/fu2NraYmNjw5YtW1i6dCm3bt3C09MT\nT0/PYuP4+9//zsqVK6lZsyYAZmZmjBgxQvl82bJl2Nvbo1KpuHjxIpAzm+O9997D29ub4cOHExoa\nqsQfFhaGRqNBo9FgZ2fH48eP+eyzzzh69CgajYbFixezYcMG+vTpQ8+ePWnSpAnLly9n0aJF2NnZ\n0a5dOx48eADA6tWrcXR0xNbWlv79+ytJlm3btimzOtzc3Eq81lqtlhEjRqBWqxkwYIDSz+HDh7Gz\ns0OlUuHr60tGxn9n0ixYsAAnJyecnJy4cuVKsf1v2LCBfv360bVrV5o1a8Ynn3yifBYUFET79u2x\nt7dn4MCBpKWlATmzMT799NNCxwgPD8fZ2RkrK6t8syYKe8a+/vpr5RmZOnUqHTt2VM5t6NChZGVl\n4ePjozyzixcvLvZc/P39GTFiBN7e3lhaWrJz504++eQTVCoVXbt2JTMzE4CoqCjc3d1xcHCgS5cu\n3L59GwAPDw+mTZuGu7s733zzDT4+Pnz44Yd4enri5+dHs2bNuHfvHgDZ2dn87W9/q7BZKeLVJkkJ\nIYQQQghRKZx/oYZEcbKzdcSdK10CozA7d+4kOjqamJgYgoOD8fPz4/bt2wQFBXH58mUiIyOJjo4m\nKiqK8PDwIvt59uwZY8eO5aeffiIiIkL5kpbr4sWLHDx4kMjISGbNmkVmZiZRUVGsX7+ekydPcuLE\nCVavXs3Zs2c5cOAADRs2JCYmhri4OLp27crkyZNp2LAhISEhhISEFBnH48ePefz4MU2bNi2yjbm5\nOWfOnGHcuHH5lpVERUWxe/fuAjMgFi5cyIoVK4iOjubo0aOYmJgwf/58XF1diY6OZurUqQDExcXx\nww8/EBkZyfTp06lWrRpnz56lffv2yvKRfv36cerUKWJiYrC2tmbt2rUAzJ49m4MHDxITE8OePXuK\njD3XpUuXeO+994iNjaVmzZqsXLmSZ8+e4ePjw5YtWzh37hxarZZVq1Ypx9SsWZPIyEgmTpzIlClT\nShwjOjpa6WvLli3cuHGD5ORk5s6dS3BwMGfOnKFNmzYsWrSoxDFu375NREQEe/fu5bPPPgMo8hlz\nc3Pj6NGjQM4ymrS0NDIzM4mIiFCueVJSEnFxcZw7d46RI0eWeC5Xr15l37597N69m6FDh+Lp6cm5\nc+cwMTFh3759ZGZmMmnSJLZv305UVBS+vr5Mnz5dOT4lJYWwsDA++ugjAH799VeCg4NZvHgxQ4cO\nJSAgAIDg4GBsbW0xNzcvMSbx1yNJCSGEEEIIUSk8fZJZtvZPy9Y+r4iICN59910MDAyoV68e7u7u\nnDp1iqCgIIKCgrCzs8Pe3p6LFy9y+fLlIvu5ePEiVlZWNGnSBIB333033+fdu3fH2NgYc3Nz6tat\ny507d4iIiKBv375Ur14dU1NT+vXrx9GjR1GpVAQHB/Ppp59y9OhRzMzMSn0+Op0OPT29Ytv069cP\nAAcHBxISEpT3e/XqhYmJSYH2HTp04MMPP2Tp0qWkpKRgaFh4DX1PT09q1KiBhYUFZmZm9OzZEwCV\nSqWMExcXh6urKyqVioCAAM6fP6+M4ePjw+rVq8nKyirxPN944w06dOgAwNChQ4mIiODSpUs0adKE\n5s2bAzBixIh8iaTce/Luu+9y/PjxEsfw8vLCzMyMqlWr0qpVKxITEzlx4gS//PILHTp0QKPRsHHj\nRhITE0sco0+fPujr69OqVSvu3LkDUOQz5uDgQFRUFI8fP8bY2Jj27dtz+vRpjh49iqurK1ZWVsTH\nxzNp0iQOHDigzIgpTrdu3TAyMkKlUpGVlUXXrl2B/96bS5cuERcXR+fOndFoNMydO5ebN28qx7/z\nzjv5+hs4cCAGBgYA+Pr6KkmndevWlSpJIv6aZPcNIYQQQghRKZhUMypbe5Oytc+rqFoLOp2Ozz//\nnLFjx/6ufnIZG/93lxADAwO0Wm2RxzRv3pyoqCj279/P559/jre3NzNnzixVHDVr1qR69erEx8dj\nZWVVbCy5ceSqXr16oe0/++wzunfvzv79+2nXrh3BwcElnqO+vr7yWl9fXxnHx8eHwMBAbG1t2bBh\nA6GhoUBOHYyTJ0+yb98+NBoN0dHR1KlTp8jzfDHxoqenV+I9yHtMSYmbF88n7z3r3LkzmzdvLtMY\nefvKjbO4Z8zS0pL169fj7OyMWq0mJCSEq1evYm1tjZ6eHjExMRw8eJAVK1awdetW1q1bV6pz0dfX\nx8jISIkt997odDpat25dZLLmxWcj7+s33niDevXqceTIEU6ePKnMmhDiRTJTQgghhBBCVAqtVfXR\n1y/5SyOAvr4eNqr6Lz2Wm5sbW7ZsISsri3v37hEeHo6TkxNdunRh3bp1Sr2ApKQk7t69C+T8gp6U\nlJSvn5YtWxIfH6/MCMhbm6K4sQMDA3ny5Anp6ens2rULV1dXbt26RbVq1Rg6dCgff/wxZ86cAaBG\njRo8fvxYOX748OFERkYW6Pfzzz9nwoQJPHr0CIBHjx7xr3/9q+wX5z+uXr2KSqXi008/pU2bNly8\neLFALKX1+PFjGjRoQGZmZr4vr1evXqVt27bMnj0bc3Nzbty4QVJSEl5eXoX2c/36deUL9ObNm3Fx\ncaFly5YkJCQotRy+++473N3dlWNy78mWLVto3749ALt27eLzzz8vdfzt2rXj2LFjyhhPnjzh119/\nLXaMohT3jLm5ubFw4ULc3NxwdXXl22+/RaPRoKenR3JyMtnZ2fTv3585c+Yoz8fy5ctZvnx5qc8l\nrxYtWnDv3j3lmmZmZiqzWEpj9OjRDB06lLfffluZQVHWayv+98lMCSGEEEIIUSmYmVXFRl2f2Ojb\nJba1UdenplnVMo+h1WoxNjamb9++HD9+HFtbW/T09Pj666+pX78+9evX58KFC8oXS1NTU77//nvM\nzc25cuUKtWvXztefiYkJK1eupGvXrpibm+Pk5FRiDPb29vj4+ChtR48ejZ2dHQcPHsTPz0/5VTu3\nLsJ7771Ht27daNCgASEhIcTGxtKgQYMC/Y4bN460tDQcHR0xMjLCyMhIqQXwMpYsWUJISAgGBga0\natWKbt26oa+vj6GhIba2tvj4+PDaa6+Vqq85c+bQtm1bGjdujEqlUhIbfn5+XL58GZ1Oh5eXF7a2\ntkRFRRW5VMTa2pqNGzcyduxYmjVrxrhx46hatSrr169n4MCBaLVaHB0def/995VjMjIyaNu2LdnZ\n2cpMh6tXr5Zq+UMuCwsLNmzYwLvvvqsU0Zw7d66yZKSwMYri7e1d6DNWt25dXF1dmTdvHu3bt6d6\n9epUrVoVV1dXICd5MXLkSLKzswH46quvgJwlRLlLWsqqSpUqbN++ncmTJ5OamopWq2XKlCm0bt26\nVMf36tWLkSNH5lu6UdZrK/736ZVlG6A2bdroTp8+XY7hCCGEEEKIv6oLFy5gbW1dbJu0xxmsWHqs\n2G1B65hXY8LkDpjWMC6yTVFiYmIYM2ZMoTMNihMXF8e6devyFTdUYk5Lw9TUFJ1Ox4QJE2jWrJlS\nBPKP9ujRI0aNGsW2bdvKpf9XwfLly3nzzTfp1atXuY0xdOhQFi9ejIWFxe/uy9LSktOnT1dYkcce\nPXqwc+dOqlSp8qePffr0aaZOnaoU6IQ/9toWp7A/T/T09KJ0Ol2bch1YlJkkJYQQQgghxCuhNEkJ\nyElMBO6MIy42/24c+vp62Kjr06efzUslJL799luWLl3KkiVL8Pb2LvPxRVm8eDEbN27k+fPn2NnZ\nsXr1aqpVq/aH9S9ebRWdlKgo8+fPZ9WqVQQEBODi4vKnjy9JicpDkhJCCCGEEOKVUNqkRK7U1Gec\nP/cbT59mYmJihI3q5ZZsCCH+90hSovKQmhJCCCGEEKJSMjOrirOLZUWHIYQQ4neQ3TeEEEIIIYQQ\nQghRIWSmhBBCCCGEqJSy7qaRcfgy2anP0DerirFXMwzqmlZ0WEIIIcpAkhJCCCGEEKJSybqfzuO5\nh3l2+DJos//7wVdHqNqpGTWme2FQp3rFBSiEEKLUZPmGEEIIIYSoNLLup/NgyA88O3gpf0ICQJvN\nswOXeDDkB7Lup1dIfBcvXkSj0WBnZ8fVq1crJIbS8PHxYfv27WU6xtQ0ZxZKQkICNjY25RFWhSju\nfDw8PCip0H9p2pSXl7kXGzZsYOLEiUDOjjObNm0qj9CEKDVJSgghhBBCiErj8bzDZF1PKbZN1vUU\nHs87XG4xZGVlFflZYGAgvXv35uzZszRt2rTcYshLq9X+KeOI/z3vv/8+w4cPr+gwxF+cJCWEEEII\nIUSlkHU3jWfBl0vV9lnwZbLupZWp/4SEBFq2bMmIESNQq9UMGDCAJ0+eAGBpacns2bNxcXFh27Zt\nREdH065dO9RqNX379uXhw4fs37+fJUuWsGbNGjw9PQH4/vvvcXJyQqPRMHbsWLKyssjKysLHxwcb\nGxtUKhWLFy8GYOnSpbRq1Qq1Ws2gQYMAePDgAX369EGtVtOuXTtiY2MB8Pf357333sPb27vEL5Wb\nNm1CrVZja2vLsGHDlPfDw8NxdnbGyspKmTWRlpaGl5cX9vb2qFQqdu/eXWzfWVlZ+Pn54ejoiFqt\n5p///CcAoaGheHh4MGDAAFq2bMmQIUPQ6XQA7N+/n5YtW+Li4sLkyZPp0aMHAOnp6fj6+uLo6Iid\nnV2JYxd1bomJiXh5eaFWq/Hy8uL69etAwdkhuTM/8nr69CmDBg1CrVbzzjvv8PTp0xJjANi2bRtO\nTk40b96co0ePAvlnJAD06NGD0NBQANauXUvz5s3x8PBgzJgxSrt79+7Rv39/HB0dcXR05NixY6Ua\nP3e8fv360bVrV5o1a8Ynn3yifLZ+/XqaN2+Ou7t7vj79/f1ZuHAhAKtXr8bR0RFbW1v69++vPPs+\nPj5Mnjy5wLNSnAMHDmBvb4+trS1eXl4AREZG4uzsjJ2dHc7Ozly6dAmAtm3bcv78eeVYDw8PoqKi\nXup5EJWT1JQQQgghhBCVQsaLNSSKo80mI/gy1d61K9MYly5dYu3atXTo0AFfX19WrlzJxx9/DEDV\nqlWJiIgAQK1Ws2zZMtzd3Zk5cyazZs1iyZIlvP/++5iamvLxxx9z4cIFtmzZwrFjxzAyMmL8+PEE\nBATQunVrkpKSiIuLAyAlJWfmx/z587l27RrGxsbKe19++SV2dnYEBgZy5MgRhg8fTnR0NABRUVFE\nRERgYmJS5PmcP3+eefPmcezYMczNzXnw4IHy2e3bt4mIiODixYv06tWLAQMGULVqVXbt2kXNmjVJ\nTk6mXbt29OrVCz09vUL7X7t2LWZmZpw6dYqMjAw6dOiAt7c3AGfPnuX8+fM0bNiQDh06cOzYMdq0\nacPYsWMJDw+nSZMmvPvuu0pf8+bNo2PHjqxbt46UlBScnJzo1KkT1asXXh+kqHObOHEiw4cPZ8SI\nEaxbt47JkycTGBhYwp3PsWrVKqpVq0ZsbCyxsbHY29uX6jitVktkZCT79+9n1qxZBAcHF9n21q1b\nzJkzhzNnzlCjRg06duyIra0tAB988AFTp07FxcWF69ev06VLFy5cuFCqGACio6M5e/YsxsbGtGjR\ngkmTJmFoaMiXX35JVFQUZmZmeHp6YmdX8P8X/fr1Y8yYMQDMmDGDtWvXMmnSJKDwZ6Uo9+7dY8yY\nMco9zr0vLVu2JDw8HENDQ4KDg5k2bRo7duxg0KBBbN26lVmzZnH79m1u3bqFg4MD06ZNK9PzICov\nmSkhhBBCCCEqhezUZ+XaHuCNN96gQ4cOAAwdOlRJQgC88847AKSmppKSkoK7uzsAI0aMIDw8vEBf\nhw8fJioqCkdHRzQaDYcPHyY+Ph4rKyvi4+OZNGkSBw4coGbNmkBOomPIkCF8//33GBrm/HYYERGh\nzADo2LEj9+/fJzU1FYBevXoVm5AAOHLkCAMGDMDc3ByA2rVrK5/16dMHfX19WrVqxZ07dwDQ6XRM\nmzYNtVpNp06dSEpKUj4rTFBQEJs2bUKj0dC2bVvu37/P5cs5s1mcnJxo1KgR+vr6aDQaEhISuHjx\nIlZWVjRp0gQgX1IiKCiI+fPno9Fo8PDw4NmzZ8osh7Kc2/Hjxxk8eDAAw4YNy3cPSxIeHs7QoUOB\nnPuhVqtLdVy/fv0AcHBwICEhodi2kZGRuLu7U7t2bYyMjBg4cKDyWXBwMBMnTkSj0dCrVy8ePXrE\n48ePSx2/l5cXZmZmVK1alVatWpGYmMjJkyfx8PDAwsKCKlWqKM/xi+Li4nB1dUWlUhEQEJBv9kJh\nz0pRTpw4gZubm3KPc+9LamoqAwcOxMbGhqlTpyr9v/3222zbtg2ArVu3KtejrM+DqLxkpoQQQggh\nhKgU9M2qlmt7oMCMgLyvy/oLrU6nY8SIEXz11VcFPouJieHgwYOsWLGCrVu3sm7dOvbt20d4eDh7\n9uxhzpw5nD9/XlnyUFhMpYlHp9MVOcvB2Ng4XzuAgIAA7t27R1RUFEZGRlhaWvLsWdHJHZ1Ox7Jl\ny+jSpUu+90NDQ/P1b2BggFarLfR88va1Y8cOWrRoUeJ5lXRueeW2MTQ0JDs7Wzn2+fPnxbYvi9xz\nzT3PF8cDlOtY3DXIzs7m+PHjJSabSorjxVhKc04+Pj4EBgZia2vLhg0blKUmL/ZbXPy5nxc23hdf\nfIGnpye7du0iISEBDw8PAF5//XXq1KlDbGwsW7ZsUZYAlfV5EJWXzJQQQgghhBCVgrFXMzAs5V9f\nDfUx7tSszGNcv36d48ePA7B582ZcXFwKtDEzM+O1115Tagd89913yqyJvLy8vNi+fTt3794FcupD\nJCYmkpycTHZ2Nv3791em8WdnZ3Pjxg08PT35+uuvSUlJIS0tDTc3NwICAoCcL/rm5ubKzIq8kpKS\nlLX7L8awdetW7t+/r8RQnNTUVOrWrYuRkREhISEkJiYW275Lly6sWrWKzMxMAH799VfS04ve+aRl\ny5bEx8crswm2bNmSr69ly5YpX3rPnj37Uufm7OzMjz/+COQkWXLvoaWlJVFRUQDs3r1biTmvvNc7\nLi5OqeEBMHz4cCIjI4u9HnlZWloSHR2t3NvcY52cnAgLC+Phw4dotVp27NihHOPt7c3y5cuV17lL\ndSIjI1+6IGXbtm0JDQ3l/v37ZGZmKrMSXvT48WMaNGhAZmamcg1K0rJlywLvtW/fnrCwMK5duwb8\n976kpqby+uuvAzn1L/IaNGgQX3/9NampqahUKqDsz4OovGSmhBBCCCGEqBQM6ppStVMznh24VGLb\nqp2aYWBRsJBhSaytrdm4cSNjx46lWbNmjBs3rtB2Gzdu5P333+fJkydYWVmxfv36Am1atWrF3Llz\n8fb2Jjs7GyMjI1asWIGJiQkjR45UfkX/6quvyMrKYujQoaSmpqLT6Zg6dSq1atXC39+fkSNHolar\nqVatGhs3biw0ntu3bytLPvJq3bo106dPx93dHQMDA+zs7Ap8IcxryJAh9OzZkzZt2qDRaAr90pnX\n6NGjSUhIwN7eHp1Oh4WFRbH1G0xMTFi5ciVdu3bF3NwcJycn5bMvvviCKVOmoFar0el0WFpasnfv\n3jKf29KlS/H19WXBggVYWFgo92bMmDH07t0bJycnvLy8Cp1pMm7cOOV6azSafPHFxsbSoEGDYq9H\nXh06dKBJkyaoVCpsbGyU+hSvv/4606ZNo23btjRs2JBWrVphZmYG5BQ7nTBhAmq1Gq1Wi5ubG99+\n+y3Xr19/6dkTDRo0wN/fn/bt29OgQQPs7e0L3UFmzpw5tG3blsaNG6NSqUpcNpKcnFzorAkLCwv+\n9a9/0a9fP7Kzs6lbty6HDh3ik08+YcSIESxatIiOHTvmO2bAgAF88MEHfPHFF8p7ZX0eROWlV9L0\nm7zatGmjq6g9eIUQQgghxP+2CxcuYG1tXWybrPvpPBjyQ7Hbghq8WYvaAYMxqFO25RYJCQn06NFD\nKUBZmSxfvpw333yTXr16VXQoJUpLS8PU1BSdTseECRNo1qwZU6dOLbL9q3Bujx49YtSoUUXOMiir\n3Gug1Wrp27cvvr6+9O3bt8j2fn5+DBs2rNQ1Lv4Me/fuJT4+nsmTJ/+p45b2eSjszxM9Pb0onU7X\npjzjE2UnSQkhhBBCCPFKKE1SAnISE4/nHc7ZHjTvbhyG+lTt1Iwa073KnJCAyp2UqEwWL17Mxo0b\nef78OXZ2dqxevZpq1apVdFh/qo8//pjg4GCePXuGt7c333zzzUvVshBFk6RE5SFJCSGEEEII8Uoo\nbVIiV9bdNDIOXyY79Rn6ZlUxfsklG0KI/z2SlKg8pNBlHqGhoTRu3BgvLy88PDzYvHlzmY4/cOAA\n+/btK9Cnv79/gbaLFi3Czc0NFxcXPvjgg98TdqnodDq6d++Om5sb+/btKxBnroSEBGUbpLxyq+MK\nIYQQQrwqDOqaUu1dO0zfb0+1d+0kISGEEJWQVAgBuHULAgMhKophrVoxd+1anr72GgMHDqRFixZK\nUZqSdO3atVTtfvrpJy5dukRYWBh6enqEhYX9nuhLlJ2dzW+//UaNGjWKTEYIIYQQQgghhBB/tr92\nUuLuXZg4EXbtgv/s4QtA48aY9OvHR76+/Pvf/0alUtG1a1cyMzOxsLBg69atzJ8/H3t7e7p168ae\nPXu4dOkSFhYWaLVaRo8eja+vL9evX6dx48a88cYb+YbdunUr06dPV9aN5W4h9f3337N8+XIMDAxY\nuXIltra2tGvXDrVazZkzZ/D396dHjx54eHjQpk0bIiIi8PX15b333uPKlSuMHz+ejIwMOnfuzIwZ\nM/Dx8cHU1JRff/2VunXrEhISwujRo3FxcVHinD17NkeOHEFfX59169bli/Nf//oX69atk1kSQggh\nhHg15f6w9OAB1K4NffpAw4YVHZUQQogy+Osu37h7Fzp0gG3b8ickIOf11q00nDqV365dw9DQkL17\n9xIeHo61tTVHjhxh4MCByp7CO3fuZMCAAcrhkZGRGBgYEBwcTNOmTQsMffv27QLbCWVlZbF06VKO\nHj1KQEAA06dPB+DevXvMmDGDsLAwvvrqK6V93759OXbsGBs2bOD58+dMnz6dtWvXEhYWxvnz57l5\n8yaQsxVRUFAQc+fOpXPnzqxZs0bp49y5cyQlJREaGsqKFSvy9a/Valm7di0RERGVooqzEEIIIf5C\n7t6Ft9+Gxo1hwgT44oucfzduDO+8k/O5EEKISuGvm5SYNAmuXCm2SdL16zQ4fZr09HRGjRqFu7s7\n27dv59atWzRv3pyrV6/y9OlTkpKSaNKkiXJcfHw8dnZ2ADg4OBTot0GDBty6dSvfe/fu3aNx48YY\nGRlhaWlJamoqAHXq1OHNN9+kevXqGBgYKO3t7OwwMDCgcePG3L17l0uXLjFs2DA8PDy4cOECSUlJ\nRY6f68KFC4SGhuLh4cG4ceN49OiR8llycjKNGzfG0NCw2D6EEEIIIf5UpfhhiQ4d/pTExMyZMwkO\nDi7wfmhoKD169Cj22ISEBExMTNBoNMo/z58/L69QS2XDhg1MnDixQmP4PVJSUli5cmWp2q5btw6V\nSoVarcbGxobdu3eXc3SF8/HxYfv27QCMHj2aX375pULiEKIi/TWTErduwc6dxTZ5BiwBel68yMEf\nf6R58+aEhYXRv39/cncs8fDwYObMmXTs2DHfsU2aNCEmJgaAs2fPFuj77bffZuHChUo/4eHhWFhY\nkJCQQGZmJgkJCZiZmQHw4MEDbt68yZMnT8jKylL6iImJISsri8TEROrWrUuLFi3YvHkzoaGhREVF\n4ejoCIC+ftG3uEWLFhrRorkAACAASURBVHh7exMaGkpoaCibNm1SPjM3NycxMZGsrKxCz0EIIYQQ\nokKU4oclrlzJaVfOZs+eTadOnV76+KZNmxIdHa38U6VKlT8wur+e0iYlbt68ybx584iIiCA2NpYT\nJ06gVqv/hAiLt2bNGlq1alXRYQjxp/trJiUCAwtm1v/jO8AL6AoMAuyysmh75w579uyhR48eJCQk\nKG0HDhzI4sWL8y3dAGjbti0ZGRl4eXnx66+/FhijW7dutGjRAnd3d1xcXNixYwcGBgZMnDgRV1dX\nBg8ezJw5c4Cc5IC/vz9ubm58+umnSh/btm3D2dmZ4cOHU6VKFf6fvfuOq7ru/z/+OIyciDvHZY5w\nlKCo5ACUA6LhFnIWKI6fmat12dcUyxSzZV02zTQxMzUXapqD9GCuFNRSIwvnpWi4wK2Mz+8P8lye\nGIKJx/G8327e5PP+vM77/TofGvA67zFx4kT69+9PQEAA7du359KlSzd9DA0bNqRSpUqYzWb8/f2Z\nOXOm9Z6TkxP9+vXD29ubxTcp4IiIiIjcEfn4YMlq8WI4frxA3V+8eJEOHTrQsGFD3N3dmT9/PpBV\nfHjiiSdwd3dn0KBB1g+WbvyUe9WqVdSrVw9fX99/9LPTtm3b8Pb2plGjRnh7e7Nv3z4gaxZDSEgI\nQUFB1K5dm1deecX6mpIlSzJmzBjrfmR//vkn58+fp2bNmqSlpQFw7tw5atSoYb0uiJIl/3eqycKF\nCwkPDwfgzz//JDg4mIYNG9KwYUM2b97M2LFjmTJlijV+zJgxfPjhh3n2/9xzz+Hl5UX9+vV5/fXX\nre01atTg1KlTAMTFxVn3ORs3bhz9+/fHbDZTq1Yta/+jRo1i//79eHp6MnLkyFzHS05OxsXFxfq+\nSpYsaZ31/MUXX/DEE0/QsGFDnnrqKevP1OHh4Tz33HP4+/tTq1YtYmNj6d+/P4899pj1eeRl165d\n1r3igoODOXv2bLYYs9lMXFwcn332mc33NyoqiuF/Fdm+/vprmjZtiqenJ88++6zNh5Yi9yzDMPL9\np0mTJsZ9YcIEw4D8/4mMtFuqPj4+2dr8/PyMtLQ0O2QjIiIiUnh+/fXXvAM++aRgP8N98kmBxl+4\ncKExcOBA63VKSophGIZx+vRpa1toaKixbNkywzAMo2/fvsaCBQuMy5cvG//617+M33//3cjMzDS6\nd+9udOjQIc+xDh48aBQtWtRo2LCh0bBhQ2PIkCGGYRhGamqq9ee8tWvXGiEhIYZhGMbMmTONmjVr\nGikpKcbly5eNRx55xDhy5IhhGIYBWHMaOXKkMWHCBMMwDCM8PNxYsmSJYRiG8fnnnxsvvfRSnjnN\nnDnTGDp0aLb2EiVKWL9esGCB0bdvX8MwDKNHjx7GBx98YBiGYaSnpxspKSnGwYMHjUaNGhmGYRgZ\nGRlGrVq1jFOnTuU57vXnm56ebvj5+Rk///yzYRiGUb16dePkyZOGYRjG9u3bDT8/P8MwDOP11183\nWrRoYVy5csU4efKkUbZsWePatWvGwYMHjfr16+c51vVx2rZta1SrVs0IDw+3PjvDMGxyHTNmjPHh\nhx8ahpH1ve7Zs6eRmZlpREdHGy4uLsYvv/xiZGRkGI0bNzZ27tyZ55geHh6GxWIxDMMwxo4dazz/\n/PPWfhcsWGAYRtbP+Nu3bzeSk5ONRx991PraoKAg48cffzR+/fVXo2PHjsa1a9cMwzCM5557zpg1\na9ZN3++DKqf/ngBxRgF+/9WfO/PnwZwpUbZsweLLlCmcPEREREQk/86cKVh8Dp9G58XDw4OYmBj+\n7//+jx9//NG6nHb9+vU0a9YMDw8P1q1bx969e21e99tvv1GzZk1q166NyWQiNDQ0X+PduHzjk08+\nASA1NZXu3bvj7u7Oiy++aDNW69atcXV1pWjRojz++OMcPnwYgIceesi6h0WTJk2sM3sHDhxonQk7\nc+ZM+vXrV6DncTPr1q3jueeeA8DR0RFXV1dq1KhBuXLl2LlzJ2vWrKFRo0aUK1cuz36+/fZbGjdu\nTKNGjdi7d2++9lXo0KEDRYoUoXz58lSsWJE///wz33k7OjqyatUqFi5cSJ06dXjxxRcZN24cAHv2\n7KFly5Z4eHgwZ84cm+ffqVMnTCYTHh4ePPzww3h4eODg4ED9+vVtZlP/XWpqKikpKdYT9/r27cuG\nDRtyja9QoQK1atVi69atnD59mn379uHj48MPP/xgXabt6enJDz/8wIEDB/L9vkXuVg/mkaBdu8Lz\nz+e6hMOGkxMEBxd+TrnYuHFjtjaLxXLnExERERGxt0L+YKlOnTrEx8ezcuVKXn31Vdq2bcsrr7zC\nkCFDiIuLo1q1aowbN44rV65ke+31o97/qbFjx+Lv78+SJUs4dOiQzdHsRYoUsX7t6OhI+l8/yzo7\nO1vHv7Hdx8eHQ4cOERsbS0ZGBu7u7reU043vLaf3/ncDBw4kKiqKEydO0L9//zxjDx48yHvvvcf2\n7dspU6YM4eHh1jGcnJzIzMzMcdzcnkV+mUwmmjZtStOmTWnTpg39+vVj3LhxhIeHEx0dTcOGDYmK\nirL5ufv6mA4ODjbjOzg4FHj8m+nZsyfffvst9erVIzg4GJPJhGEY9O3b1+bEPJH7wYM5U6JKFQgJ\nyV9sSAj87fhOEREREbGDrl2zPjDKj1v4YCkpKYnixYsTGhrKv//9b3bs2GH9Zbh8+fJcuHDBuofE\njerVq8fBgwfZv38/AHPnzrXe27ZtG3369Ml3DqmpqVStWhXI2kvgn+rTpw+9e/e2mSXx8ccf8/HH\nH+e7j4cffpiEhAQyMzNZsmSJtb1169Z89tlnQNbx9tdPcgsODmbVqlVs376dJ5980hpfr169bH2f\nO3eOEiVK4Orqyp9//sn3339vvVejRg3i4+MBWLRo0U3zdHFx4fz58zZtOY2ZlJTEjh07rNe7du2i\nevXqAJw/f57KlSuTlpbGnDlzbjrm3/Xp04dt27bZtLm6ulKmTBl+/PFHAGbPnm2dNZGbkJAQoqOj\nmTt3Lj179gSynvfChQtJ/utkmTNnzlhny+Q0rsi94sEsSgB89BG4ueUd4+aWFSciIiIi9lfIHyzt\n3r3buongxIkTiYiIoHTp0vy///f/8PDwoGvXrtYTzm5UtGhRpk2bRocOHfD19bX+ggtw5MgRihUr\nlu8cXnnlFV599VV8fHxuyyaGzzzzDGfPnqV3797Wtt9++y3XJRVRUVH861//sv45evQob731Fh07\ndiQgIIDKNzzTKVOmsH79ejw8PGjSpIl1qcNDDz2Ev78/PXr0sB5pf+rUKbKW9Ntq2LAhjRo1on79\n+vTv3x8fHx/rvddff53nn3+eli1bWvvJS7ly5fDx8cHd3Z2RI0fmOmZaWhr//ve/qVevHp6ensyf\nP9+6OeeECRNo1qwZbdq0ybGgcTO//PKLzTO6btasWYwcOZIGDRqwa9cuXnvttTz7KVOmjHWJTtOm\nTQF4/PHHiYyMpG3btjRo0IA2bdpw/K/NXHMbV+ReYMrpX9TceHl5GXFxcYWYzh2WnJx1XNTixbZL\nOZycsv5H9tFHULGi/fITEREReYAkJCTw2GOP5R2UnAw+PnkfC+rmBps23RU/x40cOZKwsDC7HTm5\ncOFCli5dyuzZs61tHTt2ZPHixYV2BGlmZiaNGzdmwYIF1K5dG4DvvvuOAwcOMGLEiEIZMyd3esxz\n584xYMAAFixYcEfGs/e4d7uc/ntiMpniDcPwslNKkosHuyhxXVJS1jGhZ89mrT0MDtaSDREREZE7\nLF9FCdAHS/k0fPhwvv/+e1auXEmdOnXuyJi//vorHTt2JDg4mMmTJ9+RMUVyoqLEvUNFCRERERG5\nK+S7KHGdPlgSkVyoKHHveDBP3xARERGRu5JhGPk/yaJKFRgypHATEpF7TkE+eBf7e3A3uhQRERGR\nu0rRokU5ffq0fqEQkVtmGAanT5+maNGi9k5F8kkzJURERETkrnD9tIeTJ0/aOxURuYcVLVqUf/3r\nX/ZOQ/JJRYn7zfW1lWfOQNmyuL37LpGTJtGrVy9rSGpqKl26dAFg586dNGrUiJo1azJz5sxs3UVE\nRBAYGIjZbC5wKsuXL+f1119nxIgRhIeH8+uvvzJkyBAuX77M4cOHqVevHr6+vkRGRt7SW01LS2PU\nqFHEx8dz7do1unfvztChQ3n11VeZPHkyX375Jf379wdg/PjxPPfcc1SoUOGWxhIREZHC5+zsTM2a\nNe2dhoiI3EHa6PJ+kZwMw4bBkiXWXah/Bv5jMnGtWjXmbN+e4y7Uvr6+bNy4Mddu/0lRon///owe\nPRo3Nzeb9sTERCIjI4mKiipwnzf64IMPyMzM5OWXXwYgNjYWPz8/6/2bvTcREREREXlwaKPLu5P2\nlLgfXD+ve8ECm2OxFgNDDINLR45w1ds7Ky4PK1aswGw24+XlxZw5c2zuZWZm8uyzzxIQEECnTp1I\nTU21ub969WqaN29O8+bNWb9+PbGxsaxYsYLQ0FC2bNmS65iZmZl06NABgKeeeoqpU6dy4cIFevTo\nAcDgwYNp1aoVXbp04cKFCzavXb58uc25035+fly5coXAwEA2btzI7t27MZvNzJ8/n169enH06FFr\n3wEBATzzzDNkZGQwf/58mjZtSkBAADExMXk+IxEREREREbl9VJS4HwwfDomJ2Zp3AE8AQUDM/v1Z\ncXnw9/fHYrGwZcsWpk6danNv6dKluLm5sW7dOgYNGsS0adNs7r/xxhvExMSwatUqxo4di5+fH23a\ntGHevHm0aNEi1zEdHBxwcnLi6tWrODk5sWPHDrZu3UrTpk358ccfcXR0ZMOGDXTq1IkZM2bYvDYt\nLQ1nZ+cc+/X19cXDwwOLxULPnj2t7Z999hm9e/dm3bp1eHl5sWzZMhYuXMiyZctYt24drVu3zvMZ\niYiIiIiIyO2josS9LikJFi/O1rwf2ENWQWIesAyy4o4fz7Wr7du307p1awIDA0lISLC5l5CQwJw5\nczCbzbz99tucPn3a5r6TkxMlS5akdOnS+T/G6y9NmjRhwYIFPPbYY1y7do3Nmzfj4+PD/v37ady4\nMQBeXl4k/q3w4uzsTFpaWoHGSkhI4J133sFsNjNv3jz+/PNPXnvtNUaPHk2/fv04dOhQgfoTERER\nERGRW6eixL0uOtpmycZ1i4DpwCpgPXAcyEhPz9pzIhdvvfUWs2bNYu3atbi4uNjcq1u3Lv369cNi\nsbBx40YmTJhgcz8tLY0LFy6QkpJS4GO8vL29ee+99/Dx8aFSpUqsWLGCJk2aUKtWLeLj4wGIi4vj\n0UcftXldp06d+PDDD63XGzZssLnv6OiYLZe6desSERGBxWLhp59+YsCAAbi5ufHll18SFhZm05+I\niIiIiIgULhUl7nVnzuTYvALwvuH6cWAjwNmzuXYVEhJCx44dGTRoEGXKlLG5FxwczL59+wgICCAg\nIIA1a9bY3H/ttddo3bo1Tz75JOPGjSvQW2jevDkJCQk0b94cHx8fnJyceOihh2jVqhVpaWm0atWK\npUuXMmDAAJvXDRs2jKSkJMxmM97e3tYCxnXt27enY8eOLF++3OY1X3/9tfV97Nmzh9GjR9OqVSte\neeUVunfvXqDcRURERERE5Nbp9I173aefwtCh+Y//5BMYMqTw8hEREREREbkL6fSNu5NmStzrunYF\nJ6f8xTo5QXBw4eYjIiIiIiIikk8qStzrqlSBkJD8xYaEQOXKtzZOUlLWrIzISFYPG0bLZs0wm828\n9NJLZGRkFLg7k8nEwoULgaz9KMqWLUtUVFSOsSkpKSzOYTPPm/H19bW5tlgsVK9eHbPZjNlsznas\n6apVq1ixYkWBx7ned0GXrYiIiIiIiDzoVJS4H3z0Ebi55R3j5pYVV1DJydCjB1SvDkOHcmrsWCZ+\n8gmr4uOxPPwwFYoV44svvrhpN5mZmTbXHh4e1gLA+vXrs21ieaNbLUrkJCwsDIvFgsViwdXV1Sa/\noKAgOnTocFvGERERERERkZtTUeJ+ULEibNqUVTz4+1IOJ6es9k2bsuIKIjkZfHxgwQLrCR8rgDCg\nREYGfPstL86bx5L584H/zUw4dOgQ4eHhQNYmls899xz//ve/bbouVaoUly9f5tq1a0RHR9O1a1cg\na8ZBREQEAFFRUURFRTFt2jTWrl2L2Wxm+/bthIaGWmOvz07o0aMHfn5+tG3blnPnzuX7LZrNZl55\n5RX69OlDVFQU06dPB2D8+PGYzWYCAgI4dOgQhw4dIiAggG7dutGkSROOHj0KQP/+/QkMDGT27NkF\ne7YiIiIiIiKiosR9o2JFmD8fDh/O2swyMjLr7yNHstoLWpAAGD4cEhNtmo4DVW64LnrgANf27s21\ni1OnTjFmzBjef//9bPcCAgKIiYnh+PHjVK1aNdc+Bg0aRJs2bbBYLFSoUCHHmKioKGJjY+nRowfz\n/yqS5GT27NmYzWb69etnbQsODubrr7+2Xu/evZtjx45hsVj45JNPmDRpEgBnz57l22+/5aWXXmLR\nokVs27YNR0dHYmJi8pzpISIiIiIiIjnL5w6Jcs+oUuX2nK6RlAQ5LJmoDCTdcH0FcD51Co4ft7bd\neKJLxYoV+de//pXjEF26dKFdu3b06tXL2mYymWz6ufE6p/sAGRkZjBw5kt27d3Pu3DmC89jMMyws\njMjISJu2Jk2a2FwnJCRgsVgwm81Z7/mvfTgef/xxHBwcqFq1KomJiRw4cIBGjRpZ+9iyZUuu44qI\niIiIiEh2mikhOYuOti7ZuFE74Cvg4l/XHwBdDQOWLOHKlStA1kyD6xwccv9H7OGHHyYwMJDu3btb\n21xdXTn+V4Hjej/Ozs7WzTRdXV05ceKEzf1du3Zx8eJFNmzYwNChQynIMbc55Vi3bl3atm1r3Xvi\nq6++ArIXRGrWrMnPP/8MwM6dOws0poiIiIiIiKgoIbk5cybH5orAq0AQ4Af8CQwCOHuWDh064Ovr\nS2xsbL6Heeedd6hZs6b1ukGDBiQlJdG+fXtOnjwJQKVKlThz5gzdunUjMzOTRx55hMDAQH799Vcg\nq4iQmJhIUFAQ27Ztu5V3a6Nhw4ZUqlQJs9mMv78/M2fOzDGuWbNmXL16ldatW/P777//43FFRERE\nREQeNKaCfKrs5eVlxMXFFWI6ctf49FMYOjT/8Z98cnuWjYiIiIiIiBQCk8kUbxiGl73zEFuaKSE5\n69o1+0keuXFygjz2cRARERERERHJiYoSd5DFYqF69eqYzWZ8fHxISEgAso6lTM9h/4bcjBs3jpiY\nmFzHuH6kJkB4eDiJfztBI1+qVIGQkPzFhoTAX5tBioiIiIiIiOSXihJ3QlJS1nKI2bMJe/xxLN98\nw7vvvsvUqVPtnVnePvoI3NzyjnFzy4oTERERERERKSAVJQpTcjL06AHVq2ftz/Dll7BqFVSvzrlR\noyjl6GgTfvLkSTp37oy/vz9D/tqfYdWqVfj5+eHl5WU9BeK6PXv20KVLF86fP3/TVFJTU+nYsSOt\nWrVixIgRgO2Mi/DwcA4dOsSSJUto2rQpAQEBrIyLw9i4kecefZQAk4kOwNnrHTo5Zb23TZugYsV/\n9JhERERERETkwaSiRGFJTgYfH1iwwOZozdlAq/R0+v34Iz0WLsyK+8tbb73Fq6++yvr163FxcWHL\nli20atWK2NhYtm7dyrRp06yxe/fuZfTo0cyePRsXFxeboWfPno3ZbMZsNrNq1SoApk2bRs+ePdmw\nYQOXLl3ip59+yjHtRYsW8e2337Ju3TratWvHd9u28ciAAaw7epRhQ4YwtU2brE0tjxyB+fNVkBAR\nEREREZFbls+dDKXAhg+HHPZyCAMiyTpKc+B//8vy4cOt9xISEhg1ahQmk4kLFy7QtGlT0tPTeeON\nN0hLS2Pv3r3W2Lfffps5c+ZQqlSp7GOEhREZGQlkzYAA2L9/P+3btwfAy8uLxMRETCaT9TXXT2GJ\niIggMjKS9PR0xowZQ0JCAvPmzWP16tWkp6fTokULnbIhIiIiIiIit4WKEoUhKQkWL84zxAU4B1lx\nTzwBQN26dQkNDaVJkyYApKenExwczPTp06latSq1a9e2vv7DDz/kzTffpFq1arjdbN8HoFatWsTH\nx1O/fn3i4uIYOHAgJ0+e5Pjx4xiGYS14VK9enenTp7N582bef/99goKC6NOnDy+//DIAaWlpBX8e\nIiIiIiIiIjlQUaIwREfbLNm40WxgI3AFiICsuFOnABg9ejSDBg0iNTUVBwcHvvjiC4KDg+nSpQue\nnp6UKVPG2k/p0qX56quvCA0NZc6cOVSqVCnPlAYNGsTTTz/NF198QYMGDWjevDlVqlQhODiYZcuW\nWfseN24cW7du5cKFC0yePBk/Pz9GjBhBQEAAAC+88AKdO3f+hw9IREREREREBEzXp+3nh5eXlxEX\nF1eI6dwnIiNh7NiCxY8ZU3j5iIiIiIiIPOBMJlO8YRhe9s5DbGmjy8JQtmzB4m+YASEiIiIiIiLy\noFBRojB07Zp1ZGZ+ODlBcHDh5iMiIiIiIiJyF1JRojBUqQIhIfmLDQmBypULNx8RERERERGRu5CK\nEoXlo4/gZqdiuLllxYmIiIiIiIg8gFSUKCwVK8KmTdCjR/alHE5OWe2bNmXFiYiIiIiIiDyAdCRo\nYapYEebPh6SkrGNCz57N2tQyOFhLNkREREREROSBp6LEnVClCgwZYu8sRERERERERO4qWr4hIiIi\nIiIiInahooSIiIiIiIiI2IWKEiIiIiIiIiJiFypKiIiIiIiIiIhdqCghIiIiIiIiInahooSIiIiI\niIiI2IWKEiIiIiIiIiJiFypKiIiIiIiIiIhdqCjxl9TUVMxmM2azGVdXV8xmM/369SMmJqZA/bi6\nuuLv74+vry+///47u3btYsaMGTnGjhs3Lt/932o/FouF6tWrYzab6dKlC1euXMnfGxEREREREREp\nZCpKJCXBp5/i+tFHWHr0wPLNN3h4eFh/mS8oDw8P1q9fz+TJk3nnnXfw9PRkwIAB/zjNf9JPWFgY\nFosFb29vFi5c+I9zuS4zM/O29SUiIiIiIiIPnge3KJGcDD16QPXqMHQojB2b9Xf16rBvX9Z9YN68\neQQGBjJw4EAATp48SefOnfH392fIkCG5du/p6cnRo0exWCxEREQA8Nlnn9G8eXP8/f3Zt2+fNXbP\nnj106dKF1NRUevbsCYCPjw/R0dEcOHCAIUOGFKif8+fP55nTqlWr8PPzw8vLi6+++grImm0RHh5O\nYGAg/fv3B+Dy5cv07t2bgIAAevbsSVpaGlFRUfTs2ZMOHTqwa9cuzGYz/v7+jBgx4pa+DSIiIiIi\nIvLgejCLEsnJ4OMDCxZAerrtvfR0OHUq6/7Fi9SvX5+YmBiOHDlCSkoKb731Fq+++irr16/HxcWF\nLVu25DjEhg0bqFu37g1DJrNgwQI2bdrE+vXrqV27NgB79+5l9OjRzJ49G1dXV1JTU7l69SrlypVj\n8+bNbN68GW9v7wL14+LikmdOrVq1IjY2lq1btzJt2jTr/dq1axMTE0ORIkXYunUr06dPp3Pnzqxb\ntw6z2WydZVG6dGlWrFjBmTNnMJvNrF+/nilTphT8+yAiIiIiIiIPtAezKDF8OCQm5h2TmAgrV+Lu\n7g5AlSpVSE1NJSEhgVGjRmE2m/nhhx9ISkqyednu3bvx9/fn008/ZdSoUdb2gwcP0rhxYxwdHQFw\ncMh69G+//TYvvvgipUqVAqBWrVosWLCA9u3bk5yczObNm/Hx8SlwPzeaPXs2/v7+pKSk0LlzZ+Lj\n4wkMDKR169bs3bvXGteoUSMga0ZFYmIiCQkJ/Oc//8FsNjNr1iyS/5o90qRJEwD8/PzIzMzk6aef\n5uuvv877eYqIiIiIiIj8jZO9E7jjkpJg8eL8xSYkYDpzxnppGAZ169YlNDTU+ot5+t9mWlzfU+K6\n68sratWqxc6dO8nMzMTBwcG6H8OHH37Im2++SbVq1XBzc8Pb25v33nuP2bNns3PnTn777Tdq1qzJ\n4cOHC9TPjcLCwoiMjLRev/POO0yfPp2qVataZ1oA/Pzzz7Rv356ff/6ZsLAwTp8+TevWrXnqqacA\nSEtLY86cOdZCSEZGBuPHjweyChlhYWH5e64iIiIiIiIiPIgzJaKjsy/ZyI1hwKZNNk2jR48mMjKS\ngIAAAgMD+e9//5uvripUqMBTTz2Ft7c3/v7+/PHHH0DWUoivvvqKZ599lhMnTuDj48Phw4dxd3fH\ny8uLMmXK3FI/eQkODqZLly4MHDjQpv+EhARat27NpUuXaNGiBYMGDWLJkiW0bt2agIAAduzYYdPP\ntm3b8PX1pVmzZgQGBubrOYiIiIiIiIhcZzIMI9/BXl5eRlxcXCGmcwdERmZtalmQ+DFjCi+fu8S4\ncePw9fVVcUFERERERO5LJpMp3jAML3vnIbYevJkSZcsWLP5vMxVERERERERE5PZ48GZKJCVlHfuZ\nnyUcTk5w5AhUrlz4eYmIiIiIiEih0UyJu9ODN1OiShUICclfbEiIChIiIiIiIiIiheTBK0oAfPQR\n/O2Eimzc3LLiRERERERERKRQPJhFiYoVs07V6NEja4nGjZycsto3bcqKExEREREREZFC4XTzkPtU\nxYowf37WHhPR0XD2bNamlsHBWrIhIiIiIiIicgc8uEWJ66pUgSFD7J2FiIiIiIiIyAPnwVy+ISIi\nIiIiIiJ2p6KEiIiIiIiIiNiFihIiIiIiIiIiYhcqSoiIiIiIiIiIXagoISIiIiIiIiJ2oaKEiIiI\niIiIiNiFihIiIiIiIiIiYhcqSoiIiIiIiIiIXagoISIiIiIiIiJ2oaKEiIiIiIiIiNiFihIiIiIi\nIiIiYhcqSoiIiIiIiIiIXagoISIiIiIiIiJ2oaKEiIiIiIiIiNiFihIiIiIiIiIiYhcqSoiIiIiI\niIiIXagoISIii8wpjAAAIABJREFUIiIiIiJ2oaKEiIiIiIiIiNiFihIiIiIiIiIiYhcqSoiIiIiI\niIiIXagoISIiIiIiIiJ2oaKEiIiIiIiIiNiFihIiIiIiIiIiYhcqSoiIiIiIiIiIXagoISIiIiIi\nIiJ2oaKEiIiIiIiIiNiFihIiIiIiIiIiYhcqSoiIiIiIiIiIXagoISIiIiIiIiJ2oaKEiIiIiIiI\niNiFihIiIiIiIiIiYhcqSoiIiIiIiIiIXagoISIiIiIiIiJ2oaKEiIiIiIiIiNiFihIiIiIiIiIi\nYhcqSoiIiIiIiIiIXagoISIiIiIiIiJ2oaKEiIiIiIiIiNiFihIiIiIiIiIiYhcqSoiIiIiIiIiI\nXagocYfFxsYSEBCA2WymdevWbN68+Zb7io6O5syZM9naXV1dMZvNmM1mxo8f/0/SLdC411ksFg4c\nOADAqlWrWLFixW3PQURERERERO59TvZO4EGQmnqFvbtPcOL4n0S++X8sXbaMatUqcv78eRITE21i\nMzMzcXDIX60oOjoad3d3ypYta9Pu4eGBxWK5Xenne9zrLBYLvr6+1KpVi6CgoELLQ0RERERERO5t\nJsMw8h3s5eVlxMXFFWI695cL568SvWgPe3afIDPTYM+v68jMTMOzQRDuDSrRNcSdki5FAGjYsCEe\nHh64u7vTrVs3hgwZwtWrV2nTpg0RERHMnDmTWbNmceHCBd58803q1atH06ZNqV69Ot26dWPkyJHW\ncX19fdm4caP1+tixY/Tv35+VK1cSERFBs2bNKF26NJMnTyY9PZ2rV6+ycOFCypYty/jx41m3bh0O\nDg58+eWX1KhRg4iICNavX0+RIkWIioqyGdfDw4NJkyZx8eJFRowYQa9evahTpw6urq4EBgbi4eFB\neno6AwcOZMSIEezatYtSpUoxZ84czp49S//+/SlbtiwHDx5k6dKlXLlyhT59+lCkSBHatGnD6NGj\n7/j3TURERERE7j8mkyneMAwve+chtjRTopBcOH+VTz7cxOlTl6xtFy+epnz5GmRmGsybN5eI11bT\nuUsgH374AUePHmXz5s2UKFGCnj17MmPGDKpVq0bv3r05evQoPXv2pF+/fqSmptK9e3fWrFlDUFAQ\nERERuLm52Yy9e/duzGYzAE8//TSDBg2iW7duDBo0iMuXLzNp0iQsFgtXrlxh7dq1zJ8/n2nTptGh\nQweOHTuGxWIhISGBSZMmMXjwYA4cOMCmTZu4XsC6cdxLly4RFBREeno6ZrOZPn36EB4ejq+vL4GB\ngURFRQGwfft2Ll68yIYNG/j666+ZOnUqPXv25OzZs8TExDB37lwWLVpEiRIlGDRoEOHh4RSkYCYi\nIiIiIiL3HhUlCkn04j02BQmAEiXKcuFC1l4Mj9czU7XyY+zcEQ1A3bp1KVGiBAD79u0jLCwMgJSU\nFI4dO8b27duZMmUKhmGQnJyc59g5Ld8IDQ3l5ZdfZvXq1da2Ro0aAeDp6cnatWtJSEjAYrFYCxqV\nK1fm999/x9vbGwCTyZRtrPj4eN544w3S0tLYu3dvrjnt37+fxo0bA+Dl5UVsbGzWc3j8cRwcHKha\ntSqJiYn069ePcePG8cwzzxAaGkq7du3yfK8iIiIiIiJy71JRohCkpl5hzy8nsrXXquHF0hWTqFfH\nlyJFSpBpZJBy9jLnUq/Y7CNRt25d/vOf/1C5cmUyMjIwmUw0b96c2NhYrl69io+PDwDOzs5kZGTk\nK6dx48YxYcIE3nzzTZYvXw7Azz//bP370UcfpW7durRt25aPPvoIwFpoWL58OcOGDQPAMAybcd95\n5x2mT59O1apVqV27dq551apVizVr1gAQFxfHo48+CtgWOq73/f7773Pt2jV8fHxUlBAREREREbmP\nqShRCPb+tYfE3xUv7op3894sWRaJyeSAycGBZk90Y89u2wLGxIkT6d+/P1evXsXZ2ZlFixbRsWNH\nWrVqRdOmTSldujQATz75JEOGDKF79+4MHjzY+vobl280adKE3r17k5SUxNtvv01GRgZffPEFtWvX\nxtnZmaCgIK5cucKiRYsoV64clSpVwmw2YzKZ6N27N4MGDaJ69er4+PhQpEgRFi9ebDNucHAwXbp0\nwdPTkzJlygBgNpsZPXo0P/30E4888ggATZs2ZdasWbRs2RIXFxe++eYbUlJSsj2jZcuW8fHHH3Pp\n0iVCQ0Nvy/dDRERERERE7k7a6LIQ/LDmD1Z/vy/f8U+2r0vrNrULMaPsLBYLMTExREZG3tFxRURE\nRERE7EEbXd6d8nf2pBRIseLOBYsvVrB4ERERERERkfuBihKFoL5HJRwcsm8KmRMHBxPuHpUKOaPs\nzGazZkmIiIiIiIiIXakoUQhcXYvi3iB/hQb3BpUo5Vq0kDMSERERERERufuoKFFIuoa4U6588Txj\nypUvTtcQ9zuUkYiIiIiIiMjdRUWJQlLSpQhDR/jQwLNytqUcDg4mGnhWZugIH0q6FLFThiIiIiIi\nIiL2pSNBC1FJlyKE9m1CauoV9u4+weXLaRQr5oy7h5ZsiIiIiIiIiGimxB3g6loUb98atG5TG2/f\nGipIiN2lpqZiNpsxm824urpiNpvp169ftriIiAgsFsttGTMuLo5GjRrx1ltvAXDmzBnMZjN+fn6U\nLl0as9nMwIEDb8tYt8uVK1cICgqyaVu1ahUPPfQQZ8+eBeDHH3/EZDJx4sSJfPUZExPDkSNHbnuu\nIiIiIiL3Is2UEHmAZCRf4OoPf+CYeoWVz35Akda18QsJum2Fh7ysXLmSd999l8DAQADKli2LxWIh\nPT2dwMDAfOVgGAYAJlPWkqjMzEwcHHKvrd7s/q1q0KAB3333HWFhYSxZsgQvr/wfdx0TE0PRokV5\n5JFHbhpbWPmLiIiIiNwt9NOuyAMg4/RFUl5cxsnAzzk3IYYLH27k3IQYTgZ+TvrBM2ScvsiKFSsw\nm814eXkxZ84cm9dnZmby7LPPEhAQQKdOnUhNTWXjxo00a9aMgIAAZs2aZRO/Y8cOfHx8aN68OXPn\nzmXfvn3MmDGDf//73yxZsiTPXI8fP07Hjh3x9/fnhRdeAGDUqFEMHDiQNm3asHv3bgIDAwkJCeGb\nb75h5cqVNG/enBYtWhAbGwuAr68vI0eOZMCAATZ9P/fcc/j5+eHn50dSUhIAzZo1Y/DgwTRs2JB1\n69YB8NFHH9GiRQvGjh2bY45PPvkkq1evBuDAgQM8+uijALRv357z588DMHjwYPbu3cvLL79My5Yt\n8ff35+jRo3zzzTcMHz6cV199lQsXLtCjRw8CAgJ45plnyMjIYOrUqfTu3Zv27dszYcIEZsyYAcDW\nrVsZOXJkns9OREREROReo5kSIve5jNMXOfPMN2QcScl+Mz2TzLOXOfPMN7T6oisdLBbS0tKsvyRf\nt3TpUtzc3Pj8889Zvnw506ZN4/Tp00yePBlfX1/rDIbrxo4dy7x583j44Yfx8fFh69athIWFERgY\niNlszjPfyMhIJkyYQKNGjXj++efZuXMnAPXr12f69On89ttvnDlzhjVr1uDg4EDz5s354YcfuHr1\nKl27dmXDhg2kp6fz9NNP06hRI5u+J0+eTPHixfnuu++YMWMGY8eOJTk5mTfffJOzZ88SERGBt7c3\nc+fOZdOmTVgsFnbv3p0tx2LFigGwadMmPD09+e233wAICQlh6dKl9OrViz/++IP69euzfft2NmzY\ngMlkwjAMnn76aTp27Iivry/vvvsuvXv3Jjg4mA8++IBly5YBULFiRebOncv58+d55plnGDBgAPPn\nzycsLCzvb7aIiIiIyD1GRQmR+9z5iT/kXJC4QcaRFDa8/AXvn/6B9PR0EhISbO4nJCTw7bffsmLF\nCtLT0/H19WXYsGFMnDiRzz//nBdeeIEmTZpY48+dO0e1atUAqF69OqdOncp3vgkJCbz44otZuZ8/\nT5s2bQBs+vf09MTBwQHDMChatCglSpSgRIkS1uKIo6Mjnp6e2fqeOHEiP/74I1euXLH2V6VKFcqW\nLUvx4sVJSUnhxIkTuLm54eDgYDPm37Vt25ahQ4fy1Vdf8eabbwLQrVs3BgwYQIUKFazLVF566SXC\nwsKoWLGiNe7G97p48WKmTJnC5cuXrft6XB/XxcWFkiVLcvz4cX755RcaN26c7+coIiIiInIvUFFC\n5D6WkXyBKzF/5Ct28vdfMXPjUio/VpO6deva3Ktbty79+vXj+eefByAtLY309HQ+++wzjhw5wtCh\nQ1m+fLk13sXFhSNHjlC5cmUOHz5M+fLl851z3bp1GTZsGPXr18cwDDIyMti4caPN3grXvzaZTFy5\ncoWLFy9y9epV632TyWTdd+K6Y8eOER8fz4YNG1i+fDkrVqywxl5nGAYPP/ww+/fvJzMz0zpLIyed\nOnVi06ZNNGjQwNpWunRpnJycmDp1Ku+//z6QtdSja9euvPbaa6xevRpnZ2cyMjKs7/Wpp56iQ4cO\n1uc6Y8YMm/faq1cvRowYQcuWLfP9DEVERERE7hUqSojcx67+8AekZ+Yrtn1Jdzp16UxjcwvKlClj\ncy84OJhhw4YREBAAwMsvv8xvv/3G0qVLuXDhAqNHj7aJHz9+PL169SIjI4Pnn38eR0fHfOf8+uuv\n8+yzz3L+/HkcHR2JiorKMz4iIoKAgABMJhOTJk3KNe7hhx8GIDAwkMceeyzXuGLFitGjRw+8vb3x\n9fXNNa5MmTJ8/vnn2dp79OjBe++9R82aNYGsfSbS09NxdHRkxIgRlCpVitdee4127doxfPhwBg4c\nyOTJkwGsf9+oXbt29OvXj8jIyFxzERERERG5V5n+vhY8L15eXkZcXFwhpiMit9OFqVu48OHGfMeX\nHOFLycEtCjGj+9/ixYs5duwYw4cPvy39Xbt2jU6dOlk31hQRERGRW2MymeINw8j/sWlyR+j0DZH7\nmINr0UKNF1tz587lgw8+oE+fPrelvxMnTtCmTRsGDx58W/oTEREREbnbaKaEyH0sI/kCJwM/z98S\nDicHKvzwLI4VShZ+YiIiIiIid5hmStydNFNC5D7mWLEkRQNr5yu2aGBtFSREREREROSOUlFC5D7n\nMqY1jo+UzjPG8ZHSuIxpfYcyEhERERERyaKihMh9zrFcCcrOeZqiQXXB6W//yjs5UDSoLmXnPI1j\nuRL2SVBERERERB5YKkrcIampV9i88RA/rPmDzRsPUavWo8ybNy/H2B9++AE/Pz9atWpFcHAwp0+f\nJjw8nMTExFz737VrFzNmzMjx3pdffnlb3kNOdu7cSWBgIH5+fgQFBbF///5b6ufQoUOEhobe5uzk\nOsdyJSj9fmcqxDxLqbGBlBzhS6mxgVT44VlKv99ZBQkREREREbELJ3sncL+7cP4q0Yv2sGf3CTIz\nszYVTT55kBLFa/HhlFl07BBMSZci1vhTp04xfvx4vvvuO1xcXPj999+5du1anmNkZmbi6emJp6dn\njve//PJL+vfvf/ve1F+uXbvGsGHDWLRoEZUqVeLEiROkpqbm+ZrrG6uaTKbbno/cnGPFkhTv3cje\naYiIiIiIiACaKVGoLpy/yicfbuKXn49bCxIAvyduxtOjHSdPpjDl/fVcOH/Vem/FihWEhYXh4uIC\nQJ06dahcuTIAH330Eb6+vrzxxhsAhIeHM2zYMIKCgrBYLERERHDmzBnMZjP+/v6MGDGCZcuWsXv3\nbsxmM2vXrsVsNjNmzBi8vLz44osvCA0NpWHDhqxevRqASZMm4efnR7Nmzdi5cycAffv2xc/PD39/\nfzIz/3eKw5YtW/D396dSpUoAVKpUibp167Jq1Sr8/Pzw8vLiq6++AmDcuHH069ePJ598klOnTjFi\nxAhatWpFx44db1rIEBERERERkfuTihKFKHrxHk6fupStPTl5P5Ur1aFm9cbs2LmF6MV7rPeOHz9u\nLUL8ndlsZuPGjaxcudLa5uPjw5o1a6zXO3bswGw2s379eqZMmULnzp3x8PDAYrHQpk0bALp168am\nTZsYNWoUkydP5vvvv+eTTz4B4Pnnnyc2NpY5c+bw3nvvkZaWxtGjR4mNjWXdunU4OPzvH5nccm3V\nqhWxsbFs3bqVadOmWdvr1KnDmjVrOHToEBcvXmTDhg306tWLqVOn5veRioiIiIiIyH1ERYlCkpp6\nhT2/nMjWfjblOKdOH2bBktf57fcfSdz/E3t+OcG51CsAVK5cmaSkpBz7dHd3B6BYsWLWtiZNmtjE\n+Pn5kZmZydNPP83XX3+daz9FihShXr16PPzww1SpUoWzZ88CMHv2bFq1asXAgQNJSkrC2dmZvn37\nEhoaSkREhM1MidxyjY+PJzAwkNatW7N3795sue7fv5/GjRsD4OXlledeGSIiIiIiInL/UlGikOy9\nYQ+JG/2euJknA0fQPfgNenV7k4uXzpKens6e3VkFjPbt2/P1119z/vx5ABITEzl+/DiQ8z4MN85c\nAMjIyGD8+PF88803TJ48OcfXXb++sf36Xg+ffvopFouFL774AsMwyMjIoHfv3nz99decPHmS7du3\nW1/TokULLBYLJ05k5Z6cnMy+fft45513mD59OjExMbi6umbLtVatWsTHxwMQFxfHo48+mvfDFBER\nERERkfuSNrosJJcvpeXYfuDgdhp7drRelytbjWNJv3L58uMAVKhQgbFjx9KxY0cMw6Bs2bK5nqqR\nk23btjF69GjS0tIIDAwEoGnTpnTt2pWXX375pq9v2rQprVq1olWrVgCcP3+ezp07k5GRQalSpfDw\n8LDGPvTQQ3z88ceEhoaSlpZG0aJF+eyzzwgODqZLly54enpSpkyZHMeYNWsWLVu2xMXFhW+++YaU\nlJR8v0cRERERERG5P5iuf0KeH15eXkZcXFwhpnP/2LzxENGL9tw88C9dn3LH27dG4SUkIiIiIiLy\nADOZTPGGYXjZOw+xpeUbhaS+RyUcHPJ37KWDgwl3j0qFnJGIiIiIiIjI3UVFiULi6loU9wb5KzS4\nN6hEKdeihZyRiIiIiIiIyN1FRYlC1DXEnXLli+cZU658cbqGuN+hjERERERERETuHipKFKKSLkUY\nOsKHBp6Vsy3lcHAw0cCzMkNH+FDSpYidMhQRERERERGxH52+UchKuhQhtG8TUlOvsHf3CS5fTqNY\nMWfcPbRkQ0RERERERB5sKkrcIa6uRXW6hoiIiIiIiMgNtHxDREREREREROxCRQkRERERERERsQsV\nJURERERERETELlSUEBERERERERG7UFFCREREREREROxCRQkRERERERERsQsVJURERERE7gNubm7M\nmzcvW/u5c+fo0KEDZrOZFi1aEBcXR0pKCosXL85Xv4cOHSI8PPymceHh4SQmJt407r333qNFixb4\n+voybty4fOWQE19f31zvRUdHc+bMmVvuW0TuHCd7JyAiIiIiIgV34tI5Vh/eS8rVS5w7eAyvFs1Z\nvnw5vXr1son76quvCAkJYcCAAaSnp3P58mVOnz7N4sWLCQkJuaM5nzt3ju+++44tW7YAcPbs2Vvq\nJzMzM8/70dHRuLu7U7Zs2VvqX0TuHM2UEBERERG5h5y6fIHB6+fQ/Nu3GLN1Ke/uXMu7UZ8TW9OJ\nzYd/51jKaZv44sWLs2XLFk6dOoWTkxMuLi5MmzaNtWvXYjab2b59O6GhoQBYLBbr7IXXXnuNli1b\n8v777wPw008/MXLkyKwcTp3KtaARFRVF7969ad++Pe3bt8cwDOs9R0dHTpw4wc8//wxAmTJlANi0\naRM+Pj74+/szf/58kpKS8Pf3x9fXlyFDhlhz69y5M506dWL16tXWPhMTE2nbti1+fn5ERkZy5MgR\nVq1axTPPPMO77777Tx+3iBQyFSVERERERO4Rpy5foOuKz/ju0G7Sjf/NFkg7/CeONSuR8mg52rw9\nklOXL1jvhYWF8cgjj+Dv709gYCAnTpxg0KBBtGnTBovFQoUKFbKNc/z4cbZt28aPP/5I8+bNAWjW\nrBnx8fEYhsGiRYvo1q1brnlWrFiRlStXUrVqVX755Rdre4kSJZgyZQojR46kTp06REdHAzBq1CiW\nLl3K+vXr6d69O+XLl2ft2rVs3LiRc+fO8ccffwBw7do1li9fTrt27ax9jhkzhhkzZhAbG8vevXtx\ncHAgKCiIOXPmWIsoInL3UlFCREREROQeMXbrMg6dt50JkZ58lrRjpzj1/rdc2pbA4S07GLt1mfW+\ns7Mzr732Grt372bAgAH85z//sXm9yWSyfn19VsPhw4dp0KABAE2aNLHeb9myJZs2bWL58uV06dIl\n1zzd3d0BqFq1KikpKTb3nnzySdasWcOWLVuYMGGCtb18+fIAODg4cPr0abp164bZbGbjxo0kJSUB\n0Lhx42xj7du3j7CwMMxmMwkJCRw7dizXvETk7qOihIiIiIjIPeDEpXN8f3hPtvbL8b9TOjyI8i/1\noMIrvclMvcjKg7/w56VzQFaBIS0tDciawZCZmYmzszMZGRkAuLq6cuLECQB2794NQPXq1a1f79y5\n0zrWM888wwcffICrqyslSpTINdecCh0Aly9fthYNSpUqhbOzszX+9OmsYktmZibffPMNXbt2xWKx\n4OPjY+3DwSH7ry9169Zl7ty5WCwW4uPjeeKJJ2zen4jc3bTRpYiIiIjIPWD14b02Szauu/Lzfkq2\n/t8MAqfK5bj0+xFWHd5L38dasGvXLnr06EGxYsVwdnZm5syZVKpUiTNnztCtWzemTZvGI488QmBg\nIG5ublSqVInKlSvTpEkTWrZsScOGDa1916lThyNHjhAREXFL7+Hq1av06dOHq1evkpmZyQsvvADA\npEmT6NSpE0WKFGHw4MEEBATQp08f6/KOvEycOJH+/ftz9epVnJ2dWbRoEU8++SRDhgyhe/fuDB48\n+JZyFZE7w3Rj5fJmvLy8jLi4uEJMR0REREREcjJl1w+8u3NtvuNfadyWEQ0DbnseQUFBLFu2jIce\neui29y1SmEwmU7xhGF72zkNsafnG3SIpCT79FCIjWT1sGC2bNcNsNvPSSy9Zp55dP4v5rbfe+sdr\n5aZMmYLZbKZGjRo0bNgQs9lMbGxsrvEzZsxg165d2drPnDmTrwq2iIiIiPwzpYsUL1C860PFbnsO\nHTp0oHXr1ipIiMhto5kS9pacDMOGwZIlkJ7OKSAE+N7RkRJPPcUkNzfKVKvG4MGD8fX1ZePGjbc8\nVGZmZrZ1eOPGjcPX15fAwMBb6jMxMZHIyEiioqJuOS8RERERubkTl87R/Nu3clzC8XdOJgd+6jGK\nh4uXugOZidwbNFPi7qSZEvaUnAw+PrBgAaSnA7ACCANKZGTAt9/y4rx5LJk/3+Zl4eHhJCYm0rFj\nR1JTUwF46aWX2L59e7Zzmq/HDxs2jKCgoDzTWbp0KVOnTuXChQsUKVKE1NRUpk2bxuLFi4mIiMBi\nsbBx40aaNWtGQEAAs2bNYtq0aaxatQqz2cyZM2du+yMSERERkSyVipeiXXX3fMW2q+6ugoSI3BNU\nlLCn4cMhMdGm6ThQ5YbrogcOcG3v3hxf3qlTJ5YtyzruaceOHTzxxBPZzmk+evQoAD4+PqxZsybP\ndLy9vdm8eTNbt27FbDazdetWtmzZgre3tzXmu+++Y/Lkyaxbt44+ffowaNAggoKCsFgslC1btuDP\nQERERETybULzztRwKZdnTA2Xckxo3vkOZSQi8s+oKGEvSUmweHG25spA0g3XVwDnU6fg+PFssSEh\nIURHRxMfH289Pzq3c5pvPF86NxUqVCA5OZnNmzfzyiuvsHnzZo4fP06lSpWsMcOGDWPOnDmEhYWx\nY8eOAr1lEREREflnyhcrSXSH5+hUowFOJtsf5Z1MDnSq0YDoDs9RvlhJO2UoIlIwKkrYS3S0dcnG\njdoBXwEX/7r+AOhqGFl7TvxNhQoVuHz5MlFRUXTr1g3I+ZxmyPlM55xUrlyZTZs20bp1a+Lj46lY\nsaLN/XLlyvHZZ58xceJExo0bpzOgRURERO6w8sVK8pn/02ztMYqJzbvwSuO2TGzehZ96jOIz/6fv\nioJEamoqZrMZs9mMq6srZrOZfv36ERMTk+8+Ro0axYoVK6zXS5YsYfz48TnGjhs3jpiYGCwWyy0f\nV5qTlStX0qhRI2bMmGFti4qKom7dupjNZtq1a3fbxhJ5UKkoYS+57L9QEXgVCAL8gD+BQQBnz+YY\n37FjR5YtW0bz5s2B/53THBAQQPv27bl06VKB0vL29qZkyaz/kZUoUYIWLVrY3P/0009p1aoVXbt2\npW/fvlStWpUTJ07QrVs3UlJSCjSWiIiIiNy6SsVL0fexFoxoGEDfx1rcFXtI/H/27j2uqir///hr\ncbEoAc1r3oC0zLwr3lEPRGo5eSnr+/WWoOb3m6XTRUsdL0jmJbPvmKUzRhNWjlaaSmVqKEfTH14g\nJXOYipAcb6EpIN7gwP79AZ5AEVHRY/p+Ph4+Hpy911r7sw8z85j9Zq21D5/KYlFyPNF7EwhfMIOl\nq2No2rQpdrsdPz+/yxrrscceY0WRP8ytXLmSvn37lnfJpVq5ciVLlixh2LBhxY6PHTsWu93OV199\ndUXj5udferNSkVuF3r7hKvPnw7PPlr39O+/AyJHXrh4RERERkSt09HQ2E7euYs0ve4q9HcTDuHF2\nznJ2b0/k7VlvsH//ftLS0vD39ycqKoojR44wbNgwTpw4QaNGjZg/f76zr2VZtGnThu3bt5Ofn0/H\njh3Zvn07a9asYcaMGZw8eZLRo0fz1FNPOd8o5+HhQWxsLNOmTSMqKopFixYBMHfuXH766SeOHj3K\ns88+y65du3jvvfeYN2+e83qxsbHOWRbTpk3j9ttvp1+/fvj5+TFnzhyCgoKAgpkSDoeD4cOHO/t+\n8cUXvP766zgcDiZPnkyPHj3485//zK5du8jPz2fx4sXUq1eP9u3b07JlS7y8vHjzzTev6e9ELqS3\nb9yYNFPXjGrZAAAgAElEQVTCVfr0AQ+PsrX18IDrnAqLiIiIiJTF0dPZ9PlyAV+k7b7gdaUOK59j\nZ07S58sFnMrNoXHjxsTGxrJv3z4yMjKYOXMm48ePJy4uDm9vb+Lj4519jTHOjdg3btxI165dAejS\npQsbN25k69atLFy4sOSajh4lJiaGTZs2sWrVKiIjI+nVq5dzOcjHH39M//79i/WJiIhg3bp1rFu3\njsmTJxMUFESPHj1YvHixM5A4Z/bs2dhsNsaPH09+fj5vvPEGGzZswG63M3v2bABmzJjBxo0bmTJl\nCn//+9+ddf3lL39RICFSRBmfiqXc1aoFjz0Gn3xy6baPPQZ3333taxIRERERuUyTtsaQduK3Utuk\nnfiNM/t/YoYtGIBatWqRmZlJcnIy48aNwxhDdnY2bdu2Ldavb9++rFy5kjNnzjBgwAAAEhMTmTp1\nKrm5uey5yFvqUlNTSUpKIjg42HnMy8uL6tWrs2/fPrZt28b06dOL9THG4ONTsATG3d291PsZO3as\nc6ZEeno6ycnJhIaGOj9blsXrr7/O+vXryc3NpVGjRgBUr16dOnXqlDq2yK1GoYQrzZsH3357wWtB\ni2nQoKCdiIiIiMgN5vCpLL765fsytU3JTCfj7O/7nVmWRcOGDRk0aJDzTXGO8zaC79KlCxMmTMDh\ncPDWW28B8PrrrxMVFUXt2rW59957S7xWQEAAbdq0YdmyZQDk5uYCMGDAAF566SXatm2LMaZYn/z8\nfLKysgAuayP3qlWr0rRpU9auXYu7uzu5ubkcO3YMu93ON998w9dff83ixYuBsm8+L3IrUSjhStWr\nw5YtMGpUwetBi/6PsIdHwQyJefMK2omIiIiI3GDWnreHRGnyLYsdv/7CE0WOTZgwgREjRpCZmYmb\nmxvvvvsuAQEBzvPu7u488MADeHp6Oh/o+/btS+/evWnRogWVK1cu8VrVqlWjZ8+edOnSBXd3d0JC\nQpg0aRIPPvggQ4YMKfENHZMnT6Zbt25YlnXRt3yUxM3NjRdffJEHH3wQYwwPPPAA8+bNo2LFioSE\nhNCsWbMyjyVyK9JGlzeKgwcLXhN6/DhUrlywh4SWbIiIiIjIDWzurvXM3vl1mdu/3Kobo5uHXMOK\nSpeXl0ePHj34+uuy1yw3D210eWPSTIkbRa1aeruGiIiIiPyhVLrtjstq71vB6xpVcmnHjh3j8ccf\n53/+539cVoOIXEihhIiIiIiIXJHufo2Zsu3zMi3h8DBu9PBrfB2qKtldd91FXFycy64vIiXTTisi\nIiIiInJFat7hw8N+TcrU9mG/JtS4w+caVyQifzQKJURERERE5Iq92r4X/t5VSm3j712FV9v3uk4V\nicgfiUIJERERERG5YlW9KrKy5zM86t8MD1P88cLDuPGofzNW9nyGql4VXVThhQ6fymJRcjwzv1nF\n/W1b0bFLZ3x9fbHZbISHhxMbG3tZ473wwgsEBQXRsWNHFi5cCMCoUaPKteYpU6bQoUMHEhMTncdW\nrlzJsWPHAIiIiLjsus/ds81mY+PGjeVar0hZaU8JERERERG5KlW9KrIgeACHT2Wx9pc9ZOacxreC\nFz38Gt9QSzaOns5m4tZVrCn6KtNnunHGuHHHnHSWffUFb89647LG/P777zl69CibN28G4Pjx4wDM\nmzevXGvfsGED8fHxxY6tXLmSJk2acNddd13RmE2bNsVut19xTefe5GiMueIxRDRTQkREREREykXN\nO3wY0qgDo5uHMKRRhxsukOjz5QK+SNt9wcacDiufY2dO0ufLBZzKzWHp0qWEhoYyfPhwAI4cOUKv\nXr0IDg5m5HlvzPPy8uKHH34gJSUFgMqVKwMQFBQEwLZt22jVqhX9+/enVatWQMGshuHDhxe7RlGz\nZs2iU6dOhISEsG/fPt5++22+++47bDYb2dnZAOzbt481a9YwcOBAZs+eDXBZdZdk3759hISE0KlT\nJ2bNmgVAWFiY895sNpuz/vDwcLp3787Ro0cvOa5IaRRKiIiIiIjITW/S1hjSTvxWapu0E7+xYf8P\nNG7cmNjYWPbt20dGRgYzZ85k/PjxxMXF4e3tXWzGQv369Xn++ecJDw+nSZMm/L//9/+Kjfnqq68S\nExNDVFQU+/btcx4//xrnHD58mA0bNrBlyxYiIyOZMWMGzz33nHNWQ8WKBctg6tWrR48ePVi8eDFj\nx44tcczS6gbYvXu3c/lGZmYms2bNYurUqWzZsoUNGzZw8ODBYu0dDgc2m43o6GiWLFlCTk4OL7/8\n8mUvGwEYPnw4zzzzTInnwsLCSEtLu+wxiyq6tOV6MMbUMcYkGGPmFTnmYYz5pzFmozFmqzHm0cLj\nm69g/GhjTIPLaH/Ra5w/1iXa2o0x13SFhZZviIiIiIjITe3wqSy++uX7MrVNyUyndoMAAGrVqkVm\nZibJycmMGzcOYwzZ2dm0bdu2WJ8BAwYwYMAA9u7dy9ChQ4u9ejQrK4s6deoAcO+99zqPN2nSpNg1\nKlWqBEBaWhrNmjUDIDAwkKlTp5b5Ps8f81J1n7984+eff3bO5mjZsiV79+7FGMOR0yfYkhzP4dMn\nmPTR39j9UQxfrYzBbrcTERFR5vrOycvL49ChQzgcDvLz83FzK/+/lZd1aYspXHtinVuLcuW6AFGW\nZf2tyLEewM+WZQ0ovI7vlQxsjLmpJxMolBARERERkZva2qJ7SFxCvmWRkL6PJws/W5ZFw4YNGTRo\nEK1btwYKZgycc+zYMYwxVK5cmbvuuuuC/RV8fHw4ePAglSpVci6DgOL7MBR9Hvb39ycpKQmAhIQE\n6tevf9FaPT09ycvLu+iYpdVdknvuuYfExES6dOnCzp07GTh8KAlZh/hqyZu4+9fg8M+p/GXrKrL3\nbMHtVCZHTxcsJVm6dCkzZ87E39+fqKgojhw5wrBhwzhx4gSNGjVi/vz5xa6zadMmbDYbZ8+eZevW\nrXTs2JG9e/fSv39/atas6Vyi8qc//YnFixfj6+vLiy++SP/+/alcuTIjR47k7NmzPPTQQ0ycOJGw\nsDB8fX1JTEzkoYceIjw8nDVr1pCcnEy/fv3Ys2cPEydOPPcd2S3LshljIgA/oDYw0BjzDBAC5AND\nKXhW/gA4C3xtWdb0It9zPSAauA2IAd4BJhecMh6WZb1d2PQU0MoYU9uyrAPAuSkx3saYD4DmwBDL\nsnYZY4YDQwrP/9myrG+NMUnAbsCZqBljfIHFgA+wy7Ks0caYO4FFQDUg1bKs8CLtXwbyLcu65GYp\nxphQYFrhx4mWZcUWORdR+F0FACnAAaAnsNqyrEhjTDXgPcAbSLYsa6Qx5llgMHAaeMmyrG9Luq5C\nCRERERERuallnD11We1POs4W+zxhwgRGjBhBZmYmbm5uvPvuuwQEFMymOHbsGOHh4RhjyM/PJzIy\nsljfSZMm8eijj9KgQQPq1q17yWvXrFmT4OBgOnbsSIUKFVi0aNFF23bv3p2RI0fyxBNPlHi+tLpL\n8sorrzBkyBBycnII6dGNZ3at4temNTn+3mo869XA3fdOoCC4OZlzhj5fLqBjbg6NGzcmKiqKbt26\nFVs20qFDB1555RXi4+Pp0KGD8zorVqzghRdeICcnh6ioKDp27Mjs2bOZM2cO7dq1o3nz5gA8+uij\nxMTEMHjwYL799lvefPNN/uu//ov33nuPunXr0r9/f/bv3w8U7Hcxd+5c2rVrx5QpU+jRowcTJ06k\nQYMGhIWFXeyWf7QsK9wY0xSoXRhWNALGAzuAhZZlRZvzkyZ4BZhiWdY3xpi1wIfATMDDsqyoc40s\ny9pgjGkMrDTGWMBgy7J+AGoC7YDWwBBjzH6gFwWzLSoD/wD6AHWAjpZlnTTGRBcOOwL42LKsD40x\nUcaYdkBHYJ1lWQuLzqowxowtrKOkQGKxMeb0eccigG6FP68Bzl+X8y/Lsp42xqwD1lqW9aoxJgGI\nBMYBMyzLijfGzDLGdAB6A8GWZZ0u4Tt0UighIiIiIiI3tUq33XHJNtUmDALAp08QbdsXbFIZHR3t\nPL9ixYoS+zVo0IBvvvnmguPn3sbRunVrEhMTOXnyJN26FTzvFV3yUPQa54wfP57x48eXOF5R/fr1\no1+/fhccL0vdJY3p5+fnXM7xTNw/SUv7jgp+NakRObRYO58+QZz9VxppJ37jzP6fmGELBsq+bGTD\nhg38+OOPAPz6668ApKam0rJlSzw8PJzLVx577DH+93//lwceeMA52+OHH35g8ODBAGRkZHDgwAHg\n96UrXl5eF9znec/DRT+ce79qI8BmjLEXfj4EfAJEGGMWAx8BXxXpVx8491f/nRTMHiiRZVnzgHmF\nD+lTgf8GUizLOmOMOQBUAu6hYNZE3Hndf7As6+R5x+oDqwt/TgAaAPdRMFsDy3JOCfIB+gPtL1La\nQMuyUqDYnhKWZVlZhcfySuhzbsbGwSI/Zxtj3Cn4DmcWhi8Vge3AFGCBMSYHmAT8WlIhN/XaFBER\nERERke5+jfEo47J8D+NGD7/G5XbtLVu20LVrVzp37uzckPJGd7l7cBSdiXJu2cibb76J3W4nISGB\n3r17O89v376dvn37smbNGtasWUP37t3ZvXs3AQEBJCUlkZeXx+7duwGoVq0ap0+fJjo62hm+NGzY\nkCVLlmC320lMTKRNmzbAha8lLbq0xdfXl0OHDkFBIHFvkWbnHuB/oGCmgc2yLBvwFJBrWdaLQDgF\nMwGKSqVglgNASyCtpO/GGFPLGHMuEUvn9+fvovtXGGAvsKPI9R86r76LXTsQ+Lmw/vaF1zx3jSwK\nZny8fxl7UrgZY3yMMT6AewnnrYv8bApreLHwHgKBVRQsLwkD7EDYxS6qmRIiIiIiInJTq3mHDw/7\nNeHztO8u2fZhvybl+irTrl27snHjxnIb73q43D04dvz6C0UXkJS2bGTFihWEhoY629psNj777DPG\njBnDgAEDqFGjBjVq1HCe/9Of/sSsWbN46623AHjttdcYOnQoZ8+exdPTk+XLl5dYV9GlLU899RTh\n4eFQsIfEvvPbWpaVZIw5XDhTwgKWAJnGmOeAOyiYKVHULGCRMaYC8LllWQcusjrBD1hmjMkt/Dyq\npEaWZR0xxnxpjNkE5AEbgFdLvDFYCPzTGPM08J1lWVuNMbuBD4wxgykIKYYWjrvWGFMFeAt47iLj\nFRUJrKMgZJhchvZFTQcWFu55kQ88TcFMkwAK9t4Iv1hHczmbjAYGBloJCQmXWZuIiIiIiIhrHT2d\nTZ8vF5T6WlB/7yqs7PkMVb0qXsfKbjxzd61n9s6vy9z+5VbdGN085BpWVD6MMYmFf8WXG4iWb4iI\niIiIyE2vqldFVvZ8hkf9m12wlMPDuPGofzMFEoXKsgdHUb4VLtzHQaSstHxDRERERERuCVW9KrIg\neACHT2Wx9pc9ZOacxreCFz38Gpfrko0/uu5+jZmy7fMyLeEo7z045NajUEJERERERG4pNe/wYUij\nDpdueIty5R4ccuvR8g0REREREREp5tX2vfD3rlJqG3/vKrzavtd1qkhuVgolREREREREpBjtwSHX\ni5ZviIiIiIiIyAW0B4dcD5opIbe0zMxMbDYbNpsNX19fbDYb4eHhxMbGXtY4QUFBl31tu91Oampq\nsWMbNmzg5ZdfBmDbtm34+fk5z7Vs2bJM44aFhZGSklLsWEREBHa7/bJrFBERERE5twfH6OYhDGnU\nQYGElCuFEnJLykvP5tSSnbgv+Rer/+f/WP/JFzRt2hS73V4sCLiWSgol2rRpQ2JiIgAJCQnUq1eP\n9PR0fv31V+6+++5Ljpmff+kdkkVERERERG4UWr4ht5S8305yYtp6zqz/CRxFHuBnbMDx2zHyfjsJ\nwNKlS5k5cyb+/v5ERUVx5MgRhg0bxokTJ2jUqBHz588v9TpJSUmMHDmSvLw8nnvuOQYNGsSECRPY\nuHEjFSpUYNGiRURHR7NixQpCQ0OZM2cOAN7e3pw8eZL8/Hx27tzJsGHD2LFjB5Zl0aZNGwBmzZpF\nTEwMt912G9HR0dSrV4/mzZvTtGlTmjRp4qzh2LFjPP7443h5eVGhQgVsNlv5fpkiIiIiIiJXSTMl\n5JaR99tJjg38J2fW/lA8kABw5JN//DTHBv6T/FM5NG7cmNjYWPbt20dGRgYzZ85k/PjxxMXF4e3t\nTXx8fKnXmjRpEosXL+abb75h3rx55ObmsmXLFr755hvi4uKoW7cuYWFhzJkzxxlInHP//ffz73//\nmzNnzhAUFMSOHTvYsWMHbdu25fDhw2zYsIEtW7YQGRnJjBkzANi/fz9///vfGTdunHOcqKgohg8f\nzurVqzl9+nT5fIkiIiIiIiLlSKGE3DJOvLaevH0ZpbbJ25dBzjd7nTMOatWqRWZmJsnJyYwbNw6b\nzcb69es5ePBgqeMcP34cf39/PD09CQgIID09nZdffpkhQ4bw/PPPc+rUqYv2bdOmDXFxcVSsWJEG\nDRqQkpJCQkICbdq0IS0tjWbNmgEQGBjo3DuiYcOG3HnnncXGSU1Nde5D0apVq9K/HBERERERERdQ\nKCG3hLz0bM7E/lSmto7U38jPPOP8bFkWDRs25M0338Rut5OQkEDv3r1LHaNSpUqkpaWRm5tLamoq\n1atXJyQkhA8//JDq1avzxRdf4OnpSV5e3gV927Zty9///ndnkJCfn8/Ro0epXr06/v7+JCUlAQV7\nTtSvXx8AN7cL/6scEBDgbLtz584y3buIiIiIiMj1pD0l5JZw9vw9JEqTb5H77QHo9/uhCRMmMGLE\nCDIzM3Fzc+Pdd98lICDAef77778nNDQUgEcffZTIyEgGDBhAXl4ezz77LJ6envzpT39yzpD49NNP\nqVOnDhMmTGDbtm1MnjzZOVbz5s358ccfCQwMBKBOnTo4HA4AatasSXBwMB07dnTuTXExw4cP5/HH\nH+eDDz7gtttuK9u9i4iIiIiIXEfGsqwyNw4MDLQSEhKuYTki10b23+LJfmtzmdtXHB1Exf/tcA0r\nEhERERH548vMzHTOIt65cyctW7YkICCAgQMHOv9oVxa+vr60atWKs2fP8n//93+0a9euxHZ2u516\n9epxzz33XHatxphEy7ICL9GmDrASiLcsa1ThMQ/gA6A2cBvwmmVZnxtjNluWFXSZNUQD0yzLSilj\n+4te4/yxLtHWDoRaluW4nHqvBy3fkFuCm+/t17S9iIiIiMit5PCpLBYlxxO9N4HwBTNYujqGpk2b\nYrfb8fPzu+zxmjZtSlxcHJ988gmzZ8++aDu73U5qamqZxszPL+NM6eK6AFHnAolCPYCfLcvqCnQA\nvrmSgY0xev4ugZZvyC3htgfvhRkbyraEw8ON20LvvfZFiYiIiIj8wRw9nc3EratY88seHNbv/996\nyrbPOZt5hKOnswFYunQpM2fOxN/fn6ioKI4cOcKwYcM4ceIEjRo1Yv78+SWOn5Hx+8b05/f561//\nSnR0NCtWrCA0NBRvb2+CgoIIDQ0lLCyMiIgI7HY7X331FdnZ2bz22msMGTKE5s2bn9trzavotYwx\n9YBoCmY/xADvAJMLThkPy7LeLmx6CmhljKltWdYB4FyR3saYD4DmwBDLsnYZY4YDQwrP/9myrG+N\nMUnAbuD7Itf2BRYDPsAuy7JGG2PuBBYB1YBUy7LCi7R/Gci3LOuNS/2OjDGhwLTCjxMty4otci6C\nghkfAUAKcADoCay2LCvSGFMNeA/wBpItyxppjHkWGAycBl6yLOvbS9VwOZTUyC3BvXpFbi9j0HB7\n6L24V6t4jSsSEREREfljOXo6mz5fLuCLtN3FAgkAh5XPsTMn6fPlAk7l5tC4cWNiY2PZt28fGRkZ\nzJw5k/HjxxMXF4e3tzfx8fHF+u/evZuOHTvStWtXJk6cCHBBn8TERMLCwpgzZw5z5sy5aJ2VKlXi\nyy+/pEWLFhw+fJiFCxeeC0Gqntf0FWCKZVmdgBAKAoKZwOwigQSWZW0A1gArjTHbjTENC0/VBEYA\nI4EhxpiqQC8KZlv0piDgAKgD/I9lWTOLXHsE8LFlWV2AO4wx7QqPrSuckTHsXENjzNjCOkoKJBYb\nY+yFyzPOiQC6Ff6LLKHPvyzLCgXuAb63LKt9Yd0A44AZlmUFAyeMMR0K7yW48Fi576CvmRJyy/D+\ny4Pk/uvXUl8L6l6vEt5/efA6ViUiIiIi8scwaWsMaSd+K7VN2onfOLP/J2bYggGoVasWmZmZJCcn\nM27cOIwxZGdn07Zt22L9mjZtyubNm1m4cCHx8fG0aNHikn2MMc6fi+6V2Lp1a+fPDRo04Pbbb6d2\n7doA7ueVWx8491f/nRTMHiiRZVnzgHmFD+lTgf8GUizLOmOMOQBUouAhvzkQd173HyzLOlnCtVcX\n/pwANADuo2C2BpblTH18gP5A+4uUNrDonhK/l2tlFR678HV/v8/YOFjk52xjjDvQCJhpjLGAisB2\nYAqwwBiTA0wCfr1ILVdEoYTcMtyr3Mldiwdw4rX1Ba8HLbqUw8ON20PvxfsvD+Je5U7XFSkiIiIi\ncgM6fCqLr375/tINgZTMdDLOnnJ+tiyLhg0bMmjQIGdgcO7tcucbNmwYnTp14umnny6xz7///W/y\n8gqes319fTl06BCWZbFnzx7nGG5uvy8IKBpclCAVaA1sAloC84ALplcbY2oBGZZlnQLS+X3FQdG3\nRhhgL7DDsqx+hf08C8+VtIb83LX3AIFAFAXLNtoD3xtj3AqDiSzgVeB9Y8zgImFFadyMMT6FP58f\nxJxf9/n38APwkWVZiYX34AF4WpYVZowZAIQBs8pQQ5kplJBbinuVO6n0Zi/y0rM5u/4n8jPP4OZ7\nO7dpyYaIiIiIyEWtPW8PidLkWxY7fv2FJ4ocmzBhAiNGjCAzMxM3NzfeffddAgIunJjg7u5Ot27d\niImJKbGPzWZjwoQJbNu2jbCwMPr27UtMTAyVK1e+ktuaBSwyxlQAPrcs68BFQgw/YJkxJrfw86iS\nGlmWdcQY86UxZhOQB2ygIFAoyULgn8aYp4HvLMvaaozZDXxgjBkM/AwMLRx3rTGmCvAW8FwZ7isS\nWEdByDD5Em3PNx1YWLjnRT7wNBBhjAmgYO+N8NI6Xwm9ElRERERERERKNXfXembv/LrM7V9u1Y3R\nzUOuYUWXryyvBJXrTxtdioiIiIiISKkq3XbHZbX3reB16UYiKJQQEREREbnmMjMzsdls2Gw2fH19\nsdlshIeHExsbe+nORQQFBTl/jo6OJioqqtxqtNvtREREXLLd/v37CQwMZNSo32ewZ2Rk8Nlnn5VY\nZ1lERETQvHlzbDYbPXv25PTp02Xue7nXuphz92Oz2XA4HERERFz27+dm1t2vMR6mbI+PHsaNHn6N\nr3FFcrNQKCEiIiIico0cPpXFouR4ovcmEL5gBktXx9C0aVPsdjt+fn6uLu+KbNq0ieHDhzNv3jzn\nsfNDiSsxZ84c7HY7nTp1Ys2aNVdb5kXl55e8L0LR+5EL1bzDh4f9mpSp7cN+Tahxh8+lG4qgjS5F\nRERERMrd0dPZTNy6ijXnbQ44ZdvnnM08wtHT2QAsXbqUmTNn4u/vT1RUFEeOHGHYsGGcOHGCRo0a\nMX/+/DJdb/To0ezatQsfHx8WL17Mzp07iY2NZdq0aURHRwMFMwCGDh3KXXfdxd69e1m1ahV16tRh\n6NCh7Nu3Dz8/P+rWrVts3H379hEWFsbZs2fp1asXzz77LJGRkViWhcPh4LnnCvbcW7hwIV9//TU2\nm41PP/2UEydO8NRTT5GUlMSiRYto0aIFUVFRLFq0CIC5c+fSqlWrEu8lKysLH5+CB9onn3ySX3/9\nldtuu41ly5bhcDh47LHHMMbQtGlT3nrrLWe/119/HTc3N8aMGUNkZCQbNmzAzc2Nf/zjHwCEh4dT\npUoVmjVrRnJyMkuWLCEvL4/Q0FDi4uIICgpi8+bNF9RjWRYjR47khx9+wMvLi48++ojk5GReeOEF\n7rzzTgYNGsTQoUPL9Hv6o3u1fS92/3ag1NeC+ntX4dX2va5jVfJHp1BCRERERKQcHT2dTZ8vF5T4\n4Oaw8jl25iR9vlxAx9wcGjduTFRUFN26dSMjI4OZM2cyfvx4OnTowCuvvEJ8fDwdOnRw9t+9ezc2\nmw2Aw4cPM2bMGHbs2MHJkyfZtGkTH330EX/7299o165dibUdP36c2NhYlixZwvLly+nQoQPu7u7E\nxsYyffp0cnJyirWfNWsWU6dOpXPnznTv3p3Bgwczbtw4HA4Hw4cPd7YbMWIE+/bt46OPPnLWtm3b\nNhITE1m0aBF16tQhJiaGTZs2cfz4cYYOHcrKlSuLXeull17Cy8uL7OxspkyZAhQsUbnjjjuIiori\n448/JiAgAJvNRkREBEU37J89ezYAY8aMYffu3Rw4cAC73U5ycjIzZsxg/PjxpKenExsbi7u7Ow89\n9BCnT59m27ZtdOnSpdTf5xdffEG9evVYsGABX331FX/72984efIks2bNwmazcTkvDvijq+pVkZU9\nn2HS1hi++uX7YoGbh3HjYb8mvNq+F1W99FY7KTuFEiIiIiIi5WjS1phS/5IMkHbiN87s/4kZtmAA\natWqRWZmJsnJyYwbNw5jDNnZ2bRt27ZYv3NLP6Dggd3hcPDzzz87Zx0EBgayceNG2rdv7+xjWRbn\nXnP4wAMP4ObmRu3atUlJSSE1NZWWLVsC0Lp1a+Lj44tdr+jYLVu2ZO/evWX6Dho0aMDtt99O7dq1\nycjIIDU1laSkJIKDgy/aZ86cOYSGhvL555/zxhtvMGHCBMaOHcvu3bvJysqib9++hIWFsWnTJgYM\nGMDDDz/M4MGDycrKYsmSJWzduhWA5ORk7Ha7M7y5++67AWjevDnu7u4A9OjRgzVr1rBhwwZGjBhR\n6r0kJyezdOlS1q5di8PhoEOHDrzwwgtMmzaN9957j1GjRl3we7qZVfWqyILgARw+lcXaX/aQmXMa\n39buxZoAACAASURBVApe9PBrrCUbckUUSoiIiIiIlJPDp7L46pfvy9Q2JTOdjLOnnJ8ty6Jhw4YM\nGjSI1q1bA+BwOC45zj333MO6desASEhIoH79+vj6+nLo0CGgYHZFs2bNAJzhxLnrBQQEEBcXB8DO\nnTtLHDsxMZEuXbqwc+dORo0axU8//XRBO09PT/Ly8pyfS7pOmzZtWLZsGQC5ubkXvZ9KlSpx7Ngx\ndu3a5ZwB8u6773LgwAHy8vKIjIwEoEWLFgwePBgfHx8mTZpEeHg4H374IQ0bNqRbt27OPSJyc3M5\ncOAAbm6/b6fXr18/JkyYwKFDh2jatGlpXy8NGzbkqaee4qWXXnKO53A4mD9/PgcPHmTYsGF89dVX\npY5xM6p5hw9DGnW4dEORS1AoISIiIiJSTtaet4dEafItix2//sITRY5NmDCBESNGkJmZiZubG+++\n+y4BAQGljtO2bVsWLVpE586d8fb25p///Cc+Pj4cPHiQRx55hCpVqly0b7t27ViwYAEPPvggfn5+\n1KtXr9j5V155hSFDhpCTk8Ojjz5K7dq1SxynZs2aHDt2jH79+rFw4cILzlerVo2ePXvSpUsX3N3d\nCQkJYdKkScXavPTSS1SuXBnLsvjHP/5BjRo1SElJoUePHtStW5fatWuzfft2JkyYQG5uLqGhoc6+\n3bt357fffmP06NG8/fbb1KxZE5vNhjGG/v37061bt2LX8vPzIzU1lZCQkFK/W4BevXoxevRoZ9vn\nn3+e1NRUPvvsM7Kzs3nllVcuOYaIXJy5nDVQgYGBVkJCwjUsR0RERETkj2vurvXM3vl1mdu/3Kob\no5tf+sFYRK6eMSbRsqxAV9chxemVoCIiIiIi5aTSbXdcVnvfCl7XqBIRkT8GhRIiIiIiIuWku19j\nPEzZ/i+2h3Gjh1/ja1yRiMiNTaGEiIiIiEg5qXmHDw/7NSlT24f9muhtBSJyy1MoISIiIiJSjl5t\n3wt/74tvLgng712FV9v3uk4ViYjcuBRKiIiIiIiUo6peFVnZ8xke9W92wVIOD+PGo/7NWNnzGap6\nVXRRhSIiNw69ElREREREpJxV9arIguABHD6Vxdpf9pCZcxrfCl708GusJRsiIkUolBARERERuUZq\n3uHDkEYdXF2GiMgNS8s3RERERERERMQlFEqIiIiIiIiIiEsolBARERERERERl1AoISIiIiIiIiIu\noVBCRERERERERFxCoYSIiIiIiIiIuIRCCRERERERERFxCYUSIiIiIiIiIuISCiVERERERERExCUU\nSoiIiIiIiIiISyiUEBERERERERGXUCghIiIiIiIiIi6hUEJEREREREREXEKhhIiIiIiIiIi4hEIJ\nEREREREREXEJhRIiIiIiIiIi4hIKJURERERERETEJRRKiIiIiIiIiIhLKJQQEREREREREZdQKCEi\nIiIiIiIiLqFQQkRERERERERcQqGEiIiIiIiIiLiEQgkRERERERERcQmFEiIiIiIiIiLiEgolRERE\nRERERMQlFEqIiIiIiIiIiEsolBARERERERERl1AoISIiIiIiIiIuoVBCRERERERERFxCoYSIiIiI\niIiIuIRCCRERERERERFxCYUSIiIiIiIiIuISCiVERERERERExCUUSoiIiIiIiIiISyiUEBERERER\nERGXUChxvRw8CPPnkzVxIj2bNMHWsSMdOnQgISHB1ZUVExYWRlpaWrFjb7zxBh06dCAoKIiIiIir\nGn/mzJkcOHCA6OhooqKiip3btWsX7733HgBBQUEAPP/88+Tl5WG320lNTb2qa4uIiIiIiMiNxcPV\nBdz00tPhuedgxQpwOPgAeAwY5uGBo08fTt91l6srLFVWVhZffPEF8fHxABw/fvyqxhs3btxFz7Vo\n0YIWLVoUO/bXv/4VALvdTlBQEPfcc89VXV9ERERERERuHJopcS2lp0OnTvDpp+BwAHAHEA8cdTjw\nWLYM7+7dIT2dyMhIbDYbISEhpKWlkZaWRkhICP369aN169bs37+flJQUOnbsSHBwMNOnTwcgKiqK\nzp0707lzZ7799ttil1+zZg1du3YlMDCQDz74AICIiAiGDx9OaGgow4cPB2Dv3r20b9+ePn36sH//\n/mJjuLu7c/jwYZKSkgCoXLkyANu2bcNms9GpUyfef/99AGw2G+PHj6dNmzbOGQ9Dhgyha9euBAcH\nk5+fT1hYGCkpKQCsW7eO7t2707t3b3JycrDb7UycOLHY9W02Gzk5OURHR/PSSy/x0ksv0bt3b2c4\n8vzzz5OYmHjVvyoRERERERG5/hRKXEujRkHhA/g5g4F6QDAQChxOSWH34MEcOHAAu93OO++8w4wZ\nM4CCWQmffPIJL774IsuXL8dutzNixAji4uIYP348R48eJSYmhk2bNrFq1SoiIyOLXatLly5s3LiR\nrVu3snDhQufxxo0bExsby759+8jIyGD27NnMmTOHZcuWcejQoWJj3HnnncydO5exY8dy3333sXLl\nSgAmT55MTEwMmzdvZvHixeTk5ADw5JNPsnnzZhYtWkRubi779+9n48aNbNiwATe34v9x8/X1Ze3a\ntXTs2JHPPvvsol+jm5sbYWFhzJkzhzlz5vDEE0+wfPly8vPzSUpKonXr1pfxSxEREREREZEbhZZv\nXCsHD0IJD9qewOTCf0uAvwKtYmOx+/tjs9kAuPvuuwF44IEHcHNzo3bt2qSkpBAeHk5ERAQDBw5k\n0KBBVKlShaSkJIKDg0ssITExkalTp5Kbm8uePXucx5s0aQJArVq1yMzMJDU1lZYtW+Lh4UGzZs0u\nGKd79+50796d3377jW7dutGnTx+SkpLo1asXAEePHuXIkSPOsT09PXFzc8PT05MhQ4YwaNAg/Pz8\nePXVV4uN27JlS6Bg2caOHTuoWbNmmb7aPn36MHDgQO699166dOlSpj4iIiIiIiJy41Eoca2sXOlc\nslHUL0AtCsKJ6kA+0DA/n2516zLPbgcgNzeXAwcOYIxx9rMsC09PT958801ycnLo1KkTq1evpk2b\nNixbtszZr6jXX3+dqKgoateuzb333us8fv64AQEBJCUl0bZtW3bv3l1sjNOnT3Ps2DFq166Nj48P\nnp6eQEGgsGzZMu68805yc3Odx4uOnZeXR//+/XnqqacYMWIEO3bsKDb2uSUhSUlJ1K9fv9Sv09PT\nk7y8PAAqVqyIj48Pc+fOdS5jERERERERkT8ehRLXyrFjJR7eBTwJeFEQTLwP1AFqenpis9kwxtC/\nf3+6det2Qd+YmBjefvttTp06xaBBg6hWrRo9e/akS5cuuLu7ExISwqRJk5zt+/btS+/evWnRooVz\nL4iSjBkzhgEDBlCjRg1q1KhR7NzZs2d56qmnOHv2LPn5+Tz//PMATJ06lV69epGfn89dd93F8uXL\nLxj3xIkT9OrVi7y8PHx8fGjatGmx8+dmXtx+++18+umnzs00S2Kz2ZgwYQLbtm1j8uTJ/Pd//zcT\nJ07k/vvvv2gfERERERERubEZy7LK3DgwMNC60V5hecOaPx+efbbs7d95B0aOvHb13GRWr17Nnj17\nGDt2rKtLERERERGRPwBjTKJlWYGurkOK00aX10qfPuBRxokoHh7Qt++1recmsnz5cqZPn87QoUNd\nXYqIiIiIiIhcBYUS10qtWvDYY2Vr+9hjULi5pVza448/zubNm6lSpYqrSxEREREREZGroFDiWpo3\nDxo0KL1NgwYF7URERERERERuMQolrqXq1WHLFnjyyQuXcnh4FBzfsqWgnYiIiIiIiMgtRm/fuNaq\nV4ePP4aDBwteE3r8OFSuXLCHhJZsiIiIiIiIyC1MocT1UquW3q4hIiIiIiIiUoSWb4iIiIiIiIiI\nSyiUEBERERERERGXUCghIiIiIiIiIi6hUEJEREREREREXEKhhIiIiIiIiIi4hEIJEREREREREXEJ\nhRIiIiIiIiIi4hIKJURERERERETEJRRKiIiIiIiIiIhLKJQQEREREREREZdQKCEiIiIiIiIiLqFQ\nQkRERERERERcQqGEiIiIiIiIiLiEQgkRERERERERcQmFEiIiIiIiIiLiEgolRERERERERMQlFEqI\niIiIiIiIiEsolBARERERERERl1AoISIiIiIiIiIuoVBCRERERERERFxCoYSIiIiIiIiIuIRCCRER\nERERERFxCYUSIiIiIiIiIuISCiVERERERERExCUUSoiIiIiIiIiISyiUEBERERERERGXUCghIiIi\nIiIiIi6hUEJEREREREREXEKhhIiIiIiIiIi4hEIJEREREREREXEJhRIiIiIiIiIi4hIKJURERERE\nRETEJRRKiIiIiIiIiIhLKJQQEREREREREZdQKCEiIiIiIiIiLqFQQkRERERERERcQqGEiIiIiIiI\niLiEQgkRERERERERcQmFEiIiIiIiIiLiEgolRERERERERMQlFEqUxcGDMH8+9mHD8HB3J/277wDY\nsWMHxhjS0tKueGjLsujZsyddunThyy+/5MsvvyyxXVpaGoMGDbrguM1mK/bZbrfj5+eHzWajd+/e\nnDlz5pI1XGxsERERERERkWvJw9UF3NDS0+G552DFCnA4AGgBrGrZkqf79WNFzZoEBgZe1SUOHTqE\nt7f3RcOIKzF48GCmTZvGrFmzWLZsWamBg2VZWJZVbtcWERERERERKSvNlDiP4/hBMtYv4NgH41nf\n+D78Pv0Um8OBDdgChADr8/Phk0/Y8957NK5fH4Bdu3bRtWtX2rdvz/Tp0wGIjo6mf//+PPLIIzzy\nyCNYlsWKFSto27YtISEhrF69mpdffpm4uDiGDx9OdHQ0UVFRAERGRmKz2QgJCblgJsbChQtp3749\n48aNK/VeWrRowf79+1mzZg1du3YlMDCQDz74AICIiAjCw8Pp3r07R48eBSA3N5cBAwawcePG8vo6\nRURERERERC5KoUQhR1Y6B9/5L1LHBJD+4XN4TpmJ+9FMBgP2wn+dgArA7cBWoNHJk7BtGwANGzbE\nbrezdetWvv76a06fPg1A9erVWb16NbVr1+a7775j+fLlfPLJJ2zYsIGHH36YadOm8dBDDznDCIDd\nu3dz4MAB7HY777zzDjNmzPi9ToeD9957j82bN9OrV69S72nTpk00bNiQLl26sHHjRrZu3crChQud\n5++77z7WrVtHtWrVyM3NJSwsjBEjRtC1a9dy+EZFRERERERESqdQgoJA4j+vdSZ7xzLIc+B+yqLi\nLxe22wV8CnwPhAJ3AGvT0ggfOJDU1FTat29P1apViY+Pp3PnzsTHx7N27Vp69uxJrVq1SElJ4ccf\nf6Rdu3bcf//9pKSklFhPcnIydrsdm83GM888Q1ZWlvPc0aNH8fPzw8PDg9atW5fY/8MPPyQ4OJiM\njAx69epFYmIioaGhPPjgg+zZs8fZrmj/TZs24enpecEeFSIiIiIiIiLXikIJIP2j0eT++ntAUHEf\nmMJtFj4EbIX/kgGLglkT9wNHge5AzbNnefXVV+nfvz+dOnUiMDCQ4OBgUlNTGTNmDLVr1+bw4cP4\n+Piwfv16fv31V/z8/JgyZUqJ9TRs2JBu3bpht9ux2+3OJRcAVatW5ZdffiEvL4+dO3eW2H/w4MHE\nxcXxzjvv4O7uzuuvv05UVBSxsbH4+vo627m5/f7rf/DBB6lXrx7z5s273K9PRERERERE5Irc8qGE\n4/hBshNXFDvmfvb3n4su32gEVAMqAs8BTQvb1PD0pHnz5sydO5cff/yRChUqUKNGDerUqQNArVq1\nOH36NFlZWbRq1YpKlSpht9tp27ZtiTU1b96cmjVrYrPZCA4O5v3333ee8/DwIDw8nI4dO/LZZ5+V\n6R779u1L7969GT58OJUrV75ou8jISJKTk1m6dGmZxhURERERERG5GuZy3rwQGBhoJSQkXMNyrr+M\n9QtI//C5Ysd8/21RY5uFHYgFphUeL/o5GnAAw4GIRx4h6IUX8PDwIDY2lmnTphEdHY3D4WD48OFE\nREQQFBREUlISVapUISwsjIEDB/L0009ruYSIiIiIiMh1YIxJtCzr6l6fKOXuln8laN7JYxccy64H\n1bcDVsHyjc2Fx4eVNICHB9x/f5muFRISwlNPPcXKlSuvsFoRERERERGRm4dmSpQwUwLg7o35eKeV\nYYAnn4SPPy73ukRERERERKT8aKbEjemW31OiYqve4H7hhJH0toYc70t0btAAtDGkiIiIiIiIyBW5\n5UMJj8q1qNi67wXH87wM/3nYcMIfLHN+J4+CGRJbtkD16telThEREREREZGbzS2/pwRA9UFvcfaX\nncVeCwoFwcShrgb3Uxa+GdWo3G4o7nfXhb594e67XVStiIiIiIiIyM1BoQTg4VOdun/5hvSPRhe8\nHjTP8ftJdw+8bH2pNOgt3H00K0JERERERESkvCiUKOThU51aI5fiOH6Q7G9XkXfyOO53VqZi6z54\nVNKsCBEREREREZHyplDiPB6Va1HpwWdcXYaIiIiIiIjITe+W3+hSRERERERERFxDoYSIiIiIiIiI\nuIRCCRERERERERFxCYUSIiIiIiIiIuISCiVERERERERExCUUSoiIiIiIiIiISyiUEBERERERERGX\nUCghIiIiIiIiIi6hUKIcOY4fJGP9An6LeY0v5ryAX9062Gw2evfuzZkzZ65bHaNGjbpu1xIRERER\nERG5Uh6uLuBm4MhKJ/3DUWR/uxLyHAAcP2zxSBXDpCeDWHTkXpYtW8agQYNK7G9ZFgDGmHKpZ968\neeUyjoiIiIiIiMi1pJkSV8mRlc5/XutM9o5lzkDCKT+f7O2fUmvP+/z87+/p1asXwcHBjBw5EoCI\niAjCw8Pp3r07CQkJdOzYkeDgYKZPn05aWpozxLDb7URERADw5JNP0rVrV7p160ZWVhbHjh3DZrMR\nHBzM6NGjAQgKCgIgKSmJTp060b59ez766CMAwsLC+POf/0xQUBBTp069Dt+QiIiIiIiISMkUSlyl\n9I9Gk/trSqlttv77AO///W3Gjx9PXFwc3t7exMfHA3Dfffexbt06kpKSGDFiBHFxcYwfP/6iY0VH\nR7Nx40aefPJJPv74Y7799ltsNhtxcXHMnTu3WNtJkyaxePFivvnmG+bNm0dubi4ANpuNzZs3s3r1\n6qu8exEREREREZErp1DiKjiOHyQ7ccVFz8ekwuC1+WTlQL3bTvHKmBex2WysX7+egwcPAtC6dWug\nYAbEd999x8CBA1mzZk2xpRznlnfk5eUxduxYunTpwttvv83Bgwfp2rUr+fn5DBgwwDkb4pzjx4/j\n7++Pp6cnAQEBpKenA9CkSRMAvLy8yu/LEBEREREREblM2lPiKmR/u+rCJRtF9LoHXmhVkPtM355P\n2CAbtmdmAOBwONi9ezdubgXnPT09efPNN8nJyaFTp058/fXXHD58GIDdu3cDsGvXLk6ePMmmTZt4\n9913OXDgAHl5eURGRgLQokULBg8e7Lx+pUqVSEtLo3bt2qSmplK9enWg/PauEBEREREREbkamilx\nFfJOHitz2/9tZpi9aBUhISGEhobyn//8p9j5mJgYOnfuTIcOHRgwYACVKlWiXr16hIaG8q9//QuA\nhg0bkpKSQo8ePdi+fTsA27dvJygoiHbt2hEaGlpszMjISAYMGEBQUBDPPvssnp6eV3nHIiIiIiIi\nIuXHnFsaUBaBgYFWQkLCNSznjyVj/QLSP3yuzO2rD36bSg8+cw0rEhERERERkZIYYxItywp0dR1S\nnGZKXIWKrXqDexlXwLh7ULF1n2tbkIiIiIiIiMgfiEKJq+BRuRYVW/ctU9uKrfviUenua1yRiIiI\niIiIyB+HQomrVH3QW3jWaFBqG88aDag+6K3rVJGIiIiIiIjIH4NCiavk4VOdun/5hoptn7hwKYe7\nBxXbPkHdv3yDh0911xQoIiIiIiIicoPSK0HLgYdPdWqNXIrj+EGyv11F3snjuN9ZmYqt+2jJhoiI\niIiIiMhFKJQoRx6Va+ntGiIiIiIiIiJlpOUbIiIiIiIiIuISCiVERERERERExCUUSoiIiIiIiIiI\nSyiUEBERERERERGXUCghIiIiIiIiIi6hUEJEREREREREXEKhhIiIiIiIiIi4hEIJEREREREREXEJ\nhRIiIiIiIiIi4hIKJURERERERETEJRRKiIiIiIiIiIhLKJQQEREREREREZdQKCEiIiIiIiIiLqFQ\n4hIcxw+SsX4Bq14bxpiBD+M4frDMfW022yXb7Nq1i86dO9O1a1eCgoI4e/bsVVQrIiIiIiIi8sfh\n4eoCblSOrHTSPxxF9rcrIc9B1mGLkwctUscEULF1X6oPegsPn+pXfZ1p06YRHR1N/fr1ycrKwtPT\nsxyqFxEREREREbnxaaZECRxZ6fzntc5k71gGeY7iJ/McZG///+3df1TUdb7H8dfA0IqOIBuMP1mO\nxeb1LpYIh1iUGIZu/tgcUOPqhrVUXl08be2es6dSPEY/6NcNu9sPWjlmdAKPlQnqUVFCp0DNEj3E\n6ei5tIa6YSrIqKjkDDP3D7fpjoBiipP0fPzD8Pm+v5/Pe7789+bz/nw/0KH8ZP0p57+UkpKi5ORk\nHTx4UJJUVFSkxMREPfHEE5Kkw4cPa9asWefndblktVp9puvfv78qKyt19uxZhYSEKCAgQHl5efro\no48kSdnZ2WpsbFRZWZkSEhJktVq1YcMGNTU1KTU1VRMmTND8+fMlSXa7Xenp6Zo6darGjx+vtra2\n3nxMAAAAAABcEYoSXTha8oicR766aIzzyFf686hWffzxx3ryySe1dOlSuVwuvfXWW6qpqZHNZpMk\nDR06VKdPn9apU6dUVVWlO++802eel156Sbt371ZMTIzmzZsnt9vd5Xoffvih3n//fW3ZskWTJ09W\neHi4KisrVVNTo5MnT6qhocEbu27dOk2ZMkVVVVVX+CQAAAAAAOg9tG9cwNXapLbash7F/s87Zdrz\n3u1yeQwaPXq0mpubFRUVJaPRqLi4OG/c9OnTtWbNGm3ZskWLFi3ymWPIkCEqKiqSx+NRTk6ONm/e\nLIPB4L3u8XgkSYsWLdKzzz4rl8ul3NxcmUwm5eTkyOFwqLGxUU1N58+6iImJkSQNHz5cDofjip4F\nAAAAAAC9iaLEBdp2r+ncstGF1naPPjvs0abSbH3ujlZpaanCw8N14MABdXR0aM+ePd7YGTNmKCsr\nS06nUzfddJPPPA0NDfr1r38tg8GgiIgIud1uhYaG6vDhw/J4PPryyy8lSVFRUVq2bJm2b9+uJUuW\nKDo6WhkZGcrOzlZWVpa3eNFVQQMAAAAAgJ8iihIX6Dh9vNtr676W6prPt1fMG2NQ/yBp6l9eVpx1\nqiTJaDTqgQceUFJSklJSUrz3hYSEqF+/fp1aNySptLRUGzduVL9+/RQVFaW8vDzFxMRo2rRpWrt2\nrcLCwiRJeXl5+vTTT9XW1qaCggKFhobq/vvvV3l5+dX8+gAAAAAAXDOGy/lvenx8vGfXrl29mI7/\nOare1NF3H+5xvPm+1zUoLeeScffee68KCgo0dOjQK0kPAAAAAPAjGAyGWo/HE+/vPOCLgy4vYBqX\nLgX2cANJoFGmuIxLhs2dO1dms5mCBAAAAAAA/w/tGxcwhg2TKW6a2j774JKxprhpMg66dKGhqKjo\naqQGAAAAAECf0md3StjtdkVFRclisSg9PV3t7e0+17/99lvl5+d3us9iscg8+1UFDY6+6PxBg6Nl\nnv1qj/MpLi5WcXGxz1h2drZuv/12JSYmqrCwsMfz1NbW9ni97r4nAAAAAAD+1ueKEq7WJjmq3tSJ\nbe8qc8K/66OyFUpKStKqVau8MR6PR4MHD1Zubm6XcxhDzIrMrZYpIbNzK0egUaaETEXmVssYYr7i\nfEtLS7Vt2zYVFxfL6XR6x91ud5fx2dnZPq8bvZQhQ4Z0+z0BAAAAAPCnPtO+4Tp5VEff/ZPadpdL\nHS6d/Naj000e7f/rSEUGJ6rxbLLy8vJ04MABffPNN8rPz9ff/vY3lZSUqKioSMuXL5fFYvHOV7v3\naz3+/rc6d/ZWZd0xWrOS/02BA8JkisvQ0TMe/Uf6TDmdTt16660qLCyU3W7XK6+8IrfbrePHj2vT\npk264YYblJmZqe+++05hYWGaOHFil7kHBgbq5ptvVktLizIyMhQbG6vg4GAtWLBADz30kE6dOqXR\no0ersLBQeXl5mjBhgv75z3/K5XJpzpw5ysvLk8ViUVJSUqf1GhsbtWjRIpWUlKi8vFwvvPCCgoOD\nlZeXp4SEBD344IM6cuSIIiIiVFJSoqCgoGv0FwMAAAAA/Nz1iZ0SrpNHdSg/WW2fr5I6XL4XO1yq\n/uQT/bJuudzfndYtt9yizZs3KyIi4vy9Lpfeeust1dTUyGazeW9bvHix1q5dq22ffqayPU0aOOmv\nGpSWI+OgoQoPD1dlZaVqamp08uRJNTQ0eO9bt26dpkyZoqqqKpWXlyshIUEVFRUaOHBgt/mfOXNG\n//jHPxQREaHm5mbl5uZqyZIleuGFF7RgwQJt3bpVAwcO1I4dOy76HC62ntvtVn5+vrZu3aqtW7cq\nOTlZy5Ytk81m05YtW2SxWHx2kwAAAAAA0Nv6xE6JoyWPyHnkq07ja/dLu4+5FR0qpQz8Vsu+2KgJ\njy7xiWlublZUVJSMRqNPW0RdXZ23SNHc3Kxjx45p+PDhkqSWlhbl5OTI4XCosbFRTU1NkqSYmBhJ\n0vDhw+VwOHT48GHFxsZKUrctF1lZWerfv78WLlyowMBAmc1mjRgxQpK0d+9ePfHEEzIYDGpra1NC\nQoL3PoPB4P38/Wtd9+/f3+16x44dU1RUlIKDgyVJAQEB2rt3r2pra7V06VK1t7fr97//ffcPGQAA\nAACAq+y6L0q4WpvUVlvW5TXbTdJfxv2wGeRc0155zrT6xISHh+vAgQPq6OjQnj17vOOxsbFa1k1o\nbwAACRZJREFUtWqVBgwYIKfT6dPWsGLFCmVkZCg7O1tZWVneosCFhYKRI0eqrq5OU6ZM0Z49e5SY\nmNgpx9LSUkVH/3CoZkDAD/mOGjVKs2fP9hYYXC6X6uvrJUmhoaHez/X19UpNTb3oehERETp48KDa\n29vVr18/ud1ujRo1SmlpaZoxY4Yk+ZxpAQAAAABAb7vu2zfadq/p3LLRHY9bZ/93u8+Q0WjUAw88\noKSkJK1evdo7/tRTT8lmsyk1NVWzZs3yucdqtaqgoEAZGRk6ffp0t8tlZGRo+/btmjhxohwOR8+/\n1L8sXLhQzz77rKxWq+68804dOnTIey0tLU0VFRU+LScXWy8gIEALFixQSkqKrFarqqurNXfuXJWV\nlSktLU1Wq1W7d+++7BwBAAAAAPixDN//l78n4uPjPbt27erFdC5fy9p8taxe3OP4G6c/oxttC3sx\no961YMEC3X333Ro/fry/UwEAAACA64bBYKj1eDzx/s4Dvq77nRKBA355mfFhvZRJ76uoqNDOnTs1\nbtw4f6cCAAAAAMAVu+6LEqZx6VJgD4/GCDTKFJfRuwn1okmTJmnLli3ewyoBAAAAALieXfdFCWPY\nMJnipvUo1hQ3TcZBQ3s5IwAAAAAA0BPXfVFCksyzX1XQ4OiLxgQNjpZ59qtXbU1Xa5McVW9qTf5D\nGti/n5ob90qSsrOz9dVXnV9P2pXly5d7P0+YMOGq5fZjPPPMM5o8ebL39+LiYi1btswnxm63a9Gi\nRdc6NQAAAABAH9UnihLGELMic6tlSsjs3MoRaJQpIVORudUyhpiveC3XyaNqemOm9v91pI6++7BO\nVr+twTd8p//+zzFqKpwlt7O9R/O43W6fosS15Ha7O43t2LFDwcHBOnHihB8yAgAAAAD8HPWJooR0\nvjAxbP5K3fTy1zLf97punP6MzPe9rpsKGjVs/sqrVpA4lJ+sts9X+byGNC1S2nqwQyc+fV9nvtgo\n16kWnThxQnfffbfuuOMOPfLII5LO7z6YOXOmfve73+nll19WfX29LBaL6uvr1dHRoYcfflhjx45V\nRUWFJOnRRx9VSkqKkpOTdfDgQUnSb3/7205xf//735WYmKjHH39cFotFkrRz505ZLBaNHz9eb7/9\ntiTJYrHoscce0/333+/zvb7++muNHDlS06dP1/r1673jmzdv1sSJE5Wenq5z585Jkurq6jR58mRZ\nrVYdP35ckvT000/LYrHIarWqsbFRL774onee8vJyFRQUXPGzBwAAAAD0PX2mKPE9Y9gwDUrL0Y22\nhRqUlnNVz5A4WvKInEc6t2YEGKTUEQZtPii5z55Uy5qnVVRUpJkzZ+qTTz7RmTNntHPnTknSoEGD\ntH79ej322GMaM2aM7Ha7xowZo5aWFi1evFjr16/X0qVLJUnPP/+8Pv74Yz355JPesQvjXC6XiouL\ntW3bNk2fPt2b0+LFi7V27VrV1NSotLTUW1SYNm2aSkpKfPIvKyvTPffcI5vNpg0bNnjHQ0NDtWnT\nJiUlJWn16tWSpPb2dm3cuFHz5s1TUVGR6uvr9c0338hut+uNN97Q888/r3vvvVfvvfeeJOmDDz7Q\nzJkzr9afAAAAAADQh/TwtRVwtTaprbas2+uZt0h/tntk7i+d+bJSDaYbNWXKFElSfHy895yJuLi4\nLu+PiIiQ2Xx+N4fD4ZAkvfTSS6qqqpLT6dTo0aO7jGtubtavfvUrBQYGauzYsd756urqZLPZJEnN\nzc06duxYt+tv2LBBFRUVCggIUENDg9rbz7egxMbGSpLGjh2rzz//XEOGDPEZq6ys1N69e2W32707\nNIYOHarIyEgdP35cLS0tcjgcGjFixEWfLQAAAADg54miRA+17V7j07JxoZAbDBoZ6tGOw5I6XBoe\ndEq1tbX6zW9+o127dmnOnDnat2+fAgJ+2JxiMBi6/OzxeNTS0iK73a7q6mpVVlaqtLS0y7jw8HAd\nOnRIbrdbX3zxhfdabGysVq1apQEDBsjpdCooKEiSfNaXpCNHjmjEiBEqLi6WdL4VpLKyUtL5wsb3\nP2+++eYux0aNGqW77rpLr732miTJ6XRKkmw2m/74xz9q6tSpl3q0AAAAAICfqT7XvtFbOk4fv2TM\nfaMN2v+vcyLvs8Ro5cqVSk5O1i9+8QslJiZ2io+MjNSMGTO0b9++TtfCwsJkMplktVp9znm4kNFo\n1B/+8AclJSVpxYoV3uLDU089JZvNptTUVM2aNavb+8vLy5WcnOz93WKxeFs1WlpadNddd6mmpsbb\nGhIUFKRJkyapsLBQc+fO1W233aYhQ4bIYrEoNTXVe35FZmamNm7cqHvuuecSTw0AAAAA8HNl8Hg8\nPQ6Oj4/37Nq1qxfT+elyVL2po+8+3ON4832va1BaTi9m9AOXyyWj0aidO3dq+fLl3vMn/Km1tVVz\n5szRhx9+6O9UAAAAAEAGg6HW4/HE+zsP+KJ9o4dM49J1dMWfL9rC4RVolCkuo/eT+pfXXntN5eXl\nOnfunN55551rtm539u3bpzlz5ui5557zdyoAAAAAgJ8wdkpchqbCWWr77INLxpkSMjVs/sprkBEA\nAAAAoCfYKfHTxJkSl8E8+1UFDY6+aEzQ4GiZZ796jTICAAAAAOD6RVHiMhhDzIrMrZYpIVMKvKDz\nJdAoU0KmInOrZQwx+ydBAAAAAACuI5wpcZmMIWYNm79SrtYmte1eo47TrQocECZTXIaMg4b6Oz0A\nAAAAAK4bFCV+JGPYsGv2dg0AAAAAAPoi2jcAAAAAAIBfUJQAAAAAAAB+QVECAAAAAAD4BUUJAAAA\nAADgFxQlAAAAAACAX1CUAAAAAAAAfkFRAgAAAAAA+AVFCQAAAAAA4BcUJQAAAAAAgF9QlAAAAAAA\nAH5BUQIAAAAAAPgFRQkAAAAAAOAXFCUAAAAAAIBfUJQAAAAAAAB+YfB4PD0PNhiOSTrQe+kAAAAA\nANArojweT4S/k4CvyypKAAAAAAAAXC20bwAAAAAAAL+gKAEAAAAAAPyCogQAAAAAAPALihIAAAAA\nAMAvKEoAAAAAAAC/oCgBAAAAAAD8gqIEAAAAAADwC4oSAAAAAADALyhKAAAAAAAAv/g/oj+I2+6M\nX4IAAAAASUVORK5CYII=\n",
      "text/plain": [
       "<matplotlib.figure.Figure at 0x7f1da548c7f0>"
=======
      "image/png": "iVBORw0KGgoAAAANSUhEUgAABCUAAAH+CAYAAACrybTZAAAABHNCSVQICAgIfAhkiAAAAAlwSFlz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\n",
      "text/plain": [
       "<matplotlib.figure.Figure at 0x13030ff15c0>"
>>>>>>> upstream/master
      ]
     },
     "metadata": {},
     "output_type": "display_data"
    }
   ],
   "source": [
    "# Graph PCA\n",
    "create_graph(PCAxs,PCAys)"
   ]
  },
  {
   "cell_type": "markdown",
   "metadata": {},
   "source": [
    "# Graph with A Dendrogram\n",
    "\n",
    "We could also gain additonal insight into the clusters by graphing the results from our distance matrix on a dendrogram."
   ]
  },
  {
   "cell_type": "code",
   "execution_count": 29,
   "metadata": {},
   "outputs": [
    {
     "data": {
      "image/png": "iVBORw0KGgoAAAANSUhEUgAABD0AAARUCAYAAAB1D2jqAAAABHNCSVQICAgIfAhkiAAAAAlwSFlz\nAAALEgAACxIB0t1+/AAAADl0RVh0U29mdHdhcmUAbWF0cGxvdGxpYiB2ZXJzaW9uIDIuMS4wLCBo\ndHRwOi8vbWF0cGxvdGxpYi5vcmcvpW3flQAAIABJREFUeJzs3WmYZWV57//vD5pREAfQREU7KDYK\nSiEligIWBo3GREXxII0DTn1IokTPITnGGIMaFT0axHngr4iR4TCoBIwgwZYhCjRQjLFVBI2KGkVE\nBVTa+/9iPSWbouauprpWfz/XVVetvdaznnWv3cWL/eNez05VIUmSJEmS1DcbLXQBkiRJkiRJ64Kh\nhyRJkiRJ6iVDD0mSJEmS1EuGHpIkSZIkqZcMPSRJkiRJUi8ZekiSJEmSpF4y9JAkSZIkSb1k6CFJ\nkiRJknrJ0EOSJEmSJPXSkoUuQNLsbbvttrV06dKFLkOSJEmSFsSll176k6rabrpxhh7SIrR06VJW\nrVq10GVIkiRJ0oJI8p2ZjPPxFkmSJEmS1EuGHpIkSZIkqZcMPSRJkiRJUi8ZekiSJEmSpF4y9JAk\nSZIkSb1k6CFJkiRJknrJ0EOSJEmSJPWSoYckSZIkSeolQw9JkiRJktRLhh6SJEmSJKmXDD0kSZIk\nSVIvGXpIkiRJkqReMvSQJEmSJEm9ZOghSZIkSZJ6ydBDkiRJkiT1kqGHJEmSJEnqJUMPSZIkSZLU\nS4YemlKSByY5Psm3k1ya5KtJ9p/H+d8wxbEbklyVZLT9vG++rjvXmqYal+Q/1k1FkiRJkqS5MPTQ\npJIE+BxwXlXtUFW7Ay8EHjLB2CVzvMx0AcO+VTXUfg6b4zVma0ahx/hxVfWkdVCLJEmSJGmODD00\nlacCv6mqj4ztqKrvVNX7AZIckuTkJP8KnN32/U2SS5JcmeTNY+cl+VzrFLkmyYq270hgi9bF8ZmZ\nFJRkSZt/pL1+R5K3te0bkrwzycXt5xFt/3ZJTm3nXZLkyW3/Vkk+2bpJrkzy/IlqmmntSX7ZfifJ\n/01ydZv7wLZ/JMnKJKck+XqSz7RgiSRHJrm21fHuufxjSZIkSZLuaq7/d14bhp2By6YZsyfw2Kq6\nKcnTgR2BPYAApyfZp6rOA17exmwBXJLk1Kp6fZJXV9XQFPN/Ocmatv2pqjoqySHAKUkOA54BPGFg\n/C1VtUeSlwDvBf4MOBo4qqouSPJQ4CzgUcA/AD+vqscAJLlvVZ06QU2zrf15wBCwK7BtO+e8dmy3\n9r7+ALgQeHKSa4H9gZ2qqpLcZ6o3HIDVq2FkZNph0qK2fDmsWLHQVUiSJGkRM/TQjCX5ILAXXffH\n49vuL1XVTW376e3n8vZ6K7oQ5DzgsIG1QLZv+386g8vuW1U/GdxRVdck+TTwr8CeVfWbgcMnDPw+\nqm3vBzy6NVUA3DvJ1m3/Cwfm/dkkNcy29r2AE6pqDfCjJF8BHg/cAlxcVd8DSDIKLAW+BtwOHJPk\nTOCMKeaWNgyjo91vQw9JkiStBUMPTeUa4PljL6rqr5JsC6waGPOrge0A76iqjw5O0h5F2Y8uoLg1\nyUpg87Ws7THAzcADx+2vCbY3ate+bVxdGTf+buZYe6Y49uuB7TXAkqq6I8kewB/ThTCvpnu0aHLL\nlsHKldOUIS1idjJJkiRpHrimh6ZyLrB5kr8Y2LflFOPPAl6eZCuAJA9O8gBgG+BnLTTYCXjiwDm/\nTbLJbIpK8jzg/sA+wPvGPQ5y4MDvr7bts+mChLHzhybZf98JappL7ecBBybZOMl2rc6Lp7ifrYBt\nquoLwGvpHo2RJEmSJK0lQw9NqqoKeC7wlCTXJ7kY+BTwfyYZfzZwPPDVJFcBpwBbA18EliS5Engr\n3eMcYz4GXDnFQqZfzp1fWXtc6zQ5EnhFVX0D+ADdmh1jNktyEfDXwOvavsOA4bZI6LXAoW3/PwH3\nbQuOXgHsO0FNc6n9s8CVwBV0wdHfVtUPJ7k/2nt0RrvGVwbqliRJkiSthXSfa6XFL8kNwPD4NUD6\naHh4uFatWjX9QGmxGnu8xce4JEmSNIEkl1bV8HTj7PSQJEmSJEm95EKm6o2qWrrQNUiSJEmS1h92\nekiSJEmSpF4y9JAkSZIkSb1k6CFJkiRJknrJ0EOSJEmSJPWSoYckSZIkSeolQw9JkiRJktRLhh6S\nJEmSJKmXDD0kSZIkSVIvGXpIkiRJkqReMvSQJEmSJEm9ZOghSZIkSZJ6ydBDkiRJkiT1kqGHJEmS\nJEnqJUMPSZIkSZLUS0sWugBJkiY0OgojIwtdxcSWL4cVKxa6CkmSJE3DTg9JkmZjdBSOP36hq5Ak\nSdIM2OkhSVo/DQ3BypULXcXdra/dJ5IkSbobOz0kSZIkSVIvGXpIkiRJkqReMvSQJEmSJEm9ZOgh\nSZIkSZJ6ydBDkiRJkiT1kqGHJEmSJEnqJUMPSZIkSZLUS4YekiRJkiSplww9JEmSJElSLxl6SJIk\nSZKkXjL0kCRJkiRJvWToIUmSJEmSesnQQ5IkSZIk9ZKhhyRJkiRJ6iVDD0mSJEmS1EuGHpIkSZIk\nqZcMPSRJkiRJUi8ZekiSJEmSpF4y9NCcJdk/SSXZaYoxf5DkxCTXJbk2yReSPDLJSJIzZnidtyTZ\nb4rjz03y6Lncw1wleUmSq5Nc0+7r8Hma95AkH5iPuSRJkiRpQ2foobVxEHAB8MKJDiYJ8FlgZVU9\nvKoeDbwBeOBML5Bk46p6U1WdM8Ww5wL3WOiR5JnAa4GnV9XOwOOAn8/i/CXrqjZJkiRJ0p388KU5\nSbIV8GRgX+B04IgJhu0L/LaqPjK2o6pG2/kjwFZJTgF2AS4FXlRVleQG4BPA04EPJHkGcEZVnZLk\nSODZwB3A2cBp7fVTkrwReD7w/wGXA7sD2wEvAf4OeAxwUlW9sdXwOWB7YHPg6Kr6WJKN2/nDQAGf\nqKqjxt3X3wGHV9UP2j3dDny8zfkqYAWwKfAt4MVVdWuSY4GbgN2Ay5K8rd3jDsCtwIqqunL6d75Z\nvRpGRmY8XFp0RkdhaGihq5AkSdIiZ+ihuXou8MWq+kaSm5I8rqouGzdmLMyYzG7AzsAPgAvpQpQL\n2rHbq2ovgBZ6kOR+wP7ATi0cuU9V3ZzkdFoo0sYB/Kaq9kny18Dn6QKQm4DrkhxVVT8FXl5VNyXZ\nArgkyanAUuDBVbVLm+s+E9Q91X2dVlVjAcg/Aa8A3t+OPRLYr6rWJHk/cHlVPTfJU4HjAD/hSWOG\nhmD58oWuQpIkSYucoYfm6iDgvW37xPZ6fOgxnYur6nsASUbpAoex0OOkCcbfAtwOHJPkTGCqNUFO\nb7+vAq6pqhvbdb5N193xU+CwJPu3cdsDOwKrgR1aKHEmXTfJbOzSwo77AFsBZw0cO7mq1rTtvei6\nUqiqc5PcP8k2M77KsmWwcuUsS5MkSZKkDYtremjWktwfeCpd+HAD8DfAgW0Nj0HX0HVYTObXA9tr\nuGsI96vxg6vqDmAP4FRap8kM5v7duOv8DljSHq/ZD9izqnalexxm86r6GbArsBL4K+CYCeae6r6O\nBV5dVY8B3kz36MxE9zT+vYLucRpJkiRJ0jwx9NBcHAAcV1UPq6qlVbU9cD1d98Kgc4HN2joXACR5\nfJKnzOWibR2RbarqC3QLiY49DvILYOtZTrcN8LO23sZOwBPbNbYFNqqqU4F/oFukdLx3AO9K8gft\nnM2SHNaObQ3cmGQT4OAprn/e2PEWwPykqm6Z5T1IkiRJkqbg4y2ai4OAI8ftOxVYDpw/tqOtu7E/\n8N4kr6d7NOUGusDiwXO47tbA55NsTtcp8bq2/0Tg4y14OGCGc30RODTJlXSPtHyt7X8w8MkkY4Hg\n340/saq+kOSBwDmtu6XoFiWFLii5CPgO3aM1k4UxR7TrXEm3kOlLZ1i3JEmSJGmGUmVHvbTYDA8P\n16pVqxa6DGnDNPbNSa6rI0mStGCSXFpVw9ON8/EWSZIkSZLUS4YekiRJkiSplww9JEmSJElSLxl6\nSJIkSZKkXvLbWyRJmq3R0TsXNL0nLV8OK1bc89eVJElapOz0kCRpMRgdheOPX+gqJEmSFhU7PSRJ\nmq2hoXv+K2sXorNEkiRpkbPTQ5IkSZIk9ZKhhyRJkiRJ6iVDD0mSJEmS1EuGHpIkSZIkqZcMPSRJ\nkiRJUi8ZekiSJEmSpF4y9JAkSZIkSb1k6CFJkiRJknrJ0EOSJEmSJPWSoYckSZIkSeolQw9JkiRJ\nktRLhh6SJEmSJKmXDD0kSZIkSVIvGXpIkiRJkqReMvSQJEmSJEm9ZOghSZIkSZJ6ydBDkiRJkiT1\nkqGHJEmSJEnqJUMPSZIkSZLUS4YekiRJkiSplww9JEmSJElSLxl6SJIkSZKkXjL0kCRJkiRJvWTo\nIUmSJEmSesnQQ5IkSZIk9ZKhhyRJkiRJ6iVDD0mSJEmS1EuGHpIkSZIkqZcMPSRJkiRJUi8ZemjR\nSfKQJJ9P8s0k1yU5Osmm7dhIkjPa9rOTvH6er/0nSUbbzy+TrG7bx83g3O2TnDTF8fslOXQ+65Uk\nSZKkDZmhhxaVJAFOAz5XVTsCjwS2At42fmxVnV5VR87DNZcMzHlWVQ1V1RCwCji4vX7JdPNU1X9V\n1YFTDLkfYOghSZIkSfNkyfRDpPXKU4Hbq+qTAFW1JsnrgOuT/OPgwCSHAMPA3wNXADtU1e+SbAms\nBnYAHgp8ENgOuBV4VVV9PcmxwE3AbsBlwP+errAkZwOvraprk1wFnFBVb0/yjna9C4BTqmooyWOA\nTwCb0IWPzwWOBJYlGQW+WFWTd6msXg0jI9O+WZLWgdFRGBpa6CokSZI0A4YeWmx2Bi4d3FFVtyT5\nLvCIiU6oqp8nuQJ4CvBl4M+Bs6rqt0k+BhxaVd9M8gTgQ3TBCnRdJPtV1ZoZ1nYesHeSG4Hbgb3a\n/r2AY4AMjP1L4N1VdVKSzdqx1wOPaF0kktZXQ0OwfPlCVyFJkqQZMPTQYhOgZrF/zEnAgXShxwuB\nDyXZCngScHL31AwAmw2cc/IsAg+A84EVwI3A54Fnta6SB1fVdUkGQ5n/AN6Y5GHAaVX1rYEaprds\nGaxcOYvSJEmSJGnD45oeWmyuoXtk5feS3BvYHrhuivNOB56Z5H7A7sC5dH//N4+t0dF+HjVwzq9m\nWdtFwB7A3nRdH1cArwIuHj+wqj4N7A/8GvhSkn1meS1JkiRJ0jQMPbTY/DuwZZKXACTZGHgPcGxV\n3TrZSVX1S7rw4WjgjKpaU1W30K0F8oI2V5LsOtfCqup24Ed063NcRNf5cXj7fRdJdqiqb1XV0cCZ\nwGOBXwBbz/X6kiRJkqS7MvTQolJVRdch8YIk3wS+Qbd+xhtmcPpJwIva7zEHA69oa35cAzxnLUs8\nH7ixqn7dth/CBKEHsDzJNW3R0h2Af6mqHwGrklyVZK2/dUaSJEmSNnTpPkNKWkyGh4dr1apVC12G\npHvS2Dc2uZ6PJEkSSS6tquHpxtnpIUmSJEmSesnQQ5IkSZIk9ZKhhyRJkiRJ6iVDD0mSJEmS1EuG\nHpIkSZIkqZcMPSRJkiRJUi8ZekiSJEmSpF4y9JAkSZIkSb1k6CFJkiRJknrJ0EOSJEmSJPWSoYck\nSZIkSeolQw9JkiRJktRLhh6SJEmSJKmXDD0kSZIkSVIvGXpIkiRJkqReMvSQJEmSJEm9ZOghSZIk\nSZJ6ydBDkiRJkiT1kqGHJEmSJEnqJUMPSZIkSZLUS4YekiRJkiSplww9JEmSJElSLxl6SJIkSZKk\nXjL0kCRJkiRJvWToIUmSJEmSesnQQ5IkSZIk9ZKhhyRJkiRJ6iVDD0mSJEmS1EuGHpIkSZIkqZcM\nPSRJkiRJUi8ZekiSJEmSpF4y9JAkSZIkSb1k6CFJkiRJknrJ0EOSJEmSJPWSoYckSZIkSeolQw9J\nkiRJktRLhh6akyQPSfL5JN9Mcl2So5NsupZzHpvk1iRbD+w7Okkl2Xaacw9J8qC1uPZIkjMm2f/z\nJKPt55xJzn92ktfP9frj5joiyeHzMZckSZIkbcgMPTRrSQKcBnyuqnYEHglsBbxtlvNsPMHubwHP\nacc3AvYFvj+D6Q4B5hx6TOP8qhpqP/uNP5hkSVWdXlVHrqPrS5IkSZLmwNBDc/FU4Paq+iRAVa0B\nXge8PMmWreviA2ODk5yRZKRt/zLJW5JcBOw5wdwnAAe27RHgQuCOdu7SJFcPzHt464o4ABgGPtO6\nMbZIcsNYd0iS4SQr2/YeSf4jyeXt97K5vAGtK+Wfk3wZeOfgPSfZLsmpSS5pP09u+49I8okkK5N8\nO8lhA/P9fZLVrZNkTjVJkiRJku5qyUIXoEVpZ+DSwR1VdUuS7wKPmObcewFXV9WbJjn+TeA5Se4L\nHAT8C/DMqSasqlOSvBo4vKpWAXTNKBP6OrBPVd2RZD/g7cDzp6l57ySjbfvkqhrraHkksF9VrUly\nyMD4o4GjquqCJA8FzgIe1Y7tRNe9sjWwOsmHgccCLwR2o/tv8jLGvb93s3o1jIxMU7a0wJYvhxUr\nFroKSZIkbcAMPTQXAWoW+wetAU6dZsxpdCHAE4D/OevqprYN8KkkO9LVuskMzjm/qv5sgv0nty6X\n8fYDHj0QvNx7YJ2SM6vq18Cvk/wYeCCwN/DZqroVIMnpM78daT012nJCQw9JkiQtIEMPzcU1jOuO\nSHJvYHvgOmBX7vro1OYD27dPEhQMOpGu2+FTVfW7gfDgjinmHW9w7OC4twJfrqr9kywFVk5Ty1R+\nNcn+jYA9q+q2wZ3tPn49sGsNd/43OF1YdFfLlsHKlbM6RbpH2YkkSZKk9YBremgu/h3YMslL4PcL\nkr4HOLZ1K9wADCXZKMn2wB6zmbyqvgv8PfChcYd+BDwgyf2TbAYMdl/8gu6RkTE3ALu37cGAZhvu\nXBj1kNnUNQtnA68ee5FkaJrx5wH7t7VItgb+fB3VJUmSJEkbFEMPzVpVFbA/8IIk3wS+AdwOvKEN\nuRC4HrgKeDdd18Zsr/HRqrpu3L7fAm8BLgLOoFufY8yxwEfGFjIF3gwcneR8uo6KMe8C3pHkQmCi\nb4+ZD4cBw0muTHItcOhUg6vqMuAkYJTu0Z/z11FdkiRJkrRBSff5VdJiMjw8XKtWrVroMqTJjT3e\n4mNY88f3VJIk6feSXFpVw9ONs9NDkiRJkiT1kqGHJEmSJEnqJUMPSZIkSZLUS4YekiRJkiSplww9\nJEmSJElSLxl6SJIkSZKkXjL0kCRJkiRJvWToIUmSJEmSesnQQ5IkSZIk9ZKhhyRJkiRJ6iVDD0mS\nJEmS1EuGHpIkSZIkqZcMPSRJkiRJUi8ZekiSJEmSpF4y9JAkSZIkSb1k6CFJkiRJknppyUIXIEnq\nqdFRGBmZ3TnLl8OKFeukHEmSJG147PSQJK0fRkfh+OMXugpJkiT1iJ0ekqR1Y2gIVq6c+fjZdoVI\nkiRJ07DTQ5IkSZIk9ZKhhyRJkiRJ6iVDD0mSJEmS1EuGHpIkSZIkqZcMPSRJkiRJUi8ZekiSJEmS\npF4y9JAkSZIkSb1k6CFJkiRJknrJ0EOSJEmSJPWSoYckSZIkSeolQw9JkiRJktRLhh6SJEmSJKmX\nDD0kSZIkSVIvLVnoAiRJ0gyNjsLIyLq9xvLlsGLFur2GJEnSPcROD0mS1BkdheOPX+gqJEmS5o2d\nHpIkLRZDQ7By5bqbf113kUiSJN3D7PSQJEmSJEm9ZOghSZIkSZJ6ydBDi0KSNUlGk1yR5LIkT2r7\nlya5eo5zTnvuRGOSHJHk8LlcU5IkSZJ0z3FNDy0Wt1XVEECSPwHeATxlYUuSJEmSJK3PDD20GN0b\n+Nn4nUk2Bo4ERoDNgA9W1UeTbAV8HrgvsAnwxqr6/LhzdwBOBVZU1SUzLSTJEPARYEvgOuDlVfWz\nJCuBw6tqVZJtgVVVtTTJzsAngU3pOq2eX1XfTPIi4LC2/yLgL6tqzaQXXr3aBQe1fhsd7RbdlCRJ\nkhaQj7dosdiiPd7ydeAY4K0TjHkF8POqejzweOBVSf4IuB3Yv6oeB+wLvCdJxk5Ksowu8HjZJIHH\nw9u1R5OMAocOHDsO+D9V9VjgKuAfp7mPQ4GjW9fKMPC9JI8CDgSe3PavAQ6eZh5p/TY0BMuXL3QV\nkiRJ2sDZ6aHFYvDxlj2B45LsMm7M04HHJjmgvd4G2BH4HvD2JPsAvwMeDDywjdmOrgvk+VV1zSTX\nvm7s2u36R7Tf2wD3qaqvtEOfAk6e5j6+Cvx9kocAp7Uujz8GdgcuaVnMFsCPp5xl2bJ1+7WVkiRJ\nktQDhh5adKrqq+2Rke3GHQrwmqo66y47k0Pa2N2r6rdJbgA2b4d/DvwX8GRgstBjLu7gzk6qsWtR\nVccnuQh4FnBWkle2uj9VVX83j9eXJEmSpA2ej7do0UmyE7Ax8NNxh84C/iLJJm3cI5Pci67j48ct\n8NgXeNjAOb8Bngu8JMmsevGr6ufAz5Ls3Xa9GBjr+riBrnsDYKzzZGztkG9X1fuA04HHAv8OHJDk\nAW3M/ZIM1ihJkiRJmgM7PbRYbNHW04CuM+KlVbVmYGkO6Nb6WApc1tbs+G+6QOMzwL8mWQWMAl8f\nPKmqfpXkz4AvJfnV+EVOp/FS4CNJtgS+Dbys7X838P+SvBg4d2D8gcCLkvwW+CHwlqq6KckbgbOT\nbAT8Fvgr4DuzqEOSJEmSNE6qaqFrkDRLw8PDtWrVqoUuQ5pfY99I5Ho1E7sn3h//DSRJ0iKR5NKq\nGp5unI+3SJIkSZKkXjL0kCRJkiRJvWToIUmSJEmSesnQQ5IkSZIk9ZKhhyRJkiRJ6iVDD0mSJEmS\n1EuGHpIkSZIkqZcMPSRJkiRJUi8ZekiSJEmSpF4y9JAkSZIkSb1k6CFJkiRJknrJ0EOSJEmSJPWS\noYckSZIkSeolQw9JkiRJktRLhh6SJEmSJKmXDD0kSZIkSVIvGXpIkiRJkqReMvSQJEmSJEm9ZOgh\nSZIkSZJ6ydBDkiRJkiT1kqGHJEmSJEnqJUMPSZIkSZLUS4YekiRJkiSplww9JEmSJElSLxl6SJIk\nSZKkXjL0kCRJkiRJvWToIUmSJEmSesnQQ5IkSZIk9ZKhhyRJkiRJ6iVDD0mSJEmS1EuGHpIkSZIk\nqZcMPSRJkiRJUi8ZekiSJEmSpF5astAFSJL0e6OjMDIyt3OXL4cVK+a1HEmSJC1udnpIkha/0VE4\n/viFrkKSJEnrGTs9JEnrj6EhWLly9ufNtTtEkiRJvTZlp0eS+ycZbT8/TPL9tn1zkmvnetEkhyT5\nwAT7v5DkPm37sCT/meQzs5z7dUluT7LNfNU1cPzzSb46zRy/nO11Z1DXa5NsOd/zDsy/c5Jzk3wj\nyTeT/EOStGObJTmn/bsfOO68Y9vfxGbt9bZJbmjbD0pyyjTXvSHJtrOoc8p/n1nMU0neM/D68CRH\ntO1Dk7xkinNHkpwxl9qSHJHk8LUoXZIkSZI0C1OGHlX106oaqqoh4CPAUW17CPjdfBdTVX9aVTe3\nl38J/GlVHTzLaQ4CLgH2n8/aWhjzOOA+Sf5oPueegdcCswo9ksyoiyfJFsDpwJFV9UhgV+BJdO8/\nwG7AJu3v4KQJplgDvHz8zqr6QVUdMJua70G/Bp43UeBSVR+pquMWoCZJkiRJ0jxbm8dbNk7ycboP\nyN8HnlNVtyV5OPBBYDvgVuBVVfX1mUzYugSGgX8CdgBOT/IJ4GPA+4HHtJqPqKrPT3D+w4GtgL8B\n3gAc2/YfAjybLjh4OPDZqvrbduxlwN8BNwLfoPtAPJHnA/8K/Ah4IfCOdv4fAce3ur44UMtJwKeq\n6gvt9bHt/M8BRwIjwGbAB6vqo0lGgCOAnwC7AJcCLwJeAzwI+HKSn1TVvkl+WVVbtXkPAP6sqg5p\n17iJLqi4LMmbZvC+LQcurKqzAarq1iSvBlYmORn4F2C7JKPA86vqunHnvxd4Xftb+L0kS4EzqmqX\nJBsD7wT+BCjg41X1/jb0NUn+HNgEeEFVfT3J/YBP0P0N3AqsqKorx83/58AbgU2BnwIHV9WPkjwF\nOLoNK2CfqvrFuJrvoPubeh3w9+PmPQL4ZVW9O8kj6MK+7ejCnReMG/v4Ns/zx+3frp330LbrtVV1\nYdveNcm5wPbAu6rq40k+DZwy9m/TuptOqqrTmczq1bbza2Iu5ilJkiT93tosZLoj3Qf2nYGbufOD\n38eA11TV7sDhwIdmO3FVHQr8ANi3qo6i+2B6blU9HtgX+L9J7jXBqQcBJwDnA8uSPGDg2BBwIF0A\ncGCS7ZP8IfBm4MnA04BHT1HW2NwntO0xRwMfbrX9cGD/ie16JNkU+GPgC8ArgJ+38Y8HXjXQObIb\nXVfHo+k+8D+5qt438F7sO0V9Yx4J7FdV/5uZvW870wUsv9eCja2A24FXAue3To/xgQfAd4ELgBdP\nUdMK4I+A3arqscDgI0s/qarHAR+m+3uB7t/k8jb2DcBEnRcXAE+sqt3o3uu/bfsPB/6qdSTtDdw2\nSU0fBA6e5jGoz9D9jY91v9w4diDJk+iCjedU1bfHnXc0XVfU4+n+uzhm4NhjgWcBewJvSvKgdvxl\nbd5t2rW+MEVd0sRczFOSJEm6i7Xp9Li+qkbb9qXA0iRb0X1gO7ktCQFdN8Paejrw7IH1EDan+7/o\n/zlu3AuB/avqd0lOo/s/8x9sx/69qn4O0NYjeRiwLbCyqv677T+JLjS4iyQPBB4BXFBVleSOJLtU\n1dV0gclY4PNpuo4GgH8D3tfWu3gGcF7rhHk68NjWoQGwDV2A9Bvg4qr6XrvmKLCU7sP9bJxcVWva\n9kzet9B1RExksv3jvZ3uEZkzJzm+H/CRqroDoKpuGjh2Wvt9KfC8tr0X7T2tqnPb2jLjw4mHACe1\n4GpT4Pq2/0Lgn1u3xGlj7+fdbqzqliTHAYcxQTCSZGvgwVX12Tb+9rYf4FF04d7Tq+oHk9zvowf+\nG7h3mw/g81V1G3Bbki8De1TV55J8sIV0zwNOHXuvJrVs2dwWe1S/2f0jSZIk3cXahB6Dj4GsAbag\n6xy5uf1f9vkUukcrVk86IHksXXjwpfZhc1Pg29wZeoyvd+zeZ/LB/kDgvsD1be570wUsb5xsjqq6\nPclKukc6DqTrEBm7l9dU1VnyNxxuAAAgAElEQVTj6h+Zosa7TT+wvfm4Y78anJZp3jfgGmCfcbXs\nQPeIxy8GPrhPqqq+1UKa/zHJkKmClbF7HrzfiS46/vz3A/9cVacPPBpEVR2Z5EzgT4GvJdlviser\n3gtcBnxykponcyPd+74bXRfOeBsBe7Zw484Ju/dy/H2Mvf40cDDd39Xd1kiRJEmSJM3e2jzecjdV\ndQtdMPACgHR2nYepz6Jb+2HsG0V2m2DMQXRrVixtPw8CHpzkYVPMexEw0joJNmHcmg3j5n7G2NzA\n7nQfTqHrLBjbHr/o6ol0jy3s3e5h7F7+ol2PJI+c5FGdQb8Ath54/aMkj0qyEVMv2DqT9+0zwF5J\n9mtjtgDeB7xrmprGext3Pp4y3tnAoWOLq7Y1O6ZyHu29bIHGT9rf1qBt6NaSAXjp2M4kD6+qq6rq\nncAqYKfJLtI6Tv4f3SNH44/dAnwvyXPbvJvlzm/QuZnuEZW3t/rGOxt49UBNgyHgc5JsnuT+dOu6\nXNL2H0v3aBNVdc1kNUuSJEmSZm5eQ4/mYOAVSa6g6yJ4ziTjDknyvYGfh0wx51vpFrq8MsnV7fV4\nLwQ+O27fZ7kzkLibqrqRrkPgq8A5dP/X/y7agpwPBb42cN71wC1JngD8NfBXSS6h+yA+6Gy6Lopz\nquo3bd8xwLV0C41eDXyU6TtuPgb8W3scAuD1wBnAuQysMzGBad+31o3wHOCNSVYDV9F9EJ/VV8O2\nD+p3e/+aY+jW/riy/V0sn2a6I4DhJFfSLfr60knGnJzkfLrFX8e8NsnV7Tq30T1mNJX30D3mNJEX\nA4e1Ov4D+IOxA1X1I+DPgQ+2v4NBh43V3x6lOnTg2MV0jwF9DXjr2OMxbb7/ZOKuE0mSJEnSHKRq\npss2SFpXWhfJVcDjxtaemcrw8HCtWrVq3RemxWVsTY/Fut7L2tS/2O99Ju6Je9wQ3kdJktQLSS6t\nquHpxq2LTg9Js9AeLfo68P6ZBB6SJEmSpJlZm4VMJc2DqjqH7hEqSZIkSdI8stNDkiRJkiT1kqGH\nJEmSJEnqJUMPSZIkSZLUS4YekiRJkiSplww9JEmSJElSLxl6SJIkSZKkXjL0kCRJkiRJvWToIUmS\nJEmSesnQQ5IkSZIk9ZKhhyRJkiRJ6iVDD0mSJEmS1EuGHpIkSZIkqZcMPSRJkiRJUi8ZekiSJEmS\npF5astAFSJLm0egojIwsdBWwfDmsWLHQVUiSJGkDZ6eHJGl+jY7C8ccvdBWSJEmSnR6S1CtDQ7By\n5cLWsD50mkiSJEnY6SFJkiRJknrK0EOSJEmSJPWSoYckSZIkSeolQw9JkiRJktRLhh6SJEmSJKmX\nDD0kSZIkSVIvGXpIkiRJkqReMvSQJEmSJEm9ZOghSZIkSZJ6ydBDkiRJkiT1kqGHJEmSJEnqJUMP\nSZIkSZLUS4YekiRJkiSplww9JEmSJElSLxl6SJIkSZKkXjL0kCRJkiRJvWToIUmSJEmSesnQQ3OS\nZE2S0STXJLkiyf9KMqe/pyTDSd43ybEbkmw7wf6tknw0yXWthvOSPGEu158PSU5IcmWS1yV5S5L9\nphl/bJIDJtg/kuSMdVepJEmSJG04lix0AVq0bquqIYAkDwCOB7YB/nG2E1XVKmDVLE87Brge2LGq\nfpdkB+BRs7322kqyBNgWeFJVPeyevr4kSZIkaXJ2emitVdWPgRXAq9NZmuT8JJe1nycBJDkpyZ+O\nnde6HZ4/2N2Q5P5Jzk5yeZKPAhl/vSQPB54AvLGqftdq+HZVndmO/68kV7ef17Z9S5N8PcmnWkfG\nKUm2bMduSPLOJBe3n0e0/dslOTXJJe3nyW3/EUk+luRs4DjgbOABrfNl78EujiS7J/lKkkuTnJXk\nDye4n2e02i4Anjcv/yiSJEmSJDs9ND+q6tvt8ZYHAD8GnlZVtyfZETgBGAZOBA4EvpBkU+CPgb+g\nCzDG/CNwQVW9Jcmz6MKU8XYGRqtqzfgDSXYHXtbmDHBRkq8APwOWAa+oqguTfAL4S+Dd7dRbqmqP\nJC8B3gv8GXA0cFRVXZDkocBZ3NlNsjuwV1XdlmQpcMZA58sr2u9NgPcDz6mq/05yIPA24OUD9W4O\nfBx4KvAt4KQp3+gxq1fDyMiMhmoDMjoKQ0MLXYUkSZK03jD00Hwa68rYBPhAkiFgDfDItv/fgPcl\n2Qx4BnBeCw0G59iH1u1QVWcm+dksa9gL+GxV/QogyWnA3sDpwH9V1YVt3L8Ah3Fn6HHCwO+j2vZ+\nwKMH6rt3kq3b9ulVdds0tSwDdgG+1ObYGLhx3JidgOur6put3n9h4qBHmt7QECxfvtBVSJIkSesN\nQw/Ni7amxhq6Lo9/BH4E7Er3CNXtAK3zYyXwJ3QdHydMOBnUNJe7Btg1yUZjj7cMljLFeePnrWm2\nNwL2HB9utADjV9PUOFbLNVW15zTjprvfu1u2DFaunPVpkiRJkrQhcU0PrbUk2wEfAT5QVUW3oOmN\nLZB4MV2Hw5gT6R4/2ZvucZHxzgMObvM+E7jv+AFVdR3dwqdvTksgkuyY5Dnt/Ocm2TLJvYD9gfPb\nqQ9NMhZAHARcMDDtgQO/v9q2zwZePXCfs31uYDWw3dg1k2ySZOdxY74O/FFbp2SsLkmSJEnSPDD0\n0FxtMfaVtcA5dAHBm9uxDwEvTfI1ukdbBrsizqZ7hOWcqvrNBPO+GdgnyWXA04HvTnL9VwJ/AHwr\nyVV062L8oKouA44FLgYuAo6pqsvbOf/Z6roSuB/w4YH5NktyEfDXwOvavsOA4bbw6bXAodO9KYPa\n/R0AvDPJFcAo8KRxY26ne5zlzLaQ6Xdmcw1JkiRJ0uTS/Y95qd8GFhvdZYJjNwDDVfWTe7isORse\nHq5Vq2b7Lb/SPWRskd3ZPoI11/PW9tzF4p64xw3hfZQkSb2Q5NKqGp5unJ0ekiRJkiSpl1zIVBuE\nqrqB7ptUJjq29B4tRpIkSZJ0j7DTQ5IkSZIk9ZKhhyRJkiRJ6iVDD0mSJEmS1Euu6SFJmn+jo3d+\nE8hszhkaWiflSJIkacNkp4ckaf0wNATLly90FZIkSeoROz0kSfNvaAhWrlzoKiRJkrSBs9NDkiRJ\nkiT1kqGHJEmSJEnqJUMPSZIkSZLUS4YekiRJkiSplww9JEmSJElSL/ntLZKkfhgdhZGRha5i3Rkd\n7b4VR5IkSTNmp4ckSYvB0BAsX77QVUiSJC0qdnpIkvphaAhWrlzoKiRJkrQesdNDkiRJkiT1kqGH\nJEmSJEnqJUMPSZIkSZLUS4YekiRJkiSplww9JEmSJElSLxl6SJIkSZKkXjL0kCRJkiRJvWToIUmS\nJEmSemnJQhcgSZLWI6OjMDKy0FVsmJYvhxUrFroKSZJ6xU4PSZKkhTY6Cscfv9BVSJLUO3Z6SJKk\nOw0NwcqVC13FhsfuGkmS1gk7PSRJkiRJUi8ZekiSJEmSpF4y9JAkSZIkSb1k6CFJkiRJknrJ0EOS\nJEmSJPWSoYckSZIkSeolQw9JkiRJktRLhh6SJEmSJKmXDD0kSZIkSVIvGXpoUkn2T1JJdprg2P2T\njLafHyb5/sDrTaeY83tJ7jMPtY0kuSbJ5WPXS/KAKWraeG2v2a6xaZJ3J/lWkquTfC3Jfu3YOUm2\nSLJtkhUD5yxN8pn5uL4kSZIkaeaWLHQBWq8dBFwAvBA4YvBAVf0UGAJIcgTwy6p69z1Y24uAI6vq\n0wM1/Xigpn8CflJV753n674LuBfwqKr6bZIHAXu264+FHw8DVgAfa/tvAA6e5zokSZIkSdOw00MT\nSrIV8GTgFXShx2zP/9ckl7ZujFdOMualSS5unRgfSnK3v8ckT2vHr0ry8dZpcSjwPOAtSY6bYT1v\nGuu+SPLhJF9o289KcsxAPVe3n7dOMMc2dOHFX1fVbwGq6gdVdWo7/sP2vh0JPLrV/bYkOyVZ1cZs\nkuS97b6vSPKytn/7JBcO3OsTZnJfkiRJkqTJ2emhyTwX+GJVfSPJTUkeV1WXzeL8l1bVTUm2BFYl\nObWqfjZ2MMkuwP7Ak6rqjiQfowtXjh8YsyXwCWCkqq5rj4isqKoPJNkLOKWqPjfDes6jC3A+BuwK\nLGkhy17A+a074whgd+CXwLlJnlFVXxyYYxnwraq6dZprvR54SFUNt/sYfDzoL4DvVdUeSTYHLkpy\nNvAS4LSqek97FGeLKa+wejWMjMzgtqUFMDoKQ0MLXYUkSZJkp4cmdRBwYts+sb2ejdcluQL4KvAQ\n4OHjju8HPJ4uEBkFnjLBmEcB36yq69rr44B9ZlnHmIuAJya5P3AzcDld+LE3cD7wROBLVXVTVf0G\nOGEtrjWVpwOvbPf8NeDewCOAi4FDk7wJ2LmqfrkOri3dM4aGYPnyha5CkiRJstNDd9eCgacCuyQp\nYGOgkvxtVdUMzt+PLjB4YlXdluQCYPPxw4BPVNU/TDXV3O7g7lod/033eMoFwHeBpwF/WFXfTrLH\nDKb5BvCIJFvOoNtjMgH+Z1V95W4Hkn2BZwEnJnlzVZ006SzLlsHKlXMsQZIkSZI2DHZ6aCIHAMdV\n1cOqamlVbQ9cT/coyExsA9zUgoad6To6xjsH+B9JtoXffxvMQ8eNuRbYMckO7fWLgLuFBbNwHnB4\n+30+8Bq6DgvoOlL2S3LfJJsAB46/VlXdTNcB8s9tDEkekmR8F8wvgK0nqeEs4C+TLGnnPyrJ5kmW\nAjdW1UfpOlp2W4v7lCRJkiRh6KGJHQR8dty+U4GZ9qufCWzZHm95E92jJXdRVVcBbwbOSXIlcDbw\nwHFjbqVbh+O0JFcBvwY+Pov7GO98YDvgkqr6DlBtH+31W9rry4HzquqsCeb4G+A24D+TXA2cDPx4\nXN3fB65uC5K+bdz5H6LrMrm8nf8Buk6apwFXJLkceCbwwbW4T0mSJEkSkBk8rSBpPTM8PFyrVq1a\n6DKk9cfYwr4+9rV2fB8Xju+9JEmzkuTSsS+PmIqdHpIkSZIkqZcMPSRJkiRJUi8ZekiSJEmSpF4y\n9JAkSZIkSb1k6CFJkiRJknrJ0EOSJEmSJPWSoYckSZIkSeolQw9JkiRJktRLhh6SJEmSJKmXDD0k\nSZIkSVIvGXpIkiRJkqReMvSQJEmSJEm9ZOghSZIkSZJ6ydBDkiRJkiT1kqGHJEmSJEnqJUMPSZIk\nSZLUS4YekiRJkiSplww9JEmSJElSLxl6SJIkSZKkXjL0kCRJkiRJvWToIUmSJEmSesnQQ5IkSZIk\n9ZKhhyRJkiRJ6iVDD0mSJEmS1EuGHpIkSZIkqZcMPSRJkiRJUi8ZekiSJEmSpF4y9JAkSZIkSb1k\n6CFJkiRJknrJ0EOSJEmSJPWSoYckSZIkSeolQw9JkiRJktRLhh6SJEmSJKmXDD0kSZIkSVIvGXpI\nkiRJkqReMvSQJEmSJEm9ZOghSZIkSZJ6ydBDACS5f5LR9vPDJN9v2zcnuXYt5j0kyX+3ua5N8qq2\n/9lJXj/FeUuTXD2H6z0oySnTjLkhybYzGHNVkiuSnJ3kD2ZbiyRJkiRpYRl6CICq+mlVDVXVEPAR\n4Ki2PQT8bi2nP6nNNQK8PckDq+r0qjpyLee9m6r6QVUdME/T7VtVuwKrgDfM05x3k2TJuppbkiRJ\nkjZkftjSTGyc5OP/P3t3HrfZPd4P/HNFkJA0WtROUMYSPGQSEsREg9r3bULFNpaitPjpT4vSqvan\n9l0QRYi1YqvUMhIRYRKPhDC2UFEtscQWQVy/P+7zJLfHs81kJs/kzPv9es3rPvc53/M917nnySt5\nPrnO905yYJLvJLl7d59dVddO8vIkl0/yiySP7O4vLzZJd3+vqr6e5BpVdccka7v7cVV1hUyClmsN\nQx+T5L/nzquqayV5V5INSf4+ydO6+5Sq+lyS93T3s6vqOUm+leQjSd7f3ftU1cWS/HOSOyTpJK/t\n7pdOzbt7kvckeVd3v3aJ+z82yROGc16ZZL8kuyd5Z3c/c9j/zSRHJTl4OGd9d3+tqi4/3NvVh/1P\n7O7jq+pZSa6cZO8kZ1bVPyZ5Q5JLZBJG3ru7v7poRZs3J+vWLVEy7GRmZ5OZmdWuAgCAHYxOD1bi\nOkle3t03TPLjJPce9r8myeO7e98kT07yiqUmGcKLayX52rxDL0nyiaGr4mZJvjh1zppMAo+Hdvdn\nMwkgbl1Vf5DkN0luOQy9VZLj5s27Ick1k9y0u2+c5C1Tx/ZI8r4kRy4TeCTJXZKcOmw/vbvXJrlx\nkttU1Y2nxv2ku/dP8rIkLxr2vTiTrpn9MvncDp8av28mAdL6JI9O8uKhI2ZtkjOWqQmYNjOTrF+/\n2lUAALCD0enBSpze3bPD9klJ9q6qPTLp/HhHVc2Nu+Qi59+/qm6V5Jwkj+ruH06dkyS3TfLnSdLd\n5yY5q6r+MJMOkvdm0vUwF4Qcl0nXxelJPpDkdlV1qSR7d/fmqtp7at5Dkryqu38zzP3DqWPvTfIv\n3T0dhMz38ao6N8kpSf522He/qtqQyT87V0pyg+F4krx16vWFUzXcYOp+/6Cq9hy2j+7us4ftE5I8\nvaqumuTdS3Z5JMmaNcnGjUsOAQAA2NkJPViJc6a2z83k0Y5dkvx46ExYzlHd/bituO5ZSb6dSTfH\nXOjx2Uw6Ib6R5D+TXC7JIzMJY+arTB5rWcjxSe5YVUd292JjDu7uM8+brOqamXS07NfdP6qqI5Ls\nNjW+F9jeJckBU+HG3FxJ8vPzBncfWVUnJrlzkg9X1SO6+2OL1AUAAMAKeLyFrdLdP0lyelXdN0lq\n4iZbOd1HM1nHI1V1seHRlST5VZJ7JPnzqlo/XPdXmQQh90vy6Uw6P56c33+0JUmOSfLouYVCq+qP\npo49I8kPsswjOfP8QSZBxVnDOiR3nHf8/lOvJ0zVcF7gU1ULhkTDoz/f6O6XJDk6k8dnAAAAuACE\nHlwQhyZ5eFV9PpNOjLtv5Tx/meTgqjo1k46NG84d6O6fZ7KmxpOqam7+45L8b3f/Yti+ahYOPQ5P\n8l9JThlqnP/A/xOT7FZV/7KSIrv780k+l8m9vj6TbpFplxy6Nf4yyZOGfU9IsraqThm++vfRi0x/\n/yRfqKrZJNdL8m8rqQkAAIDF1eKd/cBKDd/esnb6cZjtae3atb1p06YL41LAzmTuW6GsGXTh89kD\nwBapqpOGL5lYkk4PAAAAYJQsZArbQHfvvdo1AAAA8Lt0egAAAACjJPQAAAAARknoAQAAAIyS0AMA\nAAAYJaEHAAAAMEpCDwAAAGCUhB4AAADAKAk9AAAAgFESegAAAACjJPQAAAAARknoAQAAAIyS0AMA\nAAAYJaEHAAAAMEpCDwAAAGCUhB4AAADAKAk9AAAAgFESegAAAACjJPQAAAAARknoAQAAAIyS0AMA\nAAAYJaEHAAAAMEpCDwAAAGCUhB4AAADAKAk9AAAAgFESegAAAACjJPQAAAAARknoAQAAAIyS0AMA\nAAAYJaEHAAAAMEpCDwAAAGCUhB4AAADAKAk9AAAAgFESegAAAACjJPQAAAAARknowYWqqi5bVbPD\nn/+pqu8M2z+uqtMuwLyHVdXLLmBth1XVlRfYf5Oqmp16/8Cq+kVVXXx4f6OqOmULr3VEVd1ngf3r\nqur9W1M/AAAAv0vowYWqu3/Q3TPdPZPkVUleOGzPJPnt6laXw5L8XuiR5NQk16iqPYf3Byb5cpKb\nTr0/fqUXqaqLXYAaAQAAWKFdV7sAmHKxqnptJiHCd5LcvbvPrqprJ3l5kssn+UWSR3b3l1cyYVU9\nMMn/TVJJPtDd/2cIHV6XZG2STvL6JN8e3r+lqs5OckB3n50k3f3bqvpskpsn+UiSfYd6DkzymeH1\nI8P1/jTJ8zP5Z+uzSR7T3edU1TeH69w+ye90pFTVnyV5UZIzk5y8ok9q8+Zk3boVDYVVsX59smHD\nalcBAMBOTqcHO5LrJHl5d98wyY+T3HvY/5okj+/ufZM8OckrVjLZ8KjKPye5bSadJPtV1T2G7at0\n9z7dfaMkb+judybZlOTQoRPl7HnTfSrJgVV16Uw6UjZmEnZkeD2+qnZLckSS+w/z7prkMVNz/LK7\nb9Xdb5uqcbckr01y1yS3TnLFldwb7NBmZ5Mjj1ztKgAAQKcHO5TTu3tu7YyTkuxdVXtkEiq8o6rm\nxl1yhfPtl2Rjd38/SarqLUkOSvKcJNeqqpcm+UCSY1Yw1/FJ/jrJcUk+291fr6o/qarLJ9mju79R\nVTcZ7uErwzlvTPIXmXRxJMlRC8x7veGcrw41vjnJ8v97fM2aZOPGFZQNq0AXEgAAOwihBzuSc6a2\nz02yeybdSD8e1v3YUrXQzu7+0RBQ3CGTUOJ+SR62zFyfziREuVWSE4Z9ZyR5QCZdIIteb8rPF9nf\ny5wHAADAVvB4Czu07v5JktOr6r5JUhM3WeHpJya5TVVdbljH44FJPlFVl0uyS3e/K8nfJbnZMP6n\nSfZcaKLu/mkm634clvNDjxOSPDHnhx5fzqQ75U+G9w9O8ollavxykmsO65ZkqBEAAIBtQOjBRcGh\nSR5eVZ9P8sUkd19k3GFVdcbcnyQXS/I3ST6e5PNJTu7u9ya5SpKNw9fQHjGMybD9quErdHdfYP7j\nk1yyu789vD8hybUyhB7d/cskD83kUZxTM1n741VL3dhwzoYkH6iqTyb51pKfBAAAACtW3Trr4aJm\n7dq1vWnTptUuAxY2t6aHdWcuevzdrR6fPQBskao6qbvXLjdOpwcAAAAwSkIPAAAAYJSEHgAAAMAo\nCT0AAACAURJ6AAAAAKMk9AAAAABGSegBAAAAjJLQAwAAABgloQcAAAAwSkIPAAAAYJSEHgAAAMAo\nCT0AAACAURJ6AAAAAKMk9AAAAABGSegBAAAAjJLQAwAAABilXVe7AABGaHY2WbdutatgS83OJjMz\nq10FAMA2o9MDAJiYmUnWr1/tKgAAthmdHgBsezMzycaNq10FAAA7OZ0eAAAAwCgJPQAAAIBREnoA\nAAAAoyT0AAAAAEZJ6AEAAACMktADAAAAGCWhBwAAADBKQg8AAABglIQeAAAAwCgJPQAAAIBREnoA\nAAAAoyT0AAAAAEZJ6AEAAACMktADAAAAGCWhBwAAADBKQg8AAABglIQeAAAAwCgJPVZBVV22qmaH\nP/9TVd+Zen+JRc45o6ous53quUJVfaaqPldVB07tP3qo6WtVddZUjTffHnVsL1V1varatMj+rqqn\nT+27clWdW1XP34rrHFJV+1/QegEAANg2dl3tAnZG3f2DJDNJUlXPSvKz7t7iX7K3odslObW7Hz69\ns7vvlkx+mU/yuO6+x5ZMWlW7dvdvFnu/0vO2s68muUeSfxze3z/JqVs51yFJzkjymZWecCHfKwAA\nwE5Fp8cOpqreV1UnVdUXq+oRi4x5yNCZMVtVr6iqXapq16p6U1WdWlVfqKonLHDeNavq41V1SlX9\nZ1VdtarWJnlukrst1WmywFy3qKpjh1o/WFV/POz/dFX9Q1Udm+QxVfW2qnp+VW1M8pyqunxVvX+o\n8/iquv5w3vOq6pVV9ZEkh8+71h8OdZ881H7HYf/1qurzVfWGqjqtqj4wV/9Q36lV9akkC36Og58k\n+XZV7TO8v0+Sdw5z/NHQ5XKx4f1lq+rrw+f95Kr60lDPG6tqTZKHJnnaXDdMVV2xqv69qj5bVSfO\ndYHMv9fh7/J6U/d70jAfAAAAF4BOjx3PQ7r7h1V1qSSbqupd3f2juYPDL+f3THJgd/+mql6T5AFJ\nvp7kct19o2HcQo/CvCLJ4d39lqrakORF3X2fqnp2kn26+4krKbCqdkvygiR3GWp9SJJnJXnsMOTS\n3X3QMPaWSa6Z5Lbd/duqem2S47r7LlV1pyRvSHKL4byZJOu6+5x5l/x5krt298+q6gpJjkvyoeHY\n9ZM8sLtPq6qjk9wtk9DiiOGzPLGqXrrMLb0tyQOq6g1JzkpyZpLLDPf22Uw6Yf4jyaHD2E7y10mu\n3t2/rqrLdPePh/PP6O6XDff+riT/2N2fraprJfn3JDeef69V9agkh2USmNw4yS+7e/OSFW/enKxb\nt8xtwSqZnU1mZla7CgAA0OmxA3pSVX0+yQlJrprk2vOOH5Jkv0wCkdkktxnGfC3Jmqp6cVXdIZNf\n3ue7eSa/tCfJvyW59VbWuE+SGyT52FDDk5Ncber42+aNf3t3/3bYvlWSNyVJd38wyTWHECVJ/n2B\nwCNJKsnzq+rUJB9Oco2pUGdzd582bJ+UZO+qumKSXbr7xGH/m5a5n/cluXOSBy5Q++GZdHAkk2Di\niO7uJJuTvKmqHpjkV4vM+6dJXjt8Ru9OctmpTprpez0yyb2GjpKHZRIEwUXXzEyyfv1qVwEAADo9\ndiTD2hkHJblFd59dVZ9Mstv8YUle391/t8D5N05yxyRPSHLvJBu2V6lJPtfdBy9y/OdLvK8l5p1/\n3pyHJrlUkpsO3S3/k/M/l+mQ5Nyc/zPdS1zndwyf9ZeSPCaTzpHp39Y+luQlVXXbTNZe+eqw/5BM\nAqd7Jnl6Vd1oes6qmrvPtfPX7BgOnXev3f3Tqjo+yV0yWV/k9/5uf8+aNcnGjSu9RQAAgJ2STo8d\ny15Jfjj8En7DTDo65vtIkvtV1eWS89aZuHpVXT5Jdfc7kjwzyc0WOPfTSe43bD8oybFbWecXMumo\n2Heo4RJVdYMVnntsJo+JpKr+LMk3uvuXy5yzV5L/HQKPP0tyhaUGd/f/JOmqmvv8Dl1BXf+c5P90\n90/mzdWZdGK8OUMHRlVdPMmVu/ujmTzmcuUkuyf5aZI9p877WCZBSobzlur3PzzJK5N8ort/uoJ6\nAQAAWIbQY8fygSSXGh5veUaSE+cP6O5Tk/x9ko9U1SlJjskkBLhakmOHRylem+T/LjD/45JsGM67\nf5InbU2R3X12kvtm0gHx+SQnZ+GAZiFPT3KboYa/S/LwZcYnyRuHcz6b5O5JTl/BOYcleX1VnZCF\nH/X5Hd39+e5+8yKH3xaXsYoAACAASURBVJJJmPGO4f3Fk7xtuIeTkvxDd/8ikzU71tf5X+v7mCQH\nD4udnpbJoyuLXf/4TB6T8WgLAADANlKT/yENLKaqHpTkNt39yO14jWtksjjrDXsF/1CuXbu2N23a\ntL3KAeDCNrc4tUcXAWBFquqk7l673DhresAShm/HWZfkDtvxGo/IpLPn8SsJPAAAAFgZoQcsobu3\n12Kw09c4PJM1PQAAANiGrOkBAAAAjJLQAwAAABgloQcAAAAwSkIPAAAAYJSEHgAAAMAoCT0AAACA\nURJ6AAAAAKMk9AAAAABGSegBAAAAjJLQAwAAABgloQcAAAAwSruudgEAACTrZl+UrFvtKgBgYv36\nZMOG1a7igtPpAQAAAJxndjY58sjVrmLb0OkBALAD2DjzxGTjxtUuAwCybt1qV7Dt6PQAAAAARkno\nAQAAAIyS0AMAAAAYJaEHAAAAMEpCDwAAAGCUhB4AAADAKAk9AAAAgFESegAAAACjJPQAAAAARkno\nAQAAAIyS0AMAAAAYJaEHAAAAMEpCDwAAAGCUhB4AAADAKAk9AAAAgFESegAAAACjJPQAAAAARkno\nAQAAAIyS0AMAAAAYJaEHAAAAMEpCDwAAAGCUhB47oap6elV9sapOqarZqrr5ate0papqY1WtXWD/\nXarqc1X1+ao6raoetY2ve3hV3WDY/tkiY55dVYfMr7OqPlhVlxn+PHZb1gUAAMDv23W1C+DCVVUH\nJLlLkpt19zlVdbkkl1jlsraJqrp4ktck2b+7z6iqSybZe1teo7sfsYIxz1hk/52GOvdO8tgkr9iW\ntQEAAPC7hB47nyslObO7z0mS7j5z7kBV7ZvkBUn2SHJmksO6+7tVtTHJiUkOTnKZJA/v7uOq6oZJ\n3pBJaLJLknt391er6kFJnjDsPzHJY7v73OkiquoZSe6aZPckn0ryqO7uJa61+3CtGyT50nDefHtm\n8jP9g+Hezkmyebje5ZO8KsnVh7FP7O7jq+pZw75rDa8v6u6XVNWlk7w9yVWTXCzJc7r7qKG+J3f3\npmHefx1q/VGSB3T396vqiCTv7+53zrvnbyZZm+R5Sa5dVbNJ/jPJFZO8s7vfO4x7S5KjuvvoBe5x\nYvPmZN26RQ/DTmf9+mTDhtWuAgCAHYzHW3Y+xyS5WlV9papeUVW3Sc7rknhpkvt0975JXp/kH6fO\n27W790/yxCTPHPY9OsmLu3smk1/mz6iq6ye5f5JbDvvPTXLoAnW8rLv36+59Mgkw7rLMtR6T5Bfd\nfeOhrn3nT9jdP0xydJJvVdVbq+rQqpr7GX9xkhd2935J7p3k8KlTr5fkDkn2T/LM4bP4syT/3d03\nGWr8jwXu4dJJTu7umyX5xFSty3lakq9390x3P2Wo5aFJUlV7JTkwyQdXOBcwO5sceeRqVwEAwA5I\np8dOprt/NnR03DqTDoWjquppSTYl2SfJf1ZVMulu+O7Uqe8eXk/K+Y+MnJDk6VV11STvHro8/jST\nQOKzwzy7J/neAqUcXFVPTXKpJH+U5ItJ3rfEtQ5K8pLhHk6pqlMWub9HVNWNkhyS5MlJbpfksOH9\nDYaakuQPqmrPYfsDQ1fIOVX1vSRXSHJqkudX1T9n0rVx3AKX+22So4btN0/VvUW6+xNV9fKq+uMk\n90ryru7+zZInrVmTbNy4NZeD8dH1BADAIoQeO6HhUZONSTZW1alJHpJJwPDF7j5gkdPOGV7PzfBz\n091HVtWJSe6c5MNV9YgkleSN3f03i12/qnbLZD2Ltd397eERk92WutZc6Su8v1OTnFpVb0pyeiah\nxy5JDujus+fVMn29867Z3V8ZwqE7Jfmnqjqmu5+93KVXUt8i3pRJR8wDkjzsAswDAADAwOMtO5mq\nWlNV15naNZPkW5msfXH5YaHTVNXFhzU7lprrWkm+0d0vyeSxkhsn+WiS+wxdC6mqP6qqa8w7dS7g\nOLOq9khynxWUfmyGx2Sqap/hWvPr2aOq1i1wb8nksZ7HTY2dWeberpzJ4zRvTvL8JDdbYNguU7Wv\nT/LJFdxHkvw0k/VHph2RyeM86e4vrnAeAAAAlqDTY+ezR5KXVtVlkvwmydeSbOjuX1XVfZK8ZFhX\nYtckL8rksZPF3D/Jg6rq10n+J8mzu/uHVfW3SY4Z1tP4dZK/yPnhQ7r7x1X12kweIflmks+uoO5X\nJnnD8FjLbJLPLDCmkjy1ql6d5OwkP8+kyyOZLKz68uH8XTMJUR69xPVulOT/VdVvh3t4zAJjfp7k\nhlV1UpKzMvk8ltXdP6iq46vqC0k+1N1P6e7/raovJfn3lcwBAADA8qr7gnTkA9tCVV0qkxDoZt19\n1nLj165d25s2bdr+hcFFwdyaHta54aLMzzEAO5CLwr+Wquqk7l673DiPt8Aqq6pDknw5yUtXEngA\nAACwMh5vgVXW3R9JcvXVrgMAAGBsdHoAAAAAoyT0AAAAAEZJ6AEAAACMktADAAAAGCWhBwAAADBK\nQg8AAABglIQeAAAAwCgJPQAAAIBREnoAAAAAoyT0AAAAAEZJ6AEAAACMktADAAAAGCWhBwAAADBK\nQg8AAABglHZd7QIA4AKbnU3Wrdu+11i/PtmwYfteAwCAbUqnBwAsZ3Y2OfLI1a4CAIAtpNMDgIu+\nmZlk48btN//27iIBAGC70OkBAAAAjJLQAwAAABgloQcAAAAwSkIPAAAAYJSEHgAAAMAoCT0AAACA\nURJ6AAAAAKMk9AAAAABGSegBAAAAjJLQAwAAABgloQcAAAAwSkIPAAAAYJSEHgAAAMAoCT0AAACA\nURJ6AAAAAKMk9AAAAABGSegBAAAAjJLQg1VTVV1Vb5p6v2tVfb+q3r+Nr3O9qpqtqs9V1bWr6lMr\nOOdni+w/oqrus8j+04frnFxVB2xhjc+qqidvyTkAAAAsTejBavp5kn2qavfh/e2SfGc7XOceSd7b\n3Tft7q9394Hb4RpJ8pTunknytCSvXulJVbXrdqoHAABgp+aXLVbbh5LcOck7kzwwyVuT3DpJqmr/\nJC9KsnuSs5M8tLs3V9VhSe6W5FJJrp3kPd391Kq6WJLXJVmbpJO8PsnmJE9Mcm5VHdTdB1fVz7p7\nj+EaT0lyvySXHOZ55nRxVVVJXprktklOT1IruKdjk/zJcP4jk2xIcokkX0vy4O7+RVUdkeSHSW6a\n5OQkP5265iOT3CvJvbr77AWvsHlzsm7dCkqBncDsbDIzs9pVAACwA9LpwWp7W5IHVNVuSW6c5MSp\nY19OclB33zTJM5I8d+rYTJL7J7lRkvtX1dWGfVfp7n26+0ZJ3tDdH0zyqiQv7O6Dpy9cVbdPcp0k\n+w/n7ltVB82r755J1gzXeWSSlXSJ3DXJqcP2u7t7v+6+SZIvJXn41LjrJjmku/96qqbHDeffY9HA\nA/hdMzPJ+vWrXQUAADsgnR6squ4+par2zqTL44PzDu+V5I1VdZ1MOjcuPnXso919VpJU1WlJrpHk\ni0muVVUvTfKBJMcsc/nbD38+N7zfI5MQ5NipMQcleWt3n5vkv6vqY0vM9/+q6m+TfD/nhxv7VNU/\nJLnMMP+Hp8a/Y5h3zoOTnJFJ4PHrJStfsybZuHHJIQAAADs7oQc7gqOTPD/JuiSXndr/nCQf7+57\nDsHIxqlj50xtn5tk1+7+UVXdJMkdkvxFJo+tPGyJ61aSf+ru5dbf6OVvIclkTY93ztt3RCYhxueH\nx3LWTR37+byxX8ik4+SqmTxKAwAAwAXg8RZ2BK9P8uzuPnXe/r1y/sKmhy03SVVdLsku3f2uJH+X\n5GbLnPLhJA+rqrn1Pa5SVX88b8yxmTx+c7GqulKSg+dPsow9k3y3qi6e5NBlxn4uyaOSHF1VV97C\n6wAAADCPTg9WXXefkeTFCxz6l0web/mrJEs9VjLnKkneUFVzYd7fLHPdY6rq+klOmKxXmp8leVCS\n700Ne08mi5iemuQrST6xgjqm/V0m65R8a5hjz2Vq+uTw1bUfqKrbdfeZW3g9AAAABtW90s59YEex\ndu3a3rRp02qXATuPuW9LspYO24ufMQB2IBeFfy1V1UndvXa5cR5vAQAAAEZJ6AEAAACMktADAAAA\nGCWhBwAAADBKQg8AAABglHxlLQCsxOzs+UuZXxDr1ycbNlzweQAAWJZODwC4sMzOJkceudpVAADs\nNHR6AMBKzMxc8C+r3xadIgAArJhODwAAAGCUhB4AAADAKAk9AAAAgFESegAAAACjJPQAAAAARkno\nAQAAAIyS0AMAAAAYJaEHAAAAMEpCDwAAAGCUhB4AAADAKAk9AAAAgFESegAAAACjJPQAAAAARkno\nAQAAAIyS0AMAAAAYJaEHAAAAMEpCDwAAAGCUhB4AAADAKAk9AAAAgFESegAAAACjJPQAAAAARkno\nAQAAAIyS0AMAAAAYJaEHAAAAMEpCDwAAAGCUhB4AAADAKAk9AAAAgFESegAAAACjtOtqFwA7sqo6\nN8mpU7ve1t3PW616AAAAWDmhByzt7O6eWe0iAAAA2HIeb4GtUFXfrKrnVtUJVbWpqm5WVR+uqq9X\n1aOHMeuq6hNV9faq+kpVPa+qDq2qz1TVqVV17WHcXavqxKr6XFV9pKqusLp3BwAAMA46PWBpu1fV\n7NT7f+ruo4btb3f3AVX1wiRHJLllkt2SfDHJq4YxN0ly/SQ/TPKNJId39/5V9ZdJHp/kiUk+meQW\n3d1V9YgkT03y10tWtXlzsm7dNrg9YEVmZ5MZTV8AABc1Qg9Y2lKPtxw9vJ6aZI/u/mmSn1bVL6vq\nMsOxz3b3d5Okqr6e5Jipcw4etq+a5KiqulKSSyQ5fVvfBHABzcwk69evdhUAAGwhoQdsvXOG199O\nbc+933XemPnjpse8NMkLuvvoqlqX5FnLXnnNmmTjxq2pGQAAYKdhTQ9YfXsl+c6w/ZDVLAQAAGBM\nhB6wtN2ranbqz/b4utpnJXlHVR2X5MztMD8AAMBOyeMtsITuvtgi+/ee2j4ik4VM5x/bOPyZ279u\navu8Y9393iTv3Rb1AgAAcD6dHgAAAMAoCT0AAACAURJ6AAAAAKMk9AAAAABGSegBAAAAjJLQAwAA\nABgloQcAAAAwSkIPAAAAYJSEHgAAAMAoCT0AAACAURJ6AAAAAKMk9AAAAABGSegBAAAAjJLQAwAA\nABgloQcAAAAwSkIPAAAAYJSEHgAAAMAoCT0AAACAURJ6AAAAAKMk9AAAAABGSegBAAAAjJLQAwAA\nABgloQcAAAAwSkIPAAAAYJSEHgAAAMAoCT0AAACAURJ6AAAAAKMk9AAAAABGSegBAAAAjJLQAwAA\nABgloQcAAAAwSkIPAAAAYJSEHgAAAMAoCT0AAACAURJ6AAAAAKMk9AAAAABGSegBAAAAjJLQg0VV\n1blVNVtVX6iqd1TVpRYZ98GquswC+59VVU/e/pWed73Dqupli+z//nAvp1XVI7dw3itX1Tu3tpaq\nenRV/fmWnA8AAMAFJ/RgKWd390x375PkV0kePX2wJnbp7jt1949Xp8QVO6q7Z5KsS/LcqrrC9MGq\n2nWxE7v7v7v7Plt74e5+VXf/29aeDwAAwNZZ9Bc9mOe4JDeuqr2TfCjJx5MckOQeVfWJJGu7+8yq\nenqSP0/y7STfT3JSklTVtZO8PMnlk/wiySO7+8vTF6iq/ZO8KMnuSc5O8tDu3lxVhyW5W5JLJbl2\nkvd091OHcx6a5G+SfDfJV5Kcs9RNdPf3qurrSa5RVY9JcuUkeyc5s6oenOR5mQQjl0zy8u5+9XDP\n7+/ufYZa1nb344brvz/J87t742K1VNWzkvysu59fVX+S5FXD53Bukvt299er6ilJ7jdc9z3d/cyl\n7iObNyfr1i05BC6S1q9PNmxY7SoAABgJoQfLGrog7pjkP4ZdazIJJB47HJ8bt2+SByS5aSY/Wydn\nCD2SvCbJo7v7q1V18ySvSHLbeZf6cpKDuvs3VXVIkucmufdwbGaY95wkm6vqpUl+k+Tvk+yb5KxM\ngpjPLXMv10pyrSRfG3btm+RW3X12VW1IclZ371dVl0xyfFUdk6RX8BldaYW1vCXJ87r7PVW1W5Jd\nqur2Sa6TZP8kleToqjqou49d7rowKrOzk1ehBwAA24jQg6XsXlXDbyE5LsnrMumM+FZ3f3qB8bfO\npEvhF0lSVUcPr3skOTDJO+YCkkw6GubbK8kbq+o6mQQNF5869tHuPmuY77Qk10hyuSQbu/v7w/6j\nklx3kXu5f1XdKpPQ5FHd/cOhlqO7++xhzO0z6WaZe5Rlr0zCiK8sMue0my9XS1XtmeQq3f2eJOnu\nXw77bz9cey4k2WO47uKhx5o1ycaNKygLLkJ0LwEAsI0JPVjK2cM6GOcZgoKfL3HOQl0RuyT58fy5\nFvCcJB/v7nsOj5RsnDo2/djKuTn/Z3fZLozBUXOPpMwzfS+V5PHd/eHpAUMtc36T310LZ7ep7eVq\nqSX2/1N3v3qZ8wEAANgCFjJlWzo2yT2ravehq+GuSdLdP0lyelXdNzlvAdSbLHD+Xkm+M2wftoLr\nnZhkXVVdtqounuS+F7D+Dyd5zDBXquq6VXXpeWO+mWSmqnapqqtl8kjKimoZPoczquoew/yXHL4R\n58NJHjZ0xKSqrlJVf3wB7wUAAGCnp9ODbaa7Tx4e65hN8q1MHomZc2iSV1bV32by2Mrbknx+3hT/\nksnjLX+V5GMruN53h0VCT8hk8dCTk1zsAtzC4ZksanpyTVpavp/kHnOXG16PT3J6klOTfGG45pbU\n8uAkr66qZyf5dSYLmR5TVddPcsLQSfOzJA9K8r0LcC8AAAA7vepe6dMBsHMaFmh9QXffZrVrmbN2\n7dretGnTapcB29bcmh5jXq9mZ7hHto6fDQB2IBeFfy1V1UndvXa5cR5vgSVU1dokb03y4tWuBQAA\ngC3j8RZYQndvyuLfCAOw5WZnfVMNv292NplZbr1vAGBL6fQAAFhtMzPJ+vWrXQUAjI5ODwC4MM3M\n7NgPyAIAjIhODwAAAGCUhB4AAADAKAk9AAAAgFESegAAAACjJPQAAAAARknoAQAAAIyS0AMAAAAY\nJaEHAAAAMEpCDwAAAGCUhB4AAADAKAk9AAAAgFESegAAAACjtOtqFwAA55mdTdat237zr1+fbNiw\n/eYHAGCHotMDgJ3D7Gxy5JGrXQUAABcinR4A7DhmZpKNG7fP3NuzgwQAgB2STg8AAABglIQeAAAA\nwCgJPQAAAIBREnoAAAAAoyT0AAAAAEZJ6AEAAACMktADAAAAGCWhBwAAADBKQg8AAABglIQeAAAA\nwCgJPQAAAIBREnoAAAAAoyT0AAAAAEZJ6AEAAACMktADAAAAGCWhBwAAADBKQg8AAABglIQebJGq\n6qr616n3T66qZ23hHOuq6sCp90dU1X22YZnbVFXddLjvO0zt27uqvrDI+G9W1eUuvAoBAABYiNCD\nLXVOkntt7S/1VbVrknVJDlxm6IWuqi62yKEHJvnk8AoAAMBFxK6rXQAXOb9J8pokT0ry9OkDVXWN\nJK9Pcvkk30/y0O7+r6o6IskPk9x0eL1lknOr6kFJHj+cflBV/VWSKyZ5ane/s6r2SPLeJH+Y5OJJ\n/ra731tVeyf5UCZBxIFJvpPk7t19dlXtl+R1SX4+HL9jd+8zBBrPyyRwuWSSl3f3q6tqXZJnJvlu\nkpkkN5h3T5XkPklul+S4qtqtu385HN61qt443NdXkvx5d/9iOPaUqjp42F7f3V+rqssneVWSqw/7\nn5jkhCSbkxzY3d+vql2GuW7R3Wcu+reweXOybt2ih+EiaXY2mZlZ7SoAABgRnR5sjZcnObSq9pq3\n/2VJ/q27b5zkLUleMnXsukkO6e57Z/KL/wu7e6a7jxuOXynJrZLcJZNwIkl+meSe3X2zJAcn+dch\nhEiS62QSXNwwyY+T3HvY/4Ykj+7uA5KcO3X9hyc5q7v3S7JfkkdW1TWHY/sneXp3/07gMbhlktO7\n++tJNia509SxNUleM9zvT5I8durYT7p7/+EzedGw78XDfe831Ht4d/82yZuTHDqMOSTJ55cMPGCs\nZmaS9etXuwoAAEZEpwdbrLt/UlX/luQJSc6eOnRAknsN229K8i9Tx97R3dMhxHz/PgQAp1XVFYZ9\nleS5VXVQkt8muUqSuWOnd/fssH1Skr2r6jJJ9uzuTw37j8wkREmS2ye58dTaIXtlEpz8Kslnuvv0\nRep6YJK3DdtvS/LgJO8e3n+7u48ftt+cyefx/OH9W6deXzhsH5LkBufnNvmDqtozk+6Y92YSjjws\nk+BmaWvWJBs3LjsMAABgZyb0YGu9KMnJWfoX9J7a/vky850ztT2XChyayaMy+3b3r6vqm0l2W2D8\nuUl2nzpvIZXk8d394d/ZOXm8ZcHahkdi7p3kblX19GGOyw5BRfK79zf//ULbuyQ5oLung6Ik+WlV\n/W9V3TbJzXN+1wcAAAAXgMdb2Crd/cMkb8/ksZE5n0rygGH70EzW1FjIT5PsucixaXsl+d4QeByc\n5BrL1PSjTAKEWwy7HjB1+MNJHlNVF0+SqrpuVV16mevPPWpyte7eu7uvkeRdSe4xHL96VR0wbM8t\ndjrn/lOvJwzbxyR53NyAqppevODwTLpF3r5MRwwAAAArJPTggvjXJNPf4vKEJA+tqlMyeQzkLxc5\n731J7llVs1V16yXmf0uStVW1KZMQ5csrqOnhSV5TVSdk0plx1rD/8CSnJTl5+KrZV2f5TqcHJnnP\nvH3vSjK36MCXkjxkuN8/SvLKqXGXrKoTM/kMnjTse8JwP6dU1WlJHj01/ugke2Qlj7YAAACwItU9\nv0MfLrqqao/u/tmw/bQkV+ruxcKXHUZVrc1kkdOlQqDzrF27tjdt2rSdq4KRmfvGo9VcD2dHqAEA\nYBkXhf9kqaqTunvtcuOs6cHY3Lmq/iaTn+1vJTlsdctZ3hDOPCbW8gAAANimhB6MSncfleSo1a5j\nS3T383L+1/QCAACwjVjTAwAAABgloQcAAAAwSkIPAAAAYJSs6QHAzmN29vzlyFdq/fpkw4btUg4A\nANuXTg8AWMzsbHLkkatdBQAAW0mnBwA7j5mZLfvC+S3tCgEAYIei0wMAAAAYJaEHAAAAMEpCDwAA\nAGCUhB4AAADAKAk9AAAAgFESegAAAACjJPQAAAAARknoAQAAAIyS0AMAAAAYJaEHAAAAMEpCDwAA\nAGCUhB4AAADAKAk9AAAAgFESegAAAACjJPQAAAAARknoAQAAAIyS0AMAAAAYJaEHAAAAMEpCDwAA\nAGCUhB4AAADAKAk9AAAAgFESegAAAACjJPQAAAAARknoAQAAAIyS0AMAAAAYJaEHAAAAMEpCDwAA\nAGCUhB4AAADAKAk9uMiqqp9dgHO/WVWX24LxT6+qL1bVKVU1W1U339prAwAAcOHYdbULgB1dVR2Q\n5C5Jbtbd5wxhySVWuSwAAACWodODUamqu1bViVX1uar6SFVdYdh/2ao6Ztj/6iQ17H9OVf3l1Pn/\nWFVPmDftlZKc2d3nJEl3n9nd/z2MP69jpKrWVtXGYfs2Q0fI7HDNPatqj6r6aFWdXFWnVtXdh7F7\nV9WXquq1QzfJMVW1+/b9pAAAAMZPpwdj88kkt+jurqpHJHlqkr9O8swkn+zuZ1fVnZNsGMa/Lsm7\nk7y4qnZJ8oAk+8+b85gkz6iqryT5SJKjuvsTy9Tx5CR/0d3HV9UeSX457L9nd/9kCEo+XVVHD/uv\nk+SB3f3Iqnp7knsnefOis2/enKxbt0wJwO+YnU1mZla7CgAALkRCD8bmqkmOqqorZfIIyunD/oOS\n3CtJuvsDVfWjYfubVfWDqrppkisk+Vx3/2B6wu7+WVXtm+TWSQ4e5n9adx+xRB3HJ3lBVb0lybu7\n+4yquniS51bVQUl+m+QqwzWT5PTunh22T0qy99Z/BMCCZmaS9etXuwoAAC5EQg/G5qVJXtDdR1fV\nuiTPmjrWi5xzeJLDklwxyesXGtDd5ybZmGRjVZ2a5CFJjkjym5z/mNhuU+OfV1UfSHKnTDo6Dkly\niySXT7Jvd/+6qr45dc45U5c7N8nSj7esWZNs3LjkEAAAgJ2dNT0Ym72SfGfYfsjU/mOTHJokVXXH\nJH84dew9Sf4syX5JPjx/wqpaU1XXmdo1k+Rbw/Y3k+w7bN976pxrd/ep3f3PSTYlud5Q2/eGwOPg\nJNfYmhsEAABgZXR6cFF2qao6Y+r9CzLp7HhHVX0nyaeTXHM49vdJ3lpVJyf5RJL/mjupu39VVR9P\n8uOho2O+PZK8tKouk0lnx9dy/pogf5/kdVX1f5OcOHXOE4dg49wkpyX5UJI9k7yvqjYlmU3y5a2+\ncwAAAJYl9OAiq7sX61R67wJjf5Dk9lO7njS3MSxgeosk913kOiclOXCRY8clue4C+x+/wPBzkhyw\nSM37TJ37/EXGAKthdnbbLRxsMVUAgAuVx1vYqVXVDTLp3Phod391tesBRs5iqgAAFyqdHuzUuvu0\nJNda7TqAHdjMjIWDAQAuonR6AAAAAKMk9AAAAABGSegBAAAAjJLQAwAAABgloQcAAAAwSkIPAAAA\nYJSEHgAAAMAoCT0AAACAURJ6AAAAAKMk9AAAAABGSegBAAAAjJLQAwAAABgloQcAAAAwSkIPAAAA\nYJSEHgAAAMAoCT0AAACAURJ6AAAAAKMk9AAAAABGSegBAAAAjJLQAwAAABgloQcAAAAwSkIPAAAA\nYJSEHgAAAMAoCT0AAACAURJ6AAAAAKMk9AAAAABGSegBAAAAjJLQAwAAABgloQcAAAAwSkIPAAAA\nYJSEHgAAAMAoCT0AAACAURJ6AAAAAKMk9AAAAABGSejBRV5VnVtVs1X1hap6R1VdarVrmlNVh1fV\nDVa7DgAAgJ2R0IMxOLu7Z7p7nyS/SvLolZ5YVf+/vXsN06us7z3+/clZQCyIgK0apRY8AAMZtCho\nQKvWEygoErQGKSCGmgAAIABJREFUFbYnKLtFt1Zr8dBW1GpFUYtujVpAFE+IJyowoCiHIEMC0ehu\nESsaCigoiojhv1+se+RhnFMmAwMr38915cqate7Df60JL54f97qfDe68sqCqXlpVK+/MOSRJkiRJ\nEzP0UN98A/hTgCQvSHJRWwXyb2MBR5Kbkrw5yYXAXknelmRlkuVJ3tnaLE1y0NigSW5qf2+R5Kwk\n30myIsn+7fzmSb6U5LK24uTgdn4kyXA7PqT1uTzJcYNjJ/nH1veCJNvdNY9KkiRJkvptw/kuQJor\nSTYE/hL4apKHAwcDj6uqW5O8HzgU+DiwOXB5Vb0xydbA/wV2rqpKct9ppvkN8Oyq+kWS+wEXJDkd\neCrwk6p6eqtlq3G1PQA4DlgI/Bw4M8kBVfX5Vs8FVfX6JG8HDgfeOmUVq1bBokUzfDKSZm10FIaG\n5rsKSZIkzZIrPdQHmyUZBZYBP6ILMZ5IFzBc3K49EXhoa78G+Ew7/gVdkPHhJM8Bfj3NXAH+Kcly\n4OvAHwPbASuAJyU5Lsk+VXXjuH57AiNVdW1V/Q44CXh8u/Zb4Ix2fAmwYG1uXtKdaGgIFi+e7yok\nSZI0S670UB/cXFV3+F+xSQJ8rKpeN0H731TVGoCq+l2SR9OFIs8HXgXsB/yOFgq2sTZufQ8FtgUW\nthUkPwQ2rarvJ1kIPA345yRnVtWbB0uaov5bq6ra8Rpm8t/lTjvByMi0zSRJkiRpfeZKD/XVWcBB\nSe4PkGTrJA8e3yjJFsBWVfVl4GhgLDz5Id1KEYD9gY3a8VbA/7TAY1/gwW2cBwC/rqp/B94J7DFu\nqguBJyS5X9tb5BDg3Dm5U0mSJEnShFzpoV6qqpVJ3kC3d8a9gFuBVwJXjWu6JfCFJJvSrcb43+38\nh9r5i+gClF+18ycBX0yyDBgFvtfO7wK8I8ltba6Xj6vnp0leB5zT5vlyVX1hzm5YkiRJkvQHcvuq\nekn3FMPDw7Vs2bL5LkOSJElSD419Z8Ld+Y36JJdU1fB07Xy9RZIkSZIk9ZKhhyRJkiRJ6iVDD0mS\nJEmS1EuGHpIkSZIkqZcMPSRJkiRJUi8ZekiSJEmSpF4y9JAkSZIkSb1k6CFJkiRJknrJ0EOSJEmS\nJPWSoYckSZIkSeolQw9JkiRJktRLhh6SJEmSJKmXDD0kSZIkSVIvGXpIkiRJkqReMvSQJEmSJEm9\nZOghSZIkSZJ6ydBDkiRJkiT1kqGHJEmSJEnqJUMPSZIkSZLUS4YekiRJkiSplww9JEmSJElSLxl6\nSJIkSZKkXjL0kCRJkiRJvWToIUmSJEmSesnQQ5IkSZIk9ZKhhyRJkiRJ6iVDD0mSJEmS1EuGHpIk\nSZIkqZcMPSRJkiRJUi8ZekiSJEmSpF4y9JAkSZIkSb1k6CFJkiRJknrJ0EOSJEmSJPWSoYckSZIk\nSeolQw9JkiRJktRLhh6SJEmSJKmXDD0kSZIkSVIvGXqspSTbJBltf1Ynubod35Bk5TqMuyTJtW2s\n7yX53zPosyjJY2c752wl2TbJhUkuTbLPuGvPaOcvS7Iyyf9q55cmOWgd5/1hkvvNot+0c0/UJslN\n0/RZkOTyta1HkiRJknTX2HC+C7inqarrgSGAJMcCN1XVO5MsAM5Yx+FPrapXJdkGWJXktKr67yna\nLwJuAr410wmSbFBVa9axzicC36uqF40beyPgRODRVfXjJJsAC9ZxLpIEyLqOI0mSJElavxh6zK0N\nknwIeCxwNbB/Vd2cZEfgBGBb4NfA4VX1vckGqarrk/w/YAfgv5NsC3wQeFBrcnQb/2XAmiQvAI4E\nXgKcUVWnQbdSoaq2SLII+Afgp8BQkqcBXwG+Ob7WwTqSPBj4SKv7WuAwYGvg7cBmSUaBvQb6bUn3\nb+r6dh+3AKsGhnx8kr8BtgdeM1Dnq4HnAZsAn6uqf2gh0leAc4C9gAPG1fY3wIvbjx+uqn9t5/8K\nOAYoYHlVvXBcv7cADwReXFW3TfgLGKeFLm8H/rKN+9aqOnVcmyWtxg2ARwH/AmwMvBC4BXhaVf1s\nsn8LSZ5L9ztaA9xYVY+fqqZV169i0dJFMyl/zi3eZTFHLDxiXuaWJEmSpLXh6y1z62HACVX1SOAG\n4MB2/kTgyKpaSPeB/P1TDZLkQcCmwPJ26j3Au6tqzzbmh6vqh3RByLuraqiqvjFNbY8GXl9Vj5im\n1kHvAz5eVbsCJwHHV9Uo8Ea6VSlDg0FJVf0MOB24KskpSQ5NMvhvbAdgb+AZwNvavT651fJouhU0\nC5OMfeDfqc2/e1VdNfB8FtIFMI8B/hw4PMnuSR4JvB7Yr6p2A/563HN9O3B/4LBJAo93DLy6NDpw\n/jmttt2AJ7V2O0zQ/1HA4nYv/wj8uqp2B74N/FVrM9m/hTcCT2l1P2uCse8WRlePcvKKk+e7DEmS\nJEmaEVd6zK0rWygAcAmwIMkWdKspPt0tGAC6FQ0TOTjJvnQf9g+vqt+0808CHjHQ/z5JtlzL2i6q\nqiunqnWCPnvRfeAH+ATdaocpVdVLk+zSaj4G+AtgSbv8+RY2rEyyXTv35Pbn0vbzFnQhyI+Aq6rq\nggmm2ZtuRcivAJJ8FtiHbhXGaVV1XavlZwN9/h64sKqmWqLw6rHVJ23csT099gZOaa8FXZPkXGBP\nbg+lxpxTVb8EfpnkRuCL7fwKYNdp/i2cDyxN8ings1PUCMBO2+zEyJKR6ZrNuflaXSJJkiRJs2Ho\nMbduGTheA2xGt5rmhqoamkH/sT099gK+lOQrVbW6jTH4GgkAAx+cx/yutR17JWPjgWu/mkGt06kZ\ntKGqVgArknwCuJLbQ4/BOTPw9z9X1b8NjtFebxlf8/i+E52frMaL6VaRbD0uDJmJme4nMnh/tw38\nfBvdf2uT/luoqpcleQzwdGA0yVDbP0aSJEmSNEu+3nInq6pfAFe2PRtIZ7dp+nybbmXF2OsZZwKv\nGrueZOxD8y/p9tEY80NgYTveH9hoHcv/FvD8dnwo3R4gk0oytn/ImCHgqkmaj/ka8OK2CoIkf5zk\n/tP0OQ84IMm9k2wOPBv4BnAW8Ly2ESxJth7o81W6V2q+NItVMufRrcLZoO2v8njgorUcY8p/C0l2\nrKoLq+qNwHV0+45IkiRJktaBocdd41DgJUkuA66gCySmcxxwWPuAfhQwnGR5+1rcl7U2XwSe3fag\n2Af4EPCEJBfR7Xcx2UqJmTqq1bCcbkPOv56mfYDXJFnV9sR4E7ev8phQVZ0JnAx8O8kK4DTuGORM\n1Oc7wFK64OFCuj1OLq2qK+j20ji3Pet3jev3abpndHqSmaxsGfM5uldZLgPOptuEdfVa9B802b+F\ndyRZ0b4C97w2lyRJkiRpHaRqRm8sSLobGR4ermXLlt3l847t6TEf+4lIkiRJumssWtT9PTIyn1VM\nLcklVTU8XTtXekiSJEmSpF4y9JAkSZIkSb1k6CFJkiRJknrJ0EOSJEmSJPWSoYckSZIkSeolQw9J\nkiRJktRLhh6SJEmSJKmXDD0kSZIkSVIvGXpIkiRJkqReMvSQJEmSJEm9ZOghSZIkSZJ6ydBDkiRJ\nkiT1kqGHJEmSJEnqJUMPSZIkSZLUS4YekiRJkiSplww9JEmSJElSL2043wVIumcZXT3KoqWL5ruM\naS3eZTFHLDxivsuQJEmSNI9c6SGpd0ZXj3LyipPnuwxJkiRJ88yVHpLWytD2Q4wsGZnvMqZ0T1iJ\nIkmSJOnO50oPSZIkSZLUS4YekiRJkiSplww9JEmSJElSLxl6SJIkSZKkXjL0kCRJkiRJvWToIUmS\nJEmSesnQQ5IkSZIk9ZKhhyRJkiRJ6iVDD0mSJEmS1EuGHpIkSZIkqZcMPSRJkiRJUi8ZekiSJEmS\npF4y9JAkSZIkSb1k6CFJkiRJknrJ0EOSJEmSJPWSoYckSZIkSeolQw9JkiRJktRLvQs9kmyTZLT9\nWZ3k6nZ8Q5KVczD+F5J8e5o2N63rPBOMeXSSe8/1uLOR5LlJvpvknHHn75Xk+CSXJ1mR5OIkD2nX\n1umZJFmU5IxZ9p127vFtkixJ8r5p+hyb5JjZ1CRJkiRJuvP1LvSoquuraqiqhoAPAu9ux0PAbesy\ndpL7AnsA9x37MH8XOhpYq9AjyYZ3Ui0vAV5RVfuOO38w8ABg16raBXg2cMO6TnYn3ockSZIkqcfW\ntw+TGyT5EPBY4Gpg/6q6OcmOwAnAtsCvgcOr6nsT9D8Q+CJwDfB84J8BWgByMt3z/OpY4ySnAh+r\nqi+3n5e2/p8H3gYsAjYBTqiqf0uyCDgWuA54FHAJ8ALgSLow4Zwk11XVvkluqqot2rgHAc+oqiVt\njp8BuwPfSfJG4L3ALq2+Y6vqC0keCXwU2Jgu/Dqwqn4weLNJDgH+Dgjwpar6P228vYGHJDm9ql49\n0GUH4KdVdRtAVf143Hj/CDwDuLk9+2uSbEsXTj2oNTu6qs5Pcmy75wXteZw4MM7WwEeAh9L9vo6o\nquVJtmj3OgwU8Kaq+sxAv/u15//WqvoSM5TkwW2+bYFrgcOq6kfj2owAlwILW7u/Al5H99xPrao3\ntHYvAI6ie+4XAq9oQ/zfgbo/UlXvnqqmVdevYtHSRTO9hTkzunqUoe2H7vJ5JUmSJGk2erfSYxoP\nowsYHkm3AuHAdv5E4MiqWggcA7x/kv6HAKe0P4cMnH8P8IGq2hNYPXD+k3SrH0iyMfBE4Mt0KyVu\nbO33BA4fWDmyO92qjkfQfah/XFUdD/wE2HeC1RUT+TPgSVX1t8DrgbPbXPsC70iyOfAy4D1tFcww\nMD6geABwHLAf3SqZPZMcUFVvBpYBh44LPAA+BTyzvU70L0l2H7i2OXBBVe0GnAccPvDs3t3qOxD4\n8ECfhXThyOJx87wJuLSqdqULZT7ezv893XPdpV07e+B+tgO+BLxxksBjs4HXokaBNw9cex/w8Tbm\nScDxE/QH+G1VPZ4uxPkC8Eq68GpJe+3q4XT/Hh7Xnvsa4FC65/vHVfWotkLmo5OMP++Gth9i8S7j\nfx2SJEmSdPe0vq30uLKqRtvxJcCCtjrgscCnk4y122R8x/ah+U+Bb1ZVJfldkkdV1eXA47g9QPkE\nXVgA8BXg+CSbAE8FzmsrS54M7NpWaABsRRfI/Ba4aGyFRPvwvQD45lre56erak07fjLwrIG9Jzal\nW1XxbeD1Sf4E+Oz4VR50YcxIVV3bajkJeDzdKpUJVdWPk+xEF5TsB5yV5LlVdVa7t7E9OS4B/qId\nPwl4xMCzv0+SLdvx6VV18wRT7U173lV1dgsUtmpjPX+gnp+3w42As4BXVtW5k5R/cwsiaPe7hC4M\nAtgLeE47/gTw9knGOL39vQK4oqp+2sb6L+CBre6FwMXtfjcD/odu9clDk7yXLpg5c5Lxf2+nbXZi\nZMnIdM0kSZIkab22voUetwwcr6H70Hkv4IbBD7yTOBj4I+DK9oH1PnQfsN/Qrtf4DlX1m/baw1Na\n/1PapdCtLPnaYPv2esv4Gif7HQ3Ot+m4a78aHJbu1ZVV49p8N8mFwNOBryV5aVWdPa7fWquqW+jC\nnq8kuQY4gC5wuLWqxmoevK97AXuNDzfaMx68jztcnmjqdv4Pfg/A7+iClqcAk4Uea2OiOeD2391t\n3PH3eBvd/YbudafXje+YZLdW3yuB5wEvnoM6JUmSJGm9tr693vIHquoXdEHGcwHS2W2CpocAT62q\nBVW1gO7/2I+tKjh/4PjQcf0+CRwG7AOMhRxfA16eZKM255+1V06m8ktgy4Gfr0ny8CT3otswdDJf\nA45MSxHGXjlJ8lDgv9qrM6cDu47rdyHwhCT3S7JBu/8pA4Mke7TXYmh17QpcNc19nQm8amCMmWwY\ncR7tObeg6Lr2exw/1h+1w6ILEXZO8toZjD/et7jj73dtV96MOQs4KMn9W31bJ3lw22vkXm3/kb+n\n2yxXkiRJkrSO1vvQozkUeEmSy4ArgP0HLyZZQPdKyAVj56rqSuAXSR4D/DXwyiQX072qMuhMutdC\nvl5Vv23nPgyspNto9HLg35h+1c2JdKsnxr4m9rV0r4ucDfx0in5voXu9Y3mb6y3t/MHA5e0Vmp25\nfV+Msfv7Kd1GnOcAlwHfqaovTFPj/YEvtnmW062wmPJrX+k29RxOsjzdVwq/bJr20G32OpxkOd2G\nsC9q598K/FH7ytzL6PYwGbufNXTBxb5JXsHaOQo4rM33Qrrf91qrqpV0K4PObGP9B93mr38MjLTf\nxVK65y5JkiRJWke5/Y0DSfcUw8PDtWzZsvku425r7Jtt3PdEkiRJWnuLFnV/j4zMZxVTS3JJVQ1P\n186VHpIkSZIkqZcMPSRJkiRJUi8ZekiSJEmSpF4y9JAkSZIkSb1k6CFJkiRJknppuq9JlaR7pNHV\no7//Fpc72+JdFnPEwiPukrkkSZIkzZwrPSRpHYyuHuXkFSfPdxmSJEmSJuBKD0m9NLT9ECNLRu70\nee6q1SSSJEmS1p4rPSRJkiRJUi8ZekiSJEmSpF4y9JAkSZIkSb1k6CFJkiRJknrJ0EOSJEmSJPWS\noYckSZIkSeolQw9JkiRJktRLhh6SJEmSJKmXDD0kSZIkSVIvGXpIkiRJkqReMvSQJEmSJEm9ZOgh\nSZIkSZJ6ydBDkiRJkiT1kqGHJEmSJEnqJUMPSZIkSZLUS4YekiRJkiSplww9JEmSJElSLxl6SJIk\nSZKkXjL0kCRJkiRJvWToIUmSJEmSesnQQ5IkSZIk9ZKhhyRJkiRJ6iVDD0mSJEmS1EuGHpIkSZIk\nqZcMPSRJkiRJUi8ZekiSJEmSpF4y9JAkSZIkSb1k6CFJkiRJknrJ0EMAJNkmyWj7szrJ1e34hiQr\n12Hc7ZKckeSyJCuTfLmdf0CS0+buDiace5MkX2/3cfC4a0uSPGDg5x8mud8s51mQ5OaB5zeaZON1\nrV+SJEmStG42nO8CdPdQVdcDQwBJjgVuqqp3JlkAnLEOQ78Z+I+qek8be9c230+Ag9Zh3JnYHdio\nqoYmuLYEuBz4yRzN9Z+TzDMrSQKkqm6bqzElSZIkaX3jSg/NxAZJPpTkiiRnJtkMIMmOSb6a5JIk\n30iy8wR9dwB+PPZDVS1vfRckubwd3zvJp5IsT3JqkguTDLdrNyX5x7ZS5IIk242fIMnWST7f+l+Q\nZNck9wf+HRhqKy92HGh/EDAMnNSubdYuHZnkO0lWjN1Lks2TfCTJxUkuTbL/TB/aRHW188cmOWag\n3eXteSxI8t0k7we+AzxwpnNJkiRJkv6QKz00Ew8DDqmqw5N8CjiQLlA4EXhZVf0gyWOA9wP7jet7\nAnBqklcBXwc+2lZ5DHoF8POq2jXJo4DRgWubAxdU1euTvB04HHjruP5vAi6tqgOS7Ad8vKqGkrwU\nOKaqnjHYuKpOa/UcU1XLALqFFVxXVXskeQVwDPBS4PXA2VX14iT3BS5K8vWq+tW4GnZMMlb3+VX1\nyonqoq2mmcJOwGFV9YqpGq26fhWLli6aZqj11+jqUYa2n7OFN5IkSZLuoQw9NBNXVtXYB/pLgAVJ\ntgAeC3y6BQYAm4zvWFVfS/JQ4KnAXwKXtmBj0N7Ae1r7y5MsH7j2W25/veYS4C8mqG9vuiCGqjq7\n7U+y1VreI8BnB+Z5Tjt+MvCsgZUZmwIPAr47ru9Er7fMpq6rquqCWdSuAUPbD7F4l8XzXYYkSZKk\neWbooZm4ZeB4DbAZ3atRN8xkH4uq+hlwMnBykjOAx9MFC2MyYcfOrVVVA3NP9G92ov41wbnpjN3n\n4DwBDqyqVbMYb7K6fscdXy3bdOB4/AqSCe20zU6MLBmZRUmSJEmStP5wTw/NSlX9ArgyyXOh23gz\nyW7j2yXZL8m92/GWwI7Aj8Y1+ybwvNbmEcAua1nOecChrf8iutdUfjFNn18CW85g7K/R7fWRNv7u\nc1DXD4E92vk9gIesxZiSJEmSpBky9NC6OBR4SZLLgCuAiTb5XAgsa6+sfBv4cFVdPK7N+4FtW5v/\nAywHblyLOo4Fhlv/twEvmkGfpcAHx21kOpG3ABsBy9vGq2+Zg7o+A2zd9gB5OfD9tRhTkiRJkjRD\nuf3NAWl+JNmA7qtlf9O+ZeUs4M+q6rfzXNrd1vDwcC1btmy+yxCwaOmiOds4dfEuizli4RFzUJUk\nSZI0e4sWdX+PjMxnFVNLcklVDU/Xzj09dHdwb+CcJBvR7YPxcgMPrW9GV3d7BRt6SJIkSXPH0EPz\nrqp+CUyb0El3V0PbD63zxrJ+BbEkSZI099zTQ5IkSZIk9ZKhhyRJkiRJ6iVDD0mSJEmS1EuGHpIk\nSZIkqZcMPSRJkiRJUi8ZekiSJEmSpF4y9JAkSZIkSb1k6CFJkiRJknrJ0EOSJEmSJPWSoYckSZIk\nSeolQw9JkiRJktRLhh6SJEmSJKmXDD0kSZIkSVIvGXpIkiRJkqReMvSQJEmSJEm9ZOghSZIkSZJ6\nydBDkiRJkiT1kqGHJEmSJEnqJUMPSZIkSZLUS4YekiRJkiSplww9JEmSJElSLxl6SJIkSZKkXjL0\nkCRJkiRJvWToIUmSJEmSesnQQ5IkSZIk9ZKhhyRJkiRJ6iVDD0mSJEmS1EuGHpIkSZIkqZcMPSRJ\nkiRJUi8ZekiSJEmSpF4y9JAkSZIkSb1k6CFJkiRJknrJ0EOSJEmSJPWSoYckSZIkSeolQw9JkiRJ\nktRLhh5aK0m2STLa/qxOcnU7viHJylmOuSDJj5Pca9z50SSPnqLfkiTva8fHJjlmNvPPsMZtk1yY\n5NIk+4y7NpJk1cBzOejOqkOSJEmSNHMbzncBumepquuBIeiCBuCmqnpnkgXAGbMc84dJ/hvYBzi3\njb0zsGVVXTQHZc+FJwLfq6oXTXL90KpaNleTJdmgqtbM1XiSJEmStD4y9NBc2iDJh4DHAlcD+1fV\nzUl2BE4AtgV+DRxeVd8b1/cU4Pm00KMdnwKQ5JnAG4CNgevpAoZrJitiovlaPcuBP6uqW5Pcp/38\nsKq6daDvg4GPtL7XAocBWwNvBzZLMgrsVVU3T/cwkrwAOKrVfSHwiqpak+QDwJ7AZsBpVfUPrf0P\n29xPBt4HfHKysVddv4pFSxdNV4LuAqOrRxnafmi+y5AkSZI0AV9v0Vx6GHBCVT0SuAE4sJ0/ETiy\nqhYCxwDvn6Dvp4ADkowFcQdz+4f+bwJ/XlW7t3OvmaaOP5ivqn4JjABPb22eD3xmMPBo3gd8vKp2\nBU4Cjq+qUeCNwKlVNTRJ4HHSwOst2yR5eLuHx1XVELAGOLS1fX1VDQO7Ak9IsuvAOL+pqr2ratLA\nQ3cvQ9sPsXiXxfNdhiRJkqQJuNJDc+nKFhAAXAIsSLIF3cqPTycZa7fJ+I5VtTrJFcATk1wD3FpV\nl7fLfwKcmmQHulUTV05WwDTzfZguMPk83QqOwycYYi/gOe34E3QrPGbiDq+3JDkEWAhc3OrYDPif\ndvl5SY6g++9vB+ARdKtOAE6dyWQ7bbMTI0tGZliaJEmSJK2fDD00l24ZOF5D90H/XsANbbXDdMZe\ncbmmHY95L/Cuqjo9ySLg2CnGmHS+qjq/bZr6BGCDgVBlKjWDNhMJ8LGqet0dTiYPoVt9smdV/TzJ\nUmDTgSa/muV86oHR1aNz9trS4l0Wc8TCI+ZkLEmSJOmeytdbdKeqql8AVyZ5LkA6u03S/DPA07jj\nqy0AW9HtyQEw2UaiM53v43SBykcnGeJbdMELdK+jfHOq+aZwFnBQkvu3OrZu+4Xchy7YuDHJdsBf\nznJ8aVKjq0c5ecXJ812GJEmSNO9c6aG7wqHAB5K8AdiILtC4bHyjqrohyQXAdlU1+ArLsXSvq1wN\nXAA8ZB3mOwl4K3dcSTLoKOAjSV7N7RuZrrWqWtnmP7N9Fe+twCur6oIklwJXAP8FnD+b8dVPQ9sP\nzclrS25yK0mSJHVSNdvV+9I9T5KD6L5V5oXzXcu6GB4ermXL5uwbcnU3MBZUzGXo4b4vkiRJmo1F\ni7q/R0bms4qpJbmkfUHElFzpofVGkvfSvU7ytPmuRZIkSZJ05zP00Hqjqo6c7xokSZIkSXcdNzKV\nJEmSJEm9ZOghSZIkSZJ6ydBDkiRJkiT1kqGHJEmSJEnqJUMPSZIkSZLUS4YekiRJkiSplww9JEmS\nJElSLxl6SJIkSZKkXjL0kCRJkiRJvWToIUmSJEmSesnQQ5IkSZIk9ZKhhyRJkiRJ6iVDD0mSJEmS\n1EuGHpIkSZIkqZcMPSRJkiRJUi8ZekiSJEmSpF4y9JAkSZIkSb1k6CFJkiRJknrJ0EOSJEmSJPWS\noYckSZIkSeolQw9JkiRJktRLhh6SJEmSJKmXDD0kSZIkSVIvGXpIkiRJkqReMvSQJEmSJEm9ZOgh\nSZIkSZJ6ydBDkiRJkiT1kqGHJEmSJEnqJUMPSZIkSZLUS4YekiRJkiSplww9JEmSJElSLxl6SJIk\nSZKkXjL0kCRJkiRJvWToIUmSJEmSesnQQ+skybOTVJKdp2jz+iRXJFmeZDTJY9r5o5PcexZz3rQW\nbRckuXwtx39GkkuTXJZkZZL/tbY1TjLuSJLhadrM6plIkiRJkv6QoYfW1SHAN4HnT3QxyV7AM4A9\nqmpX4EnAf7fLRwN3qw/4STYCTgSeWVW7AbsDI3Mw7gYzbHq3eyaSJEmSdE+14XwXoHuuJFsAjwP2\nBU4Hjp2g2Q7AdVV1C0BVXdf6HgU8ADgnyXVVtW+Sm6pqi3b9IOAZVbUkyUOAk+n+vX51YP5PAKdV\n1RfazycBp1bV6ZPUuwR4Fl2osCPwuap6zbhmW7Z5rm/13gKsav23Az4IPLS1fXlVfSvJ54EHApsC\n76mqE1v7m4B3AU8B/nZcLU8G3gRsAvwncBjw4vHPZKL7AFh1/SoWLV002WXdA42uHmVo+6H5LkOS\nJEnqFVd6aF0cAHy1qr4P/CzJHhO0ORN4YJLvJ3l/kicAVNXxwE+Afaf6cN+8B/hAVe0JrB44/2G6\nsIAkWwGBhgi6AAAKQklEQVSPBb48zVhDwMHALsDBSR44eLGqfkYX4FyV5JQkhyYZ++/keODctgJk\nD+CKdv7FVbUQGAaOSrJNO785cHlVPaaqvjk2R5L7AW8AnlRVewDLgL9Zy2einhnafojFuyye7zIk\nSZKkXnGlh9bFIcC/tuNPtp+/M9igqm5KshDYh25FyKlJXltVS9dinscBB7bjTwDHtbHPTXJCkvsD\nzwE+U1W/m2ass6rqRoAkK4EHc/vrNmM1vzTJLnSv4hwD/AWwBNgP+KvWZg1wY+tyVJJnt+MHAg+j\nWymyBvjMBDX8OfAI4PwkABsD356m7jvYaZudGFkysjZdtJ4Zfdu/smjpfFchSZKke6LRURjqySJk\nQw/NSlvNsB/wqCQFbABUktdUVQ22bQHBCDCSZAXwImDpBMMO9tt0imuDPgEcSrenyItnUPotA8dr\nmOS/gapaAaxor9BcSRd6/IEki+jCkb2q6tdJRgZq/0279z/oBvxHVR0yg3olSZIk6S41NASLe7II\n2dBDs3UQ8PGq+v03myQ5F9gb+MbAuZ2A26rqB+3UEHBVO/4l3R4a17Wfr0nycLo9NJ7drgOcTxdq\n/DtdwDFoKXARsLqqrmAdtX1KhqtqZIJ6zwJeDvxr25h0c2Ar4Oct8NiZbhXHdC4ATkjyp1X1/9q3\ntfxJe01o/DORZmXotUe7GkiSJEnrPff00GwdAnxu3LnPAOPzwC2Aj7Wvfl1O91rHse3aicBXkpzT\nfn4tcAZwNvDTgTH+GnhlkovpQobfq6prgO8CH12nu7ldgNckWZVklG6z0SUDdezbVqtcAjySbmPV\nDdu9vYUu0JhSVV3bxjyl9bsAGPvK3/HPRJIkSZI0Sxn3JoJ0j9JWSayg+0rcG6dr3xfDw8O1bNmy\n+S5Dd1Nj3+zjSg9JkiT1VZJLqmp4unau9NA9VpInAd8D3rs+BR6SJEmSpJlxTw/dY1XV14EHzXcd\nkiRJkqS7J1d6SJIkSZKkXjL0kCRJkiRJvWToIUmSJEmSesnQQ5IkSZIk9ZKhhyRJkiRJ6iVDD0mS\nJEmS1EuGHpIkSZIkqZcMPSRJkiRJUi8ZekiSJEmSpF4y9JAkSZIkSb1k6CFJkiRJknrJ0EOSJEmS\nJPWSoYckSZIkSeolQw9JkiRJktRLhh6SJEmSJKmXDD0kSZIkSVIvGXpIkiRJkqReMvSQJEmSJEm9\nZOghSZIkSZJ6ydBDkiRJkiT1kqGHJEmSJEnqJUMPSZIkSZLUS4YekiRJkiSplww9JEmSJElSLxl6\nSJIkSZKkXjL0kCRJkiRJvWToIUmSJEmSesnQQ5IkSZIk9ZKhhyRJkiRJ6iVDD0mSJEmS1EuGHpIk\nSZIkqZcMPSRJkiRJUi8ZekiSJEmSpF4y9JAkSZIkSb1k6DEHkmyTZLT9WZ3k6nZ8Q5KV6zDukiTv\nG3duJMnwulc95bxLkxy0Fu13bvd7aZIdx137u4HjBUkuX4e6liS5ts11RZLTktx7FuMsSnLGbOuY\nYtzhJMcP1Pq+dnxskmPmej5JkiRJ0tQMPeZAVV1fVUNVNQR8EHh3Ox4Cbpvf6u4SBwBfqKrdq+o/\nx137u4k6rINT27N+JPBb4OA5Hn9KSTac7FpVLauqo+7KeiRJkiRJkzP0uPNtkORDbWXCmUk2A0iy\nY5KvJrkkyTeS7Ly2Ayc5JMmKJJcnOW7g/E0DxwclWdqOlyY5Psm3kvzX2GqOdN6XZGWSLwH3n2S+\noSQXJFme5HNJ/ijJ04CjgZcmOWdc+7cBm7WVGSfN5fNo4cPmwM/bz89McmFbbfL1JNu1808YWIVz\naZItx42zZzv/0CSbJ/lIkovbuf1bmyVJPp3ki8CZSU5t9z02xtIkB85kBclk95nkue33eFmS86Ya\nQ5IkSZI0M5P+X2vNmYcBh1TV4Uk+BRwI/DtwIvCyqvpBkscA7wf2m6D/wUn2Hvj5TwGSPAA4DlhI\n98H/zCQHVNXnp6lnB2BvYGfgdOA04NnATsAuwHbASuAjE/T9OHBkVZ2b5M3AP1TV0Uk+CNxUVe8c\nbFxVr03yqrbqhSQL5vB57AB8H/hiO/9N4M+rqpK8FHgN8LfAMcArq+r8JFsAvxkbKMljgfcC+1fV\nj5L8E3B2Vb04yX2Bi5J8vTXfC9i1qn6W5Nl0K0y+nGRj4InAy4HHTP7Yf2+y+3wj8JSqurrNPaVV\n169i0dJFM5hO66PR1aMMbT8032VIkiRJ887Q4853ZVWNtuNLgAXtw/djgU8nGWu3yST9T62qV439\nkGSkHe4JjFTVte38ScDjgelCj89X1W3AyrHVEK3fKVW1BvhJkrPHd0qyFXDfqjq3nfoY8Olp5prI\nnDyPdA1PAF4NvA34E+DUJDsAGwNXtvbnA+9qz+ezVfXjNsfD6QKIJ1fVT1rbJwPPGth/Y1PgQe34\nP6rqZ+34K8DxSTYBngqcV1U3D9Q+oWnu83xgaQuCPjvlQNI0hrYfYvEui+e7DEmSJGneGXrc+W4Z\nOF4DbEb3WtENYysgZmmqT9g1cLzpFPUMjlHcNebkebQVHV8EjqQLPd4LvKuqTk+yCDi2tXtbe2Xn\nacAFSZ7Uhvgp3bPZHRgLPQIcWFWrBudqKzJ+NTD3b1r49BS6FR+nzLDsSe+zql7W5nk6MJpkqKqu\nn2ygnbbZiZElIzOcVpIkSZLWT+7pMQ+q6hfAlUmeC7/fU2O3tRzmQuAJSe6XZAPgEGBsFcY1SR6e\n5F50r65M5zzg+Uk2aCsl9p2g5huBnyfZp5164cB8U7k1yUZTNViH57E3MLZx6lbA1e34RWMNkuxY\nVSuq6jhgGd1rPQA30AUM/9RCEoCvAUe2VSQk2X2KuT8JHAbs0/pNa6r7bHVeWFVvBK4DHjiTMSVJ\nkiRJkzP0mD+HAi9JchlwBbD/2nSuqp8CrwPOAS4DvlNVX2iXXwucAZxNt6JhOp8DfgCsAD7A5GHG\ni4B3JFlO9800b57B2CcCy3P7RqaTmenzOLhtSrqcbpXGW9r5Y+leG/kGXWgw5uixDUKBm+leTQGg\nqq4Bngmc0FZZvAXYqNV7+cDYEzmT7rWgr1fVb6e5t5nc5zvSNqWlC6EuW4sxJUmSJEkTSNVd9VaD\npLkyPDxcy5Ytm+8yJEmSJGleJLmkqoana+dKD0mSJEmS1EuGHpIkSZIkqZcMPSRJkiRJUi8ZekiS\nJEmSpF4y9JAkSZIkSb1k6CFJkiRJknrJ0EOSJEmSJPWSoYckSZIkSeolQw9JkiRJktRLhh6SJEmS\nJKmXDD0kSZIkSVIvGXpIkiRJkqReMvSQJEmSJEm9ZOghSZIkSZJ6ydBDkiRJkiT1kqGHJEmSJEnq\nJUMPSZIkSZLUS6mq+a5B0lpKci1w1XzXIUmSJEnz5MFVte10jQw9JEmSJElSL/l6iyRJkiRJ6iVD\nD0mSJEmS1EuGHpIkSZIkqZcMPSRJkiRJUi8ZekiSJEmSpF4y9JAkSZIkSb1k6CFJkiRJknrJ0EOS\nJEmSJPWSoYckSZIkSeql/w8mxU6kI2cUMQAAAABJRU5ErkJggg==\n",
      "text/plain": [
       "<matplotlib.figure.Figure at 0x1304df69080>"
      ]
     },
     "metadata": {},
     "output_type": "display_data"
    }
   ],
   "source": [
    "# Define a linkage_matrix using ward clustering pre-computed distances\n",
    "linkage_matrix = ward(dist) \n",
    "\n",
    "# Set size of the graph\n",
    "fig, ax = plt.subplots(figsize=(15, 20))\n",
    "\n",
    "# Set the graph type and other labels\n",
    "ax = dendrogram(linkage_matrix, orientation=\"right\", labels=textName);\n",
    "\n",
    "plt.tick_params(\n",
    "    axis= 'x',         # changes apply to the x-axis\n",
    "    which='both',      # both major and minor ticks are affected\n",
    "    bottom='off',      # ticks along the bottom edge are off\n",
    "    top='off',         # ticks along the top edge are off\n",
    "    labelbottom='off')\n",
    "\n",
    "# Display Matrix\n",
    "plt.show()\n",
    "\n",
    "# To save figure, uncomment the line below and replace \"_insertName_\" with the filename\n",
    "#plt.savefig('_insertName'.png', dpi=200) "
   ]
  },
  {
   "cell_type": "markdown",
   "metadata": {},
   "source": [
    "# Conclusion\n",
    "\n",
    "In this notebook went over a couple of different topics. How to clean a text, clustering the documents based on tf-idf, and finally using PCA to convert the maxtrix to visualize the clustering.\n",
    "\n",
    "This Notebook was created, modified, and expanded from Brandon IPython Notebook. They can be found here:\n",
    "https://github.com/brandomr/document_cluster and\n",
    "http://brandonrose.org/clustering "
   ]
  }
 ],
 "metadata": {
  "kernelspec": {
   "display_name": "Python 3",
   "language": "python",
   "name": "python3"
  },
  "language_info": {
   "codemirror_mode": {
    "name": "ipython",
    "version": 3
   },
   "file_extension": ".py",
   "mimetype": "text/x-python",
   "name": "python",
   "nbconvert_exporter": "python",
   "pygments_lexer": "ipython3",
<<<<<<< HEAD
   "version": "3.6.4"
=======
   "version": "3.6.3"
>>>>>>> upstream/master
  }
 },
 "nbformat": 4,
 "nbformat_minor": 2
}
