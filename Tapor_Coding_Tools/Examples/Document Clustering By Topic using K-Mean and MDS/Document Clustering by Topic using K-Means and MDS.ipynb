{
 "cells": [
  {
   "cell_type": "markdown",
   "metadata": {},
   "source": [
    "# Document Clustering by Topic\n",
    "\n",
    "This notebook's aim is to cluster documents based on features gathered from tf-idf vectorization. This is done by first cleaning the text, vectorizing tf-idf the content, and then using k-mean to discover the topics of the corpus. Finally, we will use Multidimensional Scaling to convert the maxtrix into a form where we can then visualize the clustering. \n",
    "\n",
    "## Library and Resources used\n",
    "\n",
    "-  Python 3\n",
    "-  Natural Language Toolkit \n",
    "-  Panda\n",
    "-  Numpy\n",
    "-  Scikit-learn (Machine Learning in Python)\n",
    "-  SciPy (Open-source Software for Mathematics, Science, and Engineering)\n",
    "-  Matplotlib (Plotting)\n",
    "\n",
    "## Note:\n",
    "\n",
    "For installation of the nessesary resources and libraries refer to their respective home page for installation steps for your operation system.\n",
    "\n",
    "In this tutorial we will be using novels gather from Gutenberg. It is important to note that the novels being used are exclusively from Arthur Conan Doyle, Jane Austen, and Charles Dickens. \n",
    "\n",
    "Also, the novels have some cleaning done to them. This involes removing the additional notes made by Gutenberg (inlcuding trademarks, notes about the book, branding) from the start and end of each novel.\n",
    "\n",
    "This Notebook is based on and expands upon a pre-existing IPython Notebook https://github.com/brandomr/document_cluster\n",
    "\n",
    "This Notebook is also similar to \"Document Clustering by Topic using K-Means and PCA\" as they share the exact same code until we attempt to visualize the results of the clustering."
   ]
  },
  {
   "cell_type": "markdown",
   "metadata": {},
   "source": [
    "### Importing the requried libaries"
   ]
  },
  {
   "cell_type": "code",
<<<<<<< HEAD
   "execution_count": 4,
   "metadata": {},
=======
   "execution_count": 1,
   "metadata": {
    "collapsed": true
   },
>>>>>>> upstream/master
   "outputs": [],
   "source": [
    "# Importing base libraries\n",
    "import re\n",
    "import os\n",
    "import codecs\n",
    "import glob\n",
    "from __future__ import print_function\n",
    "\n",
    "# Import nltk\n",
    "import nltk\n",
    "from nltk.stem.snowball import SnowballStemmer\n",
    "from nltk.tag import pos_tag\n",
    "\n",
    "# Import matplotlib\n",
    "import matplotlib.pyplot as plt\n",
    "import matplotlib as mpl\n",
    "\n",
    "# Import Sklearn\n",
    "from sklearn import feature_extraction\n",
    "from sklearn.feature_extraction.text import TfidfVectorizer\n",
    "from sklearn.cluster import KMeans\n",
    "from sklearn.metrics.pairwise import cosine_similarity\n",
    "from sklearn.manifold import MDS\n",
    "from sklearn.externals import joblib\n",
    "from scipy.cluster.hierarchy import ward, dendrogram\n",
    "\n",
    "# Import Remaining libaries\n",
    "import numpy as np\n",
    "import pandas as pd\n",
    "\n",
    "# Ensure we can see plots inside Jupyter notebook\n",
    "%matplotlib inline"
   ]
  },
  {
   "cell_type": "markdown",
   "metadata": {},
   "source": [
    "### Gathering Text from Novels\n",
    "\n",
    "The first step is to collect the names of each novel and their content. This is done by going through all the texts in the \"Novels\" folder. It is important to note that the order in which we save both the novel's content and name is synchronized."
   ]
  },
  {
   "cell_type": "code",
<<<<<<< HEAD
   "execution_count": 5,
=======
   "execution_count": 2,
>>>>>>> upstream/master
   "metadata": {
    "collapsed": true
   },
   "outputs": [],
   "source": [
    "# Set path to the file with novels\n",
    "path = \"./Novels\"\n",
    "\n",
    "# Save all the titles of the texts\n",
    "textName = []\n",
    "\n",
    "# Save all the content of the texts\n",
    "textContent = []\n",
    "\n",
    "# Go to the directory with all the text files\n",
    "for filename in os.listdir(path):\n",
    "    \n",
    "    # Add the file name and remove the file type (in this case \".txt\")\n",
    "    textName.append(filename[:-4])\n",
    "    \n",
    "    # Open each file and add all the content \n",
    "    with open(path + '/' + filename, encoding=\"utf-8\", mode=\"r\") as file:\n",
    "         fileContent = file.read()\n",
    "\n",
    "    # Add the content of the file\n",
    "    textContent.append(fileContent)"
   ]
  },
  {
   "cell_type": "markdown",
   "metadata": {},
   "source": [
    "### Checkpoint\n",
    "\n",
    "This is just to double check that we have an equal amount of titles to content."
   ]
  },
  {
   "cell_type": "code",
<<<<<<< HEAD
   "execution_count": 6,
=======
   "execution_count": 3,
>>>>>>> upstream/master
   "metadata": {},
   "outputs": [
    {
     "name": "stdout",
     "output_type": "stream",
     "text": [
      "The amount of text titles matches the amount of text content\n"
     ]
    }
   ],
   "source": [
    "#Check the amount of text being analyzed equals the amount of text titles we recorded\n",
    "if len(textName) == len(textContent):\n",
    "    print(\"The amount of text titles matches the amount of text content\")\n",
    "else:\n",
    "    print(\"Amount of content and titles do not match\")"
   ]
  },
  {
   "cell_type": "markdown",
   "metadata": {},
   "source": [
    "### Cleaning the Text\n",
    "\n",
    "Now we begin cleaning the texts, in addition to the pre-cleaning as mentioned before. We first must define some cleaning tools.\n",
    "\n",
    "The first being stopwords. The second is stemming words. This means \"happening\", and \"happened\" are converted to the same root word, \"happen\"."
   ]
  },
  {
   "cell_type": "code",
<<<<<<< HEAD
   "execution_count": 7,
=======
   "execution_count": 4,
>>>>>>> upstream/master
   "metadata": {
    "collapsed": true
   },
   "outputs": [],
   "source": [
    "# load nltk's English stopwords as variable called 'stopwords'\n",
    "stopwords = nltk.corpus.stopwords.words('english')\n",
    "\n",
    "# Use snowballer to break words into their roots\n",
    "stemmer = SnowballStemmer(\"english\", ignore_stopwords=False)"
   ]
  },
  {
   "cell_type": "markdown",
   "metadata": {},
   "source": [
    "### Defining Cleaning Function\n",
    "\n",
    "Given that there is going to be a lot of cleaning done in this tutorial, I wrote them into their own functions. "
   ]
  },
  {
   "cell_type": "code",
<<<<<<< HEAD
   "execution_count": 8,
=======
   "execution_count": 5,
>>>>>>> upstream/master
   "metadata": {
    "collapsed": true
   },
   "outputs": [],
   "source": [
    "# Tokenize text \n",
    "def tokenize_Text(text):\n",
    "    tokens = [word for sent in nltk.sent_tokenize(text) for word in nltk.word_tokenize(sent)]\n",
    "    return tokens\n",
    "\n",
    "# Remove stop words\n",
    "def remove_stopwords(tokens):\n",
    "    return [word for word in tokens if word not in stopwords]\n",
    "\n",
    "# Takes tokenized text and removes all proper nouns with nltk tags\n",
    "def strip_properNouns(token):\n",
    "    # Break down each word into thier category for tags\n",
    "    tags = pos_tag(token)\n",
    "    \n",
    "    # Remove all the words with the proper noun tags or possessives or proper noun purals\n",
    "    # You can alter this to remove more tags (search for nltk tag for more options)\n",
    "    removedProperNoun = [word for word,pos in tags if pos != 'NNP' and pos != 'POS' and pos != 'NNPS']\n",
    "    \n",
    "    return removedProperNoun\n",
    "\n",
    "# Tokenize and stem is used to break each token down into their base components. This is done to make it simpler \n",
    "# on the algorithm later\n",
    "def token_stem(tokens):\n",
    "    \n",
    "    stems = [stemmer.stem(t) for t in tokens]\n",
    "    return stems\n",
    "\n",
    "# This filters all non-words out and changes contractions\n",
    "def filter_word(tokens):\n",
    "    \n",
    "    filtered_tokens = []\n",
    "    \n",
    "    # filter out any tokens not containing letters (e.g., numeric tokens, raw punctuation)\n",
    "    for token in tokens:\n",
    "        if re.search('[a-zA-Z]', token):\n",
    "            \n",
    "            # Check for common contractions and remove them\n",
    "            # You can add additional cleaning methods here as well\n",
    "            if token[0] == \"\\'\" or token == \"wo\" or token == \"n't\":\n",
    "                filtered_tokens.append(remove_Contractions(token))\n",
    "            else:\n",
    "                filtered_tokens.append(token)\n",
    "            \n",
    "    return filtered_tokens\n",
    "\n",
    "# Remove some common contractions\n",
    "def remove_Contractions(token):\n",
    "    \n",
    "    # Replace contraction with their english word counter part\n",
    "    return token.replace(\"wo\", \"will\").replace(\"n't\", \"not\") \\\n",
    "    .replace(\"'s\", \"is\").replace(\"'m\", \"am\") \\\n",
    "    .replace(\"'ll\", \"will\").replace(\"'d\", \"would\") \\\n",
    "    .replace(\"'re\", \"are\").replace(\"'ve\", \"have\")"
   ]
  },
  {
   "cell_type": "markdown",
   "metadata": {},
   "source": [
    "### Calling all the Cleaning Functions\n",
    "\n",
    "Now that there exists a wide variety of cleaning functions to use it is easier to just call one function. It is here that you can choose what additional cleaning functions you would like to add or remove."
   ]
  },
  {
   "cell_type": "code",
<<<<<<< HEAD
   "execution_count": 9,
=======
   "execution_count": 6,
>>>>>>> upstream/master
   "metadata": {
    "collapsed": true
   },
   "outputs": [],
   "source": [
    "# Define a function that calls all the functions I want\n",
    "def full_clean(text):\n",
    "    # This can change depending on your needs\n",
    "    return token_stem(remove_stopwords(filter_word(strip_properNouns(tokenize_Text(text)))))\n",
    "\n",
    "# Define this function to just not include the stemming phase\n",
    "# The reason for this is explained later\n",
    "def full_clean_without_stem(text):\n",
    "     return remove_stopwords(filter_word(strip_properNouns(tokenize_Text(text))))"
   ]
  },
  {
   "cell_type": "markdown",
   "metadata": {},
   "source": [
    "### Check point\n",
    "\n",
    "This is to check to see if your cleaning works as intended. It is useful to check to see if your cleaning works ahead of time, since depending on your corpora this may take a while to process. It is better to know now than later if your cleaning method works.\n",
    "\n",
    "Note: If you do not like some aspects of the cleaning presented, feel free to remove them in the \"full_clean\" and \"full_clean_without_stem\" functions above and test the results with some samples below."
   ]
  },
  {
   "cell_type": "code",
<<<<<<< HEAD
   "execution_count": 10,
=======
   "execution_count": 7,
>>>>>>> upstream/master
   "metadata": {},
   "outputs": [
    {
     "name": "stdout",
     "output_type": "stream",
     "text": [
      "['proper', 'noun', 'get', 'remov']\n",
      "['do', 'i', 'remov', 'number', 'list']\n",
      "['plural', 'like', 'happen', 'multipl']\n",
      "['what', 'happen']\n",
      "['is', 'one', 'happen', 'happen', 'happen']\n"
     ]
    }
   ],
   "source": [
    "# Testing Full clean\n",
    "test_1 = full_clean(\"Did proper nouns get removed Jimmy?\")\n",
    "test_2 = full_clean(\"Do I remove the number 5 from my list?\")\n",
    "test_3 = full_clean(\"Plurals? like what happens with multiples\")\n",
    "test_4 = full_clean(\"What happens to won't, don't, didn't?\")\n",
    "test_5 = full_clean(\"Is Jimmy one of those happening, happened, or happen\")\n",
    "\n",
    "# Printing test\n",
    "print(test_1)\n",
    "print(test_2)\n",
    "print(test_3)\n",
    "print(test_4)\n",
    "print(test_5)"
   ]
  },
  {
   "cell_type": "markdown",
   "metadata": {},
   "source": [
    "It is important to note that words such as \"remove\" became \"remov\". This is because of the nltk stemming package. Later on in the notebook we will create a parallel list that contains the original. Therefore when we convert it back it will return to its spelling in the text. In this example \"remove\". If you are curious on what words get removed where, feel free to experiment with each function."
   ]
  },
  {
   "cell_type": "markdown",
   "metadata": {},
   "source": [
    "### Applying the Cleaning to the Text\n",
    "\n",
    "Now that we have the cleaning function, we are going to clean all the text. First we are going to have two parallel lists. One that has the original word and another with the stemmed version. This is to reduce the variation of words in the text for analysis. We keep the original word so we can convert them back later. "
   ]
  },
  {
   "cell_type": "code",
<<<<<<< HEAD
   "execution_count": 12,
=======
   "execution_count": 9,
>>>>>>> upstream/master
   "metadata": {},
   "outputs": [],
   "source": [
    "# Create two separate lists to hold one with tokenized words and the other with stemmed versions of those words\n",
    "text_stemmed = []\n",
    "text_tokenized = []\n",
    "\n",
    "# Iterate through all the text\n",
    "for work in textContent:\n",
    "\n",
    "    # Store the text that has been stemmed into text stemmed\n",
    "    alltext_stemmed = full_clean(work)\n",
    "    text_stemmed.extend(alltext_stemmed)\n",
    "    \n",
    "    # Store all the text that has not been stemmed into text tokenized\n",
    "    alltext_tokenized = full_clean_without_stem(work)\n",
    "    text_tokenized.extend(alltext_tokenized)"
   ]
  },
  {
   "cell_type": "markdown",
   "metadata": {},
   "source": [
    "### Quick Check\n",
    "Lets check the first 10 words in both lists and see if they make sense."
   ]
  },
  {
   "cell_type": "code",
<<<<<<< HEAD
   "execution_count": 13,
=======
   "execution_count": 10,
>>>>>>> upstream/master
   "metadata": {},
   "outputs": [
    {
     "name": "stdout",
     "output_type": "stream",
     "text": [
      "['i', 'have', 'endeavour', 'littl', 'book', 'rais', 'shall', 'put', 'reader', 'humour']\n",
      "['I', 'HAVE', 'endeavoured', 'little', 'book', 'raise', 'shall', 'put', 'readers', 'humour']\n"
     ]
    }
   ],
   "source": [
    "print(text_stemmed[:10])\n",
    "print(text_tokenized[:10])"
   ]
  },
  {
   "cell_type": "markdown",
   "metadata": {},
   "source": [
    "Feel free to do additional cleaning on the resulting list afterwards. In this example \"the\" reappears. This is because the cleaning process does not remove \"the\" if it appears at the start of the sentence. \n",
    "\n",
    "Remember that any additional cleaning done here should be mirrored in both lists. This is to ensure that both lists are the same length and the words line up in their index. If they do not it will cause errors later on."
   ]
  },
  {
   "cell_type": "markdown",
   "metadata": {},
   "source": [
    "### Converting to Panda Dataframe\n",
    "\n",
    "Now that we have the list it is time to put them into a panda dataframe. Panda is tool that helps with data analysis and manipulation. To find out more see their website: https://pandas.pydata.org/ "
   ]
  },
  {
   "cell_type": "code",
<<<<<<< HEAD
   "execution_count": 14,
=======
   "execution_count": 11,
>>>>>>> upstream/master
   "metadata": {
    "collapsed": true
   },
   "outputs": [],
   "source": [
    "# Create a panda dataframe that has stemmed words as index and tokenized words as columns\n",
    "# This is so that words like \"happened, happening\" are all mapped to the same index \"happen\"\n",
    "vocab_frame = pd.DataFrame({'words': text_tokenized}, index = text_stemmed)"
   ]
  },
  {
   "cell_type": "code",
<<<<<<< HEAD
   "execution_count": 15,
=======
   "execution_count": 12,
>>>>>>> upstream/master
   "metadata": {},
   "outputs": [
    {
     "data": {
      "text/html": [
       "<div>\n",
       "<style>\n",
       "    .dataframe thead tr:only-child th {\n",
       "        text-align: right;\n",
       "    }\n",
       "\n",
       "    .dataframe thead th {\n",
       "        text-align: left;\n",
       "    }\n",
       "\n",
       "    .dataframe tbody tr th {\n",
       "        vertical-align: top;\n",
       "    }\n",
       "</style>\n",
       "<table border=\"1\" class=\"dataframe\">\n",
       "  <thead>\n",
       "    <tr style=\"text-align: right;\">\n",
       "      <th></th>\n",
       "      <th>words</th>\n",
       "    </tr>\n",
       "  </thead>\n",
       "  <tbody>\n",
       "    <tr>\n",
       "      <th>i</th>\n",
       "      <td>I</td>\n",
       "    </tr>\n",
       "    <tr>\n",
       "      <th>have</th>\n",
       "      <td>HAVE</td>\n",
       "    </tr>\n",
       "    <tr>\n",
       "      <th>endeavour</th>\n",
       "      <td>endeavoured</td>\n",
       "    </tr>\n",
       "    <tr>\n",
       "      <th>littl</th>\n",
       "      <td>little</td>\n",
       "    </tr>\n",
       "    <tr>\n",
       "      <th>book</th>\n",
       "      <td>book</td>\n",
       "    </tr>\n",
       "    <tr>\n",
       "      <th>rais</th>\n",
       "      <td>raise</td>\n",
       "    </tr>\n",
       "    <tr>\n",
       "      <th>shall</th>\n",
       "      <td>shall</td>\n",
       "    </tr>\n",
       "    <tr>\n",
       "      <th>put</th>\n",
       "      <td>put</td>\n",
       "    </tr>\n",
       "    <tr>\n",
       "      <th>reader</th>\n",
       "      <td>readers</td>\n",
       "    </tr>\n",
       "    <tr>\n",
       "      <th>humour</th>\n",
       "      <td>humour</td>\n",
       "    </tr>\n",
       "  </tbody>\n",
       "</table>\n",
       "</div>"
      ],
      "text/plain": [
       "                 words\n",
       "i                    I\n",
       "have              HAVE\n",
       "endeavour  endeavoured\n",
       "littl           little\n",
       "book              book\n",
       "rais             raise\n",
       "shall            shall\n",
       "put                put\n",
       "reader         readers\n",
       "humour          humour"
      ]
     },
<<<<<<< HEAD
     "execution_count": 15,
=======
     "execution_count": 12,
>>>>>>> upstream/master
     "metadata": {},
     "output_type": "execute_result"
    }
   ],
   "source": [
    "# As you can see the stem words (on the left) matches their original word (right)\n",
    "vocab_frame[:10]"
   ]
  },
  {
   "cell_type": "markdown",
   "metadata": {},
   "source": [
    "### TF-IDF Vectorizer\n",
    "\n",
    "TF-IDF stands for term frequency–inverse document frequency. It is a statistic that tries to determine how important a word is to a document in a collection or corpus.\n",
    "\n",
    "To find out a bit more detail on TF-IDF, see their wikipedia page (https://en.wikipedia.org/wiki/Tf%E2%80%93idf)\n",
    "\n",
    "The Vectorizer converts the raw data into TF-IDF features. To find out more visit sklearn page (http://scikit-learn.org/stable/modules/generated/sklearn.feature_extraction.text.TfidfVectorizer.html)"
   ]
  },
  {
   "cell_type": "code",
<<<<<<< HEAD
   "execution_count": 16,
=======
   "execution_count": 13,
>>>>>>> upstream/master
   "metadata": {},
   "outputs": [
    {
     "name": "stdout",
     "output_type": "stream",
     "text": [
      "(24, 33215)\n"
     ]
    }
   ],
   "source": [
    "# max_df: max cut off for how frequent a term appears in the collection \n",
    "# If it is too frequent it probably holds little meaning\n",
    "\n",
    "# min_df: min start point to be considered a feature\n",
    "# If it appears too infrequently it is probably doesn't have enough importance.\n",
    "\n",
    "# max_features: maximum amount of features that can exist\n",
    "\n",
    "# Tokenizer: gave the previously defined cleaner\n",
    "\n",
    "# ngram_range: Declare that I want to look at unigrams, bigrams and trigrams\n",
    "\n",
    "tfidf_vectorizer = TfidfVectorizer(max_df=0.8, max_features=200000,\n",
    "                                 min_df=0.2, \n",
    "                                 use_idf=True, tokenizer=full_clean, ngram_range=(1,3))\n",
    "\n",
    "# Fit the vectorizer to the textContent\n",
    "tfidf_matrix = tfidf_vectorizer.fit_transform(textContent)\n",
    "\n",
    "# See the shape of the vector\n",
    "print(tfidf_matrix.shape)"
   ]
  },
  {
   "cell_type": "markdown",
   "metadata": {},
   "source": [
    "### Acquring Feature Names\n",
    "\n",
    "Now it is time to acquire the terms in the tfidf matrix."
   ]
  },
  {
   "cell_type": "code",
<<<<<<< HEAD
   "execution_count": 19,
=======
   "execution_count": 14,
>>>>>>> upstream/master
   "metadata": {
    "collapsed": true
   },
   "outputs": [],
   "source": [
    "# Save all the terms from vectorizer into a variable to be used later\n",
    "terms = tfidf_vectorizer.get_feature_names()"
   ]
  },
  {
   "cell_type": "markdown",
   "metadata": {},
   "source": [
    "### Using Cosine Similarity \n",
    "\n",
    "Now that we have all features and tf-idf of each document it is time to compute the similarity. This is done using cosine similarity which calculates the similarity of a normalized dot product of X and Y. The reason we have 1 subtract the similarity is because we are plotting on a euclidean (2-dimensional) plane."
   ]
  },
  {
   "cell_type": "code",
<<<<<<< HEAD
   "execution_count": 20,
=======
   "execution_count": 15,
>>>>>>> upstream/master
   "metadata": {
    "collapsed": true
   },
   "outputs": [],
   "source": [
    "# Calculate cosine similarity on the tf-idf matrix\n",
    "dist = 1 - cosine_similarity(tfidf_matrix)"
   ]
  },
  {
   "cell_type": "markdown",
   "metadata": {},
   "source": [
    "### Clustering with K-means \n",
    "\n",
    "Now that we have the similarities we are going to cluster the documents using K-means.\n",
    "K-means first asks for a number of clusters. You can have more or less, in this example there is 5. Now K-means attempts to cluster the document into 5 clusters. The process may take a while.\n",
    "\n",
    "To find out more (https://en.wikipedia.org/wiki/K-means_clustering)"
   ]
  },
  {
   "cell_type": "code",
<<<<<<< HEAD
   "execution_count": 21,
=======
   "execution_count": 16,
>>>>>>> upstream/master
   "metadata": {},
   "outputs": [
    {
     "data": {
      "text/plain": [
       "KMeans(algorithm='auto', copy_x=True, init='k-means++', max_iter=300,\n",
       "    n_clusters=5, n_init=10, n_jobs=1, precompute_distances='auto',\n",
       "    random_state=None, tol=0.0001, verbose=0)"
      ]
     },
<<<<<<< HEAD
     "execution_count": 21,
=======
     "execution_count": 16,
>>>>>>> upstream/master
     "metadata": {},
     "output_type": "execute_result"
    }
   ],
   "source": [
    "# Declare amount of clusters\n",
    "num_clusters = 5\n",
    "\n",
    "# Initalize KMeans with the amount of clusters declared\n",
    "km = KMeans(n_clusters=num_clusters)\n",
    "\n",
    "# Run Kmeans on the matrix\n",
    "km.fit(tfidf_matrix)"
   ]
  },
  {
   "cell_type": "code",
<<<<<<< HEAD
   "execution_count": 22,
   "metadata": {},
=======
   "execution_count": 17,
   "metadata": {
    "collapsed": true
   },
>>>>>>> upstream/master
   "outputs": [],
   "source": [
    "# Get the cluster that each document belongs to into a list\n",
    "clusters = km.labels_.tolist()"
   ]
  },
  {
   "cell_type": "markdown",
   "metadata": {},
   "source": [
    "### Setting The Results For Plotting \n",
    "\n",
    "Now that we have all our results we begin to structure it into a format we can display."
   ]
  },
  {
   "cell_type": "code",
<<<<<<< HEAD
   "execution_count": 23,
=======
   "execution_count": 18,
>>>>>>> upstream/master
   "metadata": {
    "collapsed": true
   },
   "outputs": [],
   "source": [
    "# Set the book dictionary to hold the book's title, content, and cluster it belongs to\n",
    "books = { 'title': textName, 'content': textContent, 'cluster': clusters }\n",
    "\n",
    "# Set the panda dataframe\n",
    "# Data is the content of the dictionary\n",
    "# Index is the clusters\n",
    "# Columns as the keys of the dictionary\n",
    "resultFrame = pd.DataFrame(books, index = [clusters] , columns = ['title', 'cluster', 'content'])"
   ]
  },
  {
   "cell_type": "code",
<<<<<<< HEAD
   "execution_count": 24,
=======
   "execution_count": 19,
>>>>>>> upstream/master
   "metadata": {},
   "outputs": [
    {
     "data": {
      "text/html": [
       "<div>\n",
       "<style>\n",
       "    .dataframe thead tr:only-child th {\n",
       "        text-align: right;\n",
       "    }\n",
       "\n",
       "    .dataframe thead th {\n",
       "        text-align: left;\n",
       "    }\n",
       "\n",
       "    .dataframe tbody tr th {\n",
       "        vertical-align: top;\n",
       "    }\n",
       "</style>\n",
       "<table border=\"1\" class=\"dataframe\">\n",
       "  <thead>\n",
       "    <tr style=\"text-align: right;\">\n",
       "      <th></th>\n",
       "      <th>title</th>\n",
       "      <th>cluster</th>\n",
       "      <th>content</th>\n",
       "    </tr>\n",
       "  </thead>\n",
       "  <tbody>\n",
       "    <tr>\n",
<<<<<<< HEAD
       "      <th>4</th>\n",
       "      <td>The Valley of Fear</td>\n",
       "      <td>4</td>\n",
       "      <td>\\nPart 1--The Tragedy of Birlstone\\n\\n\\n\\n\\nCh...</td>\n",
       "    </tr>\n",
       "    <tr>\n",
       "      <th>3</th>\n",
       "      <td>Emma</td>\n",
       "      <td>3</td>\n",
       "      <td>﻿\\n\\nVOLUME I\\n\\n\\n\\nCHAPTER I\\n\\n\\nEmma Woodh...</td>\n",
       "    </tr>\n",
       "    <tr>\n",
       "      <th>1</th>\n",
       "      <td>Sense and Sensibility</td>\n",
       "      <td>1</td>\n",
       "      <td>﻿CHAPTER 1\\n\\n\\nThe family of Dashwood had lon...</td>\n",
       "    </tr>\n",
       "    <tr>\n",
       "      <th>2</th>\n",
       "      <td>The Pickwick Papers</td>\n",
       "      <td>2</td>\n",
       "      <td>﻿\\nCONTENTS\\n\\n\\nTHE POSTHUMOUS PAPERS OF THE ...</td>\n",
       "    </tr>\n",
       "    <tr>\n",
       "      <th>2</th>\n",
       "      <td>Our Mutual Friend</td>\n",
       "      <td>2</td>\n",
       "      <td>﻿\\nCONTENTS\\n\\n\\n     Book the First\\n\\n     T...</td>\n",
       "    </tr>\n",
       "    <tr>\n",
       "      <th>3</th>\n",
       "      <td>Persuasion</td>\n",
       "      <td>3</td>\n",
       "      <td>﻿Chapter 1\\n\\n\\nSir Walter Elliot, of Kellynch...</td>\n",
       "    </tr>\n",
       "    <tr>\n",
       "      <th>1</th>\n",
       "      <td>Mansfield Park</td>\n",
       "      <td>1</td>\n",
       "      <td>﻿CHAPTER I\\n\\nAbout thirty years ago Miss Mari...</td>\n",
       "    </tr>\n",
       "    <tr>\n",
       "      <th>2</th>\n",
       "      <td>A Tale of Two Cities</td>\n",
       "      <td>2</td>\n",
       "      <td>﻿\\n\\nCONTENTS\\n\\n\\n     Book the First--Recall...</td>\n",
       "    </tr>\n",
       "    <tr>\n",
       "      <th>0</th>\n",
       "      <td>Tales of Terror and Mystery</td>\n",
       "      <td>0</td>\n",
       "      <td>Contents\\n\\nTales of Terror\\n\\n  The Horror of...</td>\n",
       "    </tr>\n",
       "    <tr>\n",
       "      <th>2</th>\n",
       "      <td>Great Expectations</td>\n",
       "      <td>2</td>\n",
       "      <td>﻿\\nChapter I\\n\\nMy father’s family name being ...</td>\n",
       "    </tr>\n",
       "    <tr>\n",
       "      <th>2</th>\n",
       "      <td>The Life And Adventure Of Nicholas Nickleby</td>\n",
       "      <td>2</td>\n",
       "      <td>﻿\\n\\nAUTHOR’S PREFACE\\n\\n\\nThis story was begu...</td>\n",
       "    </tr>\n",
       "    <tr>\n",
       "      <th>3</th>\n",
       "      <td>Northanger Abbey</td>\n",
       "      <td>3</td>\n",
       "      <td>﻿CHAPTER 1\\n\\n\\nNo one who had ever seen Cathe...</td>\n",
       "    </tr>\n",
       "    <tr>\n",
       "      <th>0</th>\n",
       "      <td>The Lost World</td>\n",
       "      <td>0</td>\n",
       "      <td>\\n\\n\\n\\n                             Foreword\\...</td>\n",
       "    </tr>\n",
       "    <tr>\n",
       "      <th>4</th>\n",
       "      <td>The Return of Sherlock Holmes</td>\n",
       "      <td>4</td>\n",
       "      <td>\\n\\n\\nCONTENTS:\\n\\n     The Adventure Of The E...</td>\n",
       "    </tr>\n",
       "    <tr>\n",
       "      <th>2</th>\n",
       "      <td>David Copperfield</td>\n",
       "      <td>2</td>\n",
       "      <td>﻿\\nCONTENTS\\n\\n\\n     I.      I Am Born\\n     ...</td>\n",
       "    </tr>\n",
       "    <tr>\n",
       "      <th>4</th>\n",
       "      <td>A Study In Scarlet</td>\n",
       "      <td>4</td>\n",
       "      <td>A STUDY IN SCARLET.\\n\\n\\n\\n\\n\\nPART I.\\n\\n(_Be...</td>\n",
       "    </tr>\n",
       "    <tr>\n",
       "      <th>2</th>\n",
       "      <td>Bleak House</td>\n",
       "      <td>2</td>\n",
       "      <td>﻿\\nCONTENTS\\n\\n            Preface\\n         I...</td>\n",
       "    </tr>\n",
       "    <tr>\n",
       "      <th>2</th>\n",
       "      <td>Oliver Twist</td>\n",
       "      <td>2</td>\n",
       "      <td>﻿\\n\\n\\nCONTENTS\\n\\n       I  TREATS OF THE PLA...</td>\n",
       "    </tr>\n",
       "    <tr>\n",
       "      <th>4</th>\n",
       "      <td>The Hound of the Baskervilles</td>\n",
       "      <td>4</td>\n",
       "      <td>\\n\\n  CONTENTS\\n\\n  Chapter 1--Mr. Sherlock Ho...</td>\n",
       "    </tr>\n",
       "    <tr>\n",
       "      <th>4</th>\n",
       "      <td>The Adventures of Sherlock Holmes</td>\n",
       "      <td>4</td>\n",
       "      <td>\\n\\n   I. A Scandal in Bohemia\\n  II. The Red-...</td>\n",
       "    </tr>\n",
       "    <tr>\n",
       "      <th>3</th>\n",
       "      <td>Lady Susan</td>\n",
       "      <td>3</td>\n",
       "      <td>﻿\\n\\nI\\n\\n\\nLADY SUSAN VERNON TO MR. VERNON\\n\\...</td>\n",
       "    </tr>\n",
       "    <tr>\n",
       "      <th>2</th>\n",
       "      <td>A Christmas Carol</td>\n",
       "      <td>2</td>\n",
       "      <td>﻿\\n\\nPREFACE\\n\\nI HAVE endeavoured in this Gho...</td>\n",
       "    </tr>\n",
       "    <tr>\n",
       "      <th>4</th>\n",
       "      <td>The Sign of the Four</td>\n",
       "      <td>4</td>\n",
       "      <td>\\n\\nContents\\n\\n\\n\\n\\n\\nChapter I\\n\\nThe Scien...</td>\n",
       "    </tr>\n",
       "    <tr>\n",
       "      <th>3</th>\n",
       "      <td>Pride and Prejudice</td>\n",
       "      <td>3</td>\n",
       "      <td>﻿Chapter 1\\n\\n\\nIt is a truth universally ackn...</td>\n",
=======
       "      <th>3</th>\n",
       "      <td>A Christmas Carol</td>\n",
       "      <td>3</td>\n",
       "      <td>﻿\\n\\nPREFACE\\n\\nI HAVE endeavoured in this Gho...</td>\n",
       "    </tr>\n",
       "    <tr>\n",
       "      <th>2</th>\n",
       "      <td>A Study In Scarlet</td>\n",
       "      <td>2</td>\n",
       "      <td>A STUDY IN SCARLET.\\n\\n\\n\\n\\n\\nPART I.\\n\\n(_Be...</td>\n",
       "    </tr>\n",
       "    <tr>\n",
       "      <th>0</th>\n",
       "      <td>A Tale of Two Cities</td>\n",
       "      <td>0</td>\n",
       "      <td>﻿\\n\\nCONTENTS\\n\\n\\n     Book the First--Recall...</td>\n",
       "    </tr>\n",
       "    <tr>\n",
       "      <th>3</th>\n",
       "      <td>Bleak House</td>\n",
       "      <td>3</td>\n",
       "      <td>﻿\\nCONTENTS\\n\\n            Preface\\n         I...</td>\n",
       "    </tr>\n",
       "    <tr>\n",
       "      <th>3</th>\n",
       "      <td>David Copperfield</td>\n",
       "      <td>3</td>\n",
       "      <td>﻿\\nCONTENTS\\n\\n\\n     I.      I Am Born\\n     ...</td>\n",
       "    </tr>\n",
       "    <tr>\n",
       "      <th>3</th>\n",
       "      <td>Emma</td>\n",
       "      <td>3</td>\n",
       "      <td>﻿\\n\\nVOLUME I\\n\\n\\n\\nCHAPTER I\\n\\n\\nEmma Woodh...</td>\n",
       "    </tr>\n",
       "    <tr>\n",
       "      <th>3</th>\n",
       "      <td>Great Expectations</td>\n",
       "      <td>3</td>\n",
       "      <td>﻿\\nChapter I\\n\\nMy father’s family name being ...</td>\n",
       "    </tr>\n",
       "    <tr>\n",
       "      <th>1</th>\n",
       "      <td>Lady Susan</td>\n",
       "      <td>1</td>\n",
       "      <td>﻿\\n\\nI\\n\\n\\nLADY SUSAN VERNON TO MR. VERNON\\n\\...</td>\n",
       "    </tr>\n",
       "    <tr>\n",
       "      <th>3</th>\n",
       "      <td>Mansfield Park</td>\n",
       "      <td>3</td>\n",
       "      <td>﻿CHAPTER I\\n\\nAbout thirty years ago Miss Mari...</td>\n",
       "    </tr>\n",
       "    <tr>\n",
       "      <th>1</th>\n",
       "      <td>Northanger Abbey</td>\n",
       "      <td>1</td>\n",
       "      <td>﻿CHAPTER 1\\n\\n\\nNo one who had ever seen Cathe...</td>\n",
       "    </tr>\n",
       "    <tr>\n",
       "      <th>3</th>\n",
       "      <td>Oliver Twist</td>\n",
       "      <td>3</td>\n",
       "      <td>﻿\\n\\n\\nCONTENTS\\n\\n       I  TREATS OF THE PLA...</td>\n",
       "    </tr>\n",
       "    <tr>\n",
       "      <th>3</th>\n",
       "      <td>Our Mutual Friend</td>\n",
       "      <td>3</td>\n",
       "      <td>﻿\\nCONTENTS\\n\\n\\n     Book the First\\n\\n     T...</td>\n",
       "    </tr>\n",
       "    <tr>\n",
       "      <th>3</th>\n",
       "      <td>Persuasion</td>\n",
       "      <td>3</td>\n",
       "      <td>﻿Chapter 1\\n\\n\\nSir Walter Elliot, of Kellynch...</td>\n",
       "    </tr>\n",
       "    <tr>\n",
       "      <th>1</th>\n",
       "      <td>Pride and Prejudice</td>\n",
       "      <td>1</td>\n",
       "      <td>﻿Chapter 1\\n\\n\\nIt is a truth universally ackn...</td>\n",
       "    </tr>\n",
       "    <tr>\n",
       "      <th>0</th>\n",
       "      <td>Sense and Sensibility</td>\n",
       "      <td>0</td>\n",
       "      <td>﻿CHAPTER 1\\n\\n\\nThe family of Dashwood had lon...</td>\n",
       "    </tr>\n",
       "    <tr>\n",
       "      <th>4</th>\n",
       "      <td>Tales of Terror and Mystery</td>\n",
       "      <td>4</td>\n",
       "      <td>Contents\\n\\nTales of Terror\\n\\n  The Horror of...</td>\n",
       "    </tr>\n",
       "    <tr>\n",
       "      <th>2</th>\n",
       "      <td>The Adventures of Sherlock Holmes</td>\n",
       "      <td>2</td>\n",
       "      <td>\\n\\n   I. A Scandal in Bohemia\\n  II. The Red-...</td>\n",
       "    </tr>\n",
       "    <tr>\n",
       "      <th>2</th>\n",
       "      <td>The Hound of the Baskervilles</td>\n",
       "      <td>2</td>\n",
       "      <td>\\n\\n  CONTENTS\\n\\n  Chapter 1--Mr. Sherlock Ho...</td>\n",
       "    </tr>\n",
       "    <tr>\n",
       "      <th>3</th>\n",
       "      <td>The Life And Adventure Of Nicholas Nickleby</td>\n",
       "      <td>3</td>\n",
       "      <td>﻿\\n\\nAUTHOR’S PREFACE\\n\\n\\nThis story was begu...</td>\n",
       "    </tr>\n",
       "    <tr>\n",
       "      <th>4</th>\n",
       "      <td>The Lost World</td>\n",
       "      <td>4</td>\n",
       "      <td>\\n\\n\\n\\n                             Foreword\\...</td>\n",
       "    </tr>\n",
       "    <tr>\n",
       "      <th>3</th>\n",
       "      <td>The Pickwick Papers</td>\n",
       "      <td>3</td>\n",
       "      <td>﻿\\nCONTENTS\\n\\n\\nTHE POSTHUMOUS PAPERS OF THE ...</td>\n",
       "    </tr>\n",
       "    <tr>\n",
       "      <th>2</th>\n",
       "      <td>The Return of Sherlock Holmes</td>\n",
       "      <td>2</td>\n",
       "      <td>\\n\\n\\nCONTENTS:\\n\\n     The Adventure Of The E...</td>\n",
       "    </tr>\n",
       "    <tr>\n",
       "      <th>2</th>\n",
       "      <td>The Sign of the Four</td>\n",
       "      <td>2</td>\n",
       "      <td>\\n\\nContents\\n\\n\\n\\n\\n\\nChapter I\\n\\nThe Scien...</td>\n",
       "    </tr>\n",
       "    <tr>\n",
       "      <th>2</th>\n",
       "      <td>The Valley of Fear</td>\n",
       "      <td>2</td>\n",
       "      <td>\\nPart 1--The Tragedy of Birlstone\\n\\n\\n\\n\\nCh...</td>\n",
>>>>>>> upstream/master
       "    </tr>\n",
       "  </tbody>\n",
       "</table>\n",
       "</div>"
      ],
      "text/plain": [
       "                                         title  cluster  \\\n",
<<<<<<< HEAD
       "4                           The Valley of Fear        4   \n",
       "3                                         Emma        3   \n",
       "1                        Sense and Sensibility        1   \n",
       "2                          The Pickwick Papers        2   \n",
       "2                            Our Mutual Friend        2   \n",
       "3                                   Persuasion        3   \n",
       "1                               Mansfield Park        1   \n",
       "2                         A Tale of Two Cities        2   \n",
       "0                  Tales of Terror and Mystery        0   \n",
       "2                           Great Expectations        2   \n",
       "2  The Life And Adventure Of Nicholas Nickleby        2   \n",
       "3                             Northanger Abbey        3   \n",
       "0                               The Lost World        0   \n",
       "4                The Return of Sherlock Holmes        4   \n",
       "2                            David Copperfield        2   \n",
       "4                           A Study In Scarlet        4   \n",
       "2                                  Bleak House        2   \n",
       "2                                 Oliver Twist        2   \n",
       "4                The Hound of the Baskervilles        4   \n",
       "4            The Adventures of Sherlock Holmes        4   \n",
       "3                                   Lady Susan        3   \n",
       "2                            A Christmas Carol        2   \n",
       "4                         The Sign of the Four        4   \n",
       "3                          Pride and Prejudice        3   \n",
       "\n",
       "                                             content  \n",
       "4  \\nPart 1--The Tragedy of Birlstone\\n\\n\\n\\n\\nCh...  \n",
       "3  ﻿\\n\\nVOLUME I\\n\\n\\n\\nCHAPTER I\\n\\n\\nEmma Woodh...  \n",
       "1  ﻿CHAPTER 1\\n\\n\\nThe family of Dashwood had lon...  \n",
       "2  ﻿\\nCONTENTS\\n\\n\\nTHE POSTHUMOUS PAPERS OF THE ...  \n",
       "2  ﻿\\nCONTENTS\\n\\n\\n     Book the First\\n\\n     T...  \n",
       "3  ﻿Chapter 1\\n\\n\\nSir Walter Elliot, of Kellynch...  \n",
       "1  ﻿CHAPTER I\\n\\nAbout thirty years ago Miss Mari...  \n",
       "2  ﻿\\n\\nCONTENTS\\n\\n\\n     Book the First--Recall...  \n",
       "0  Contents\\n\\nTales of Terror\\n\\n  The Horror of...  \n",
       "2  ﻿\\nChapter I\\n\\nMy father’s family name being ...  \n",
       "2  ﻿\\n\\nAUTHOR’S PREFACE\\n\\n\\nThis story was begu...  \n",
       "3  ﻿CHAPTER 1\\n\\n\\nNo one who had ever seen Cathe...  \n",
       "0  \\n\\n\\n\\n                             Foreword\\...  \n",
       "4  \\n\\n\\nCONTENTS:\\n\\n     The Adventure Of The E...  \n",
       "2  ﻿\\nCONTENTS\\n\\n\\n     I.      I Am Born\\n     ...  \n",
       "4  A STUDY IN SCARLET.\\n\\n\\n\\n\\n\\nPART I.\\n\\n(_Be...  \n",
       "2  ﻿\\nCONTENTS\\n\\n            Preface\\n         I...  \n",
       "2  ﻿\\n\\n\\nCONTENTS\\n\\n       I  TREATS OF THE PLA...  \n",
       "4  \\n\\n  CONTENTS\\n\\n  Chapter 1--Mr. Sherlock Ho...  \n",
       "4  \\n\\n   I. A Scandal in Bohemia\\n  II. The Red-...  \n",
       "3  ﻿\\n\\nI\\n\\n\\nLADY SUSAN VERNON TO MR. VERNON\\n\\...  \n",
       "2  ﻿\\n\\nPREFACE\\n\\nI HAVE endeavoured in this Gho...  \n",
       "4  \\n\\nContents\\n\\n\\n\\n\\n\\nChapter I\\n\\nThe Scien...  \n",
       "3  ﻿Chapter 1\\n\\n\\nIt is a truth universally ackn...  "
      ]
     },
     "execution_count": 24,
=======
       "3                            A Christmas Carol        3   \n",
       "2                           A Study In Scarlet        2   \n",
       "0                         A Tale of Two Cities        0   \n",
       "3                                  Bleak House        3   \n",
       "3                            David Copperfield        3   \n",
       "3                                         Emma        3   \n",
       "3                           Great Expectations        3   \n",
       "1                                   Lady Susan        1   \n",
       "3                               Mansfield Park        3   \n",
       "1                             Northanger Abbey        1   \n",
       "3                                 Oliver Twist        3   \n",
       "3                            Our Mutual Friend        3   \n",
       "3                                   Persuasion        3   \n",
       "1                          Pride and Prejudice        1   \n",
       "0                        Sense and Sensibility        0   \n",
       "4                  Tales of Terror and Mystery        4   \n",
       "2            The Adventures of Sherlock Holmes        2   \n",
       "2                The Hound of the Baskervilles        2   \n",
       "3  The Life And Adventure Of Nicholas Nickleby        3   \n",
       "4                               The Lost World        4   \n",
       "3                          The Pickwick Papers        3   \n",
       "2                The Return of Sherlock Holmes        2   \n",
       "2                         The Sign of the Four        2   \n",
       "2                           The Valley of Fear        2   \n",
       "\n",
       "                                             content  \n",
       "3  ﻿\\n\\nPREFACE\\n\\nI HAVE endeavoured in this Gho...  \n",
       "2  A STUDY IN SCARLET.\\n\\n\\n\\n\\n\\nPART I.\\n\\n(_Be...  \n",
       "0  ﻿\\n\\nCONTENTS\\n\\n\\n     Book the First--Recall...  \n",
       "3  ﻿\\nCONTENTS\\n\\n            Preface\\n         I...  \n",
       "3  ﻿\\nCONTENTS\\n\\n\\n     I.      I Am Born\\n     ...  \n",
       "3  ﻿\\n\\nVOLUME I\\n\\n\\n\\nCHAPTER I\\n\\n\\nEmma Woodh...  \n",
       "3  ﻿\\nChapter I\\n\\nMy father’s family name being ...  \n",
       "1  ﻿\\n\\nI\\n\\n\\nLADY SUSAN VERNON TO MR. VERNON\\n\\...  \n",
       "3  ﻿CHAPTER I\\n\\nAbout thirty years ago Miss Mari...  \n",
       "1  ﻿CHAPTER 1\\n\\n\\nNo one who had ever seen Cathe...  \n",
       "3  ﻿\\n\\n\\nCONTENTS\\n\\n       I  TREATS OF THE PLA...  \n",
       "3  ﻿\\nCONTENTS\\n\\n\\n     Book the First\\n\\n     T...  \n",
       "3  ﻿Chapter 1\\n\\n\\nSir Walter Elliot, of Kellynch...  \n",
       "1  ﻿Chapter 1\\n\\n\\nIt is a truth universally ackn...  \n",
       "0  ﻿CHAPTER 1\\n\\n\\nThe family of Dashwood had lon...  \n",
       "4  Contents\\n\\nTales of Terror\\n\\n  The Horror of...  \n",
       "2  \\n\\n   I. A Scandal in Bohemia\\n  II. The Red-...  \n",
       "2  \\n\\n  CONTENTS\\n\\n  Chapter 1--Mr. Sherlock Ho...  \n",
       "3  ﻿\\n\\nAUTHOR’S PREFACE\\n\\n\\nThis story was begu...  \n",
       "4  \\n\\n\\n\\n                             Foreword\\...  \n",
       "3  ﻿\\nCONTENTS\\n\\n\\nTHE POSTHUMOUS PAPERS OF THE ...  \n",
       "2  \\n\\n\\nCONTENTS:\\n\\n     The Adventure Of The E...  \n",
       "2  \\n\\nContents\\n\\n\\n\\n\\n\\nChapter I\\n\\nThe Scien...  \n",
       "2  \\nPart 1--The Tragedy of Birlstone\\n\\n\\n\\n\\nCh...  "
      ]
     },
     "execution_count": 19,
>>>>>>> upstream/master
     "metadata": {},
     "output_type": "execute_result"
    }
   ],
   "source": [
    "# What the dataframe looks like\n",
    "resultFrame"
   ]
  },
  {
   "cell_type": "code",
   "execution_count": 20,
   "metadata": {},
   "outputs": [
    {
     "data": {
      "text/plain": [
       "3    11\n",
       "2     6\n",
       "1     3\n",
       "4     2\n",
       "0     2\n",
       "Name: cluster, dtype: int64"
      ]
     },
     "execution_count": 20,
     "metadata": {},
     "output_type": "execute_result"
    }
   ],
   "source": [
    "# Have a look at how many documents are in each cluster\n",
    "resultFrame['cluster'].value_counts()"
   ]
  },
  {
   "cell_type": "markdown",
   "metadata": {},
   "source": [
    "### Looking At the Results\n",
    "\n",
    "Before we plot lets have a more detailed look at what documents are in each category and what features that each cluster contains."
   ]
  },
  {
   "cell_type": "code",
<<<<<<< HEAD
   "execution_count": 25,
=======
   "execution_count": 21,
>>>>>>> upstream/master
   "metadata": {},
   "outputs": [
    {
     "data": {
      "text/plain": [
<<<<<<< HEAD
       "array([[21796,  3545,  6541, 12519, 12915,  3445, 17866,  3214],\n",
       "       [ 8269,  6825, 15872, 25562,  4056, 28290, 25508, 20381],\n",
       "       [23758, 13289, 23929, 19764,  9896,  1482,  6959,  3677],\n",
       "       [ 3420,  6920,  6979,   788, 27339, 13263,  3247, 13262],\n",
       "       [12043, 31004, 23698, 25155, 25156, 18005, 14521, 18331]])"
      ]
     },
     "execution_count": 25,
=======
       "array([[15872,  6825, 17751, 15903,  4056, 25508, 20381,  7580],\n",
       "       [ 3420,  6920, 27339, 13263, 13262, 13297,  5578, 11909],\n",
       "       [12043, 31004, 23698, 25155, 25156, 18005, 14521, 18331],\n",
       "       [23758, 13289,  6979,  8269,   788,  1482, 23929, 19764],\n",
       "       [21796,  3545,  6541, 12519, 12915,  3445, 17866,  3214]], dtype=int64)"
      ]
     },
     "execution_count": 21,
>>>>>>> upstream/master
     "metadata": {},
     "output_type": "execute_result"
    }
   ],
   "source": [
    "order_centroids = km.cluster_centers_.argsort()[:, ::-1]\n",
    "order_centroids[:, :8]"
   ]
  },
  {
   "cell_type": "code",
<<<<<<< HEAD
   "execution_count": 26,
=======
   "execution_count": 22,
>>>>>>> upstream/master
   "metadata": {},
   "outputs": [
    {
     "data": {
      "text/plain": [
       "1627104"
      ]
     },
<<<<<<< HEAD
     "execution_count": 26,
=======
     "execution_count": 22,
>>>>>>> upstream/master
     "metadata": {},
     "output_type": "execute_result"
    }
   ],
   "source": [
    "len(vocab_frame)\n",
    "#vocab_frame['russel']"
   ]
  },
  {
   "cell_type": "code",
<<<<<<< HEAD
   "execution_count": 27,
=======
   "execution_count": 23,
>>>>>>> upstream/master
   "metadata": {},
   "outputs": [
    {
     "name": "stdout",
     "output_type": "stream",
     "text": [
      "Top terms per cluster: \n",
      "\n",
      "Cluster 0 words:"
     ]
    },
    {
     "name": "stderr",
     "output_type": "stream",
     "text": [
<<<<<<< HEAD
      "/home/kynan/anaconda3/lib/python3.6/site-packages/ipykernel_launcher.py:19: DeprecationWarning: \n",
=======
      "C:\\Users\\zoonl\\Anaconda3\\lib\\site-packages\\ipykernel_launcher.py:19: DeprecationWarning: \n",
>>>>>>> upstream/master
      ".ix is deprecated. Please use\n",
      ".loc for label based indexing or\n",
      ".iloc for positional indexing\n",
      "\n",
      "See the documentation here:\n",
      "http://pandas.pydata.org/pandas-docs/stable/indexing.html#ix-indexer-is-deprecated\n"
     ]
    },
    {
     "name": "stdout",
     "output_type": "stream",
     "text": [
<<<<<<< HEAD
      " professor,\n",
      " challenge,\n",
      " could,\n",
      " huge,\n",
      " Indian,"
=======
      " Lucie,\n",
      " spanish,\n",
      " monsieur,\n",
      " madame,\n",
      " colonel,\n",
      " sir,\n",
      "\n",
      "\n",
      "Cluster 0 titles: A Tale of Two Cities, Sense and Sensibility,\n",
      "\n",
      "Cluster 1 words:"
>>>>>>> upstream/master
     ]
    },
    {
     "name": "stderr",
     "output_type": "stream",
     "text": [
<<<<<<< HEAD
      "/home/kynan/anaconda3/lib/python3.6/site-packages/ipykernel_launcher.py:36: DeprecationWarning: \n",
=======
      "C:\\Users\\zoonl\\Anaconda3\\lib\\site-packages\\ipykernel_launcher.py:36: DeprecationWarning: \n",
>>>>>>> upstream/master
      ".ix is deprecated. Please use\n",
      ".loc for label based indexing or\n",
      ".iloc for positional indexing\n",
      "\n",
      "See the documentation here:\n",
      "http://pandas.pydata.org/pandas-docs/stable/indexing.html#ix-indexer-is-deprecated\n"
     ]
    },
    {
     "name": "stdout",
     "output_type": "stream",
     "text": [
<<<<<<< HEAD
      "\n",
      " cave,\n",
      "\n",
      "\n",
      "Cluster 0 titles: Tales of Terror and Mystery, The Lost World,\n",
      "\n",
      "Cluster 1 words: Fanny,\n",
      " rise,\n",
      " Lucy,\n",
      " sir,\n",
      " colonel,\n",
      " agre,\n",
      "\n",
      "\n",
      "Cluster 1 titles: Sense and Sensibility, Mansfield Park,\n",
      "\n",
      "Cluster 2 words: said,\n",
      " Joe,\n",
      " Sam,\n",
      " olive,\n",
      " ghost,\n",
      " aunt,\n",
      "\n",
      "\n",
      "Cluster 2 titles: The Pickwick Papers, Our Mutual Friend, A Tale of Two Cities, Great Expectations, The Life And Adventure Of Nicholas Nickleby, David Copperfield, Bleak House, Oliver Twist, A Christmas Carol,\n",
      "\n",
      "Cluster 3 words: Catherine,\n",
      " Elizabeth,\n",
      " Emma,\n",
      " Anne,\n",
      " hous,\n",
      " Jane,\n",
      "\n",
      "\n",
      "Cluster 3 titles: Emma, Persuasion, Northanger Abbey, Lady Susan, Pride and Prejudice,\n",
      "\n",
      "Cluster 4 words: Holmes,\n",
      " gentility.,\n",
      " said,\n",
      " come,\n",
      " ten,\n",
      " job,\n",
      "\n",
      "\n",
      "Cluster 4 titles: The Valley of Fear, The Return of Sherlock Holmes, A Study In Scarlet, The Hound of the Baskervilles, The Adventures of Sherlock Holmes, The Sign of the Four,\n",
=======
      " Catherine,\n",
      " Elizabeth,\n",
      " seal,\n",
      " Jane,\n",
      " ask,\n",
      " i,\n",
      "\n",
      "\n",
      "Cluster 1 titles: Lady Susan, Northanger Abbey, Pride and Prejudice,\n",
      "\n",
      "Cluster 2 words: Holmes,\n",
      " death,\n",
      " said,\n",
      " face,\n",
      " face,\n",
      " ring,\n",
      "\n",
      "\n",
      "Cluster 2 titles: A Study In Scarlet, The Adventures of Sherlock Holmes, The Hound of the Baskervilles, The Return of Sherlock Holmes, The Sign of the Four, The Valley of Fear,\n",
      "\n",
      "Cluster 3 words: said,\n",
      " Joe,\n",
      " Emma,\n",
      " Fanny,\n",
      " Anne,\n",
      " aunts,\n",
      "\n",
      "\n",
      "Cluster 3 titles: A Christmas Carol, Bleak House, David Copperfield, Emma, Great Expectations, Mansfield Park, Oliver Twist, Our Mutual Friend, Persuasion, The Life And Adventure Of Nicholas Nickleby, The Pickwick Papers,\n",
      "\n",
      "Cluster 4 words: professor,\n",
      " challenge,\n",
      " never,\n",
      " huge,\n",
      " Indian,\n",
      " cave,\n",
      "\n",
      "\n",
      "Cluster 4 titles: Tales of Terror and Mystery, The Lost World,\n",
>>>>>>> upstream/master
      "\n"
     ]
    }
   ],
   "source": [
    "print(\"Top terms per cluster: \\n\")\n",
    "\n",
    "# Cluster the centers by how close they are to the centroid\n",
    "order_centroids = km.cluster_centers_.argsort()[:, ::-1]\n",
    "\n",
    "# Store the clustered terms\n",
    "clusterTerm = []\n",
    "\n",
    "# For the amount of clusters\n",
    "for i in range(num_clusters):\n",
    "    print(\"Cluster %d words:\" % i, end='')\n",
    "\n",
    "    term = ''\n",
    "    # Get the top 6 words index in each cluster \n",
    "    for ind in order_centroids[i, :6]:\n",
    "        \n",
    "        # Search the vocab_frame (the dictionary with the original non-stem words)\n",
    "        # Save that into title\n",
    "        title = vocab_frame.ix[terms[ind].split(' ')].values.tolist()[0][0]\n",
    "        \n",
    "        # Try printing the title\n",
    "        try:\n",
    "            print(\" \" + title + \",\")\n",
    "            term = term + title + \", \"\n",
    "        # If it is unable to print the word found at the index \n",
    "        except:\n",
    "            print(\" \" + vocab_frame.index[ind] + \",\")\n",
    "            term = term + vocab_frame.index[ind] + \", \"\n",
    "\n",
    "    # Begin printing the titles of each cluster\n",
    "    print(\"\\n\")\n",
    "    print(\"Cluster %d titles:\" % i, end='')\n",
    "\n",
    "    # Print all the titles \n",
    "    try:\n",
    "        for title in resultFrame.ix[i]['title'].values.tolist():\n",
    "            print(' %s,' % title, end='')\n",
    "    except:\n",
    "        print (' %s' % resultFrame.ix[i]['title'], end = '')\n",
    "        \n",
    "    # Append the terms (this is to be used later when we display words of each cluster)\n",
    "    clusterTerm.append(term)\n",
    "    print(\"\\n\")"
   ]
  },
  {
   "cell_type": "markdown",
   "metadata": {
    "collapsed": true
   },
   "source": [
    "# Multidimensional Scaling (MDS)\n",
    "\n",
    "There are different choices out there to convert the distance matric into a 2-D array. Therefore, this notebook will look at Multidimensional Scaling (MDS) for converting the distance matric. \n",
    "\n",
    "MDS can be considered an alternative to factor analysis  In general, the goal of the analysis is to detect meaningful, underlying dimensions to explain the observed distances between the investigated objects.\n",
    "\n",
    "To find out more on either, see their respective links: https://en.wikipedia.org/wiki/Multidimensional_scaling "
   ]
  },
  {
   "cell_type": "code",
<<<<<<< HEAD
   "execution_count": 28,
=======
   "execution_count": 24,
>>>>>>> upstream/master
   "metadata": {
    "collapsed": true
   },
   "outputs": [],
   "source": [
    "# Initialize MSD\n",
    "MDS()\n",
    "\n",
    "# two components as we're plotting points in a two-dimensional plane\n",
    "# \"precomputed\" because we provide a distance matrix\n",
    "# we will also specify `random_state` so the plot is reproducible.\n",
    "mds = MDS(n_components=2, dissimilarity=\"precomputed\", random_state=1)\n",
    "\n",
    "# Fit the model to the distance matrix\n",
    "pos = mds.fit_transform(dist)  \n",
    "\n",
    "# Save the results\n",
    "MSDxs, MSDys = pos[:, 0], pos[:, 1]"
   ]
  },
  {
   "cell_type": "markdown",
   "metadata": {
    "collapsed": true
   },
   "source": [
    "# Setting up Graph Information\n",
    "\n",
    "Now that we have completed the data gathering and process portion, we will move onto declaring some variables to graph. The first step is to set up colours to separate the categories and their names."
   ]
  },
  {
   "cell_type": "code",
<<<<<<< HEAD
   "execution_count": 30,
=======
   "execution_count": 25,
>>>>>>> upstream/master
   "metadata": {
    "collapsed": true
   },
   "outputs": [],
   "source": [
    "# Set up colors per clusters using a dict\n",
    "cluster_colors = {0: '#1b9e77', 1: '#d95f02', 2: '#7570b3', 3: '#e7298a', 4:'#ff0000'}\n",
    "\n",
    "cluster_names = {}\n",
    "\n",
    "# Set up cluster names using a dict\n",
    "cluster_names = {0: clusterTerm[0], \n",
    "                 1: clusterTerm[1], \n",
    "                 2: clusterTerm[2], \n",
    "                 3: clusterTerm[3], \n",
    "                 4: clusterTerm[4]}"
   ]
  },
  {
   "cell_type": "markdown",
   "metadata": {},
   "source": [
    "# Producing Graph\n",
    "\n",
    "Since we have converted the distance using two different metrics (MSD and PCA) we are going to create a new function that is going to plot both."
   ]
  },
  {
   "cell_type": "code",
<<<<<<< HEAD
   "execution_count": 31,
=======
   "execution_count": 26,
>>>>>>> upstream/master
   "metadata": {
    "collapsed": true,
    "scrolled": false
   },
   "outputs": [],
   "source": [
    "def create_graph(xs, ys):\n",
    "\n",
    "    # Create data frame that has the result of the MDS plus the cluster numbers and titles\n",
    "    df = pd.DataFrame(dict(x=xs, y=ys, label=clusters, title=textName)) \n",
    "\n",
    "    # Group by cluster\n",
    "    groups = df.groupby('label')\n",
    "\n",
    "    # Set up plot\n",
    "    fig, ax = plt.subplots(figsize=(17, 9)) # set size\n",
    "\n",
    "    # Iterate through groups to layer the plot\n",
    "    # Note that I use the cluster_name and cluster_color dicts with the 'name' lookup to return the appropriate color/label\n",
    "    for name, group in groups:\n",
    "        ax.plot(group.x, group.y, marker='o', linestyle='', ms=12, label=cluster_names[name], color=cluster_colors[name], mec='none')\n",
    "        ax.set_aspect('auto')\n",
    "        ax.tick_params(\\\n",
    "            axis= 'x',         # changes apply to the x-axis\n",
    "            which='both',      # both major and minor ticks are affected\n",
    "            bottom='off',      # ticks along the bottom edge are off\n",
    "            top='off',         # ticks along the top edge are off\n",
    "            labelbottom='off')\n",
    "        ax.tick_params(\\\n",
    "            axis= 'y',         # changes apply to the y-axis\n",
    "            which='both',      # both major and minor ticks are affected\n",
    "            left='off',        # ticks along the bottom edge are off\n",
    "            top='off',         # ticks along the top edge are off\n",
    "            labelleft='off')\n",
    "\n",
    "     # Show legend with only 1 point\n",
    "    ax.legend(numpoints=1)\n",
    "\n",
    "    # Add label to x, y position for the book titles \n",
    "    for i in range(len(df)):\n",
    "        ax.text(df.ix[i]['x'], df.ix[i]['y'], df.ix[i]['title'], size=8)  \n",
    "\n",
    "    # Display graph\n",
    "    plt.show()\n",
    "\n",
    "    # If you want to save the plot created uncomment the line below and replace \"_insertName_\" with a filename \n",
    "    #plt.savefig('_insertName_.png', dpi=200)"
   ]
  },
  {
   "cell_type": "markdown",
   "metadata": {},
   "source": [
    "# Graphing MDS"
   ]
  },
  {
   "cell_type": "code",
<<<<<<< HEAD
   "execution_count": 32,
=======
   "execution_count": 27,
>>>>>>> upstream/master
   "metadata": {},
   "outputs": [
    {
     "name": "stderr",
     "output_type": "stream",
     "text": [
<<<<<<< HEAD
      "/home/kynan/anaconda3/lib/python3.6/site-packages/ipykernel_launcher.py:33: DeprecationWarning: \n",
=======
      "C:\\Users\\zoonl\\Anaconda3\\lib\\site-packages\\ipykernel_launcher.py:33: DeprecationWarning: \n",
>>>>>>> upstream/master
      ".ix is deprecated. Please use\n",
      ".loc for label based indexing or\n",
      ".iloc for positional indexing\n",
      "\n",
      "See the documentation here:\n",
      "http://pandas.pydata.org/pandas-docs/stable/indexing.html#ix-indexer-is-deprecated\n"
     ]
    },
    {
     "data": {
<<<<<<< HEAD
      "image/png": "iVBORw0KGgoAAAANSUhEUgAAA8oAAAH+CAYAAABEG/emAAAABHNCSVQICAgIfAhkiAAAAAlwSFlz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\nAElFTkSuQmCC\n",
      "text/plain": [
       "<matplotlib.figure.Figure at 0x7f108c1b5ba8>"
=======
      "image/png": "iVBORw0KGgoAAAANSUhEUgAAA8oAAAH+CAYAAABEG/emAAAABHNCSVQICAgIfAhkiAAAAAlwSFlz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\nEQ8KlEVEREREREQ8/D/Zd7n1w7svHwAAAABJRU5ErkJggg==\n",
      "text/plain": [
       "<matplotlib.figure.Figure at 0x1962272d7f0>"
>>>>>>> upstream/master
      ]
     },
     "metadata": {},
     "output_type": "display_data"
    }
   ],
   "source": [
    "# Graph MSD\n",
    "create_graph(MSDxs,MSDys)"
   ]
  },
  {
   "cell_type": "markdown",
   "metadata": {},
   "source": [
    "# Graph with A Dendrogram\n",
    "\n",
    "We could also gain additonal insight into the clusters by graphing the results from our distance matrix on a dendrogram."
   ]
  },
  {
   "cell_type": "code",
<<<<<<< HEAD
   "execution_count": 33,
=======
   "execution_count": 28,
>>>>>>> upstream/master
   "metadata": {},
   "outputs": [
    {
     "data": {
<<<<<<< HEAD
      "image/png": "iVBORw0KGgoAAAANSUhEUgAABD0AAARUCAYAAAB1D2jqAAAABHNCSVQICAgIfAhkiAAAAAlwSFlz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\nAAAASUVORK5CYII=\n",
      "text/plain": [
       "<matplotlib.figure.Figure at 0x7f10728ceac8>"
=======
      "image/png": "iVBORw0KGgoAAAANSUhEUgAABD0AAARUCAYAAAB1D2jqAAAABHNCSVQICAgIfAhkiAAAAAlwSFlz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\nJEmSJPWSoYckSZIkSeql/w8mxU6kI2cUMQAAAABJRU5ErkJggg==\n",
      "text/plain": [
       "<matplotlib.figure.Figure at 0x196237170f0>"
>>>>>>> upstream/master
      ]
     },
     "metadata": {},
     "output_type": "display_data"
    }
   ],
   "source": [
    "# Define a linkage_matrix using ward clustering pre-computed distances\n",
    "linkage_matrix = ward(dist) \n",
    "\n",
    "# Set size of the graph\n",
    "fig, ax = plt.subplots(figsize=(15, 20))\n",
    "\n",
    "# Set the graph type and other labels\n",
    "ax = dendrogram(linkage_matrix, orientation=\"right\", labels=textName);\n",
    "\n",
    "plt.tick_params(\n",
    "    axis= 'x',         # changes apply to the x-axis\n",
    "    which='both',      # both major and minor ticks are affected\n",
    "    bottom='off',      # ticks along the bottom edge are off\n",
    "    top='off',         # ticks along the top edge are off\n",
    "    labelbottom='off')\n",
    "\n",
    "# Display Matrix\n",
    "plt.show()\n",
    "\n",
    "# To save figure, uncomment the line below and replace \"_insertName_\" with the filename\n",
    "#plt.savefig('_insertName'.png', dpi=200) "
   ]
  },
  {
   "cell_type": "markdown",
   "metadata": {},
   "source": [
    "# Conclusion\n",
    "\n",
    "This notebook went over a couple of different topics. How to clean a text, clustering the documents based on tf-idf, and finally using MSD to visualize how related they are with each.\n",
    "\n",
    "This Notebook was created, modified, and expanded from Brandon IPython Notebook. They can be found here:\n",
    "https://github.com/brandomr/document_cluster and\n",
    "http://brandonrose.org/clustering "
   ]
  }
 ],
 "metadata": {
  "kernelspec": {
   "display_name": "Python 3",
   "language": "python",
   "name": "python3"
  },
  "language_info": {
   "codemirror_mode": {
    "name": "ipython",
    "version": 3
   },
   "file_extension": ".py",
   "mimetype": "text/x-python",
   "name": "python",
   "nbconvert_exporter": "python",
   "pygments_lexer": "ipython3",
   "version": "3.6.3"
  }
 },
 "nbformat": 4,
 "nbformat_minor": 2
}
